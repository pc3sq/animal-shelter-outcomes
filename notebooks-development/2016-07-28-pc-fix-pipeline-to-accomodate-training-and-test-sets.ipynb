{
 "cells": [
  {
   "cell_type": "code",
   "execution_count": 2,
   "metadata": {
    "collapsed": true
   },
   "outputs": [],
   "source": [
    "import pandas as pd, numpy as np, sys"
   ]
  },
  {
   "cell_type": "code",
   "execution_count": 3,
   "metadata": {
    "collapsed": false
   },
   "outputs": [],
   "source": [
    "# add main directory to path in order to import other parts of the shelter animal outcomes project\n",
    "sys.path.extend(['/Users/pc3sq/Google Drive/Data Science Library/!notebooks/shelter animal outcomes kaggle/'])"
   ]
  },
  {
   "cell_type": "code",
   "execution_count": 4,
   "metadata": {
    "collapsed": true
   },
   "outputs": [],
   "source": [
    "from src.extract_color import multi_dog, multi_cat, patterned_dog, patterned_cat"
   ]
  },
  {
   "cell_type": "code",
   "execution_count": 5,
   "metadata": {
    "collapsed": true
   },
   "outputs": [],
   "source": [
    "# # old treat_nulls() and transform_pipeline()\n",
    "# import pandas as pd, numpy as np\n",
    "# from .extract_color import multi_dog, multi_cat, patterned_dog, patterned_cat\n",
    "\n",
    "# def treat_nulls(df):\n",
    "#     dframe = df.copy()\n",
    "#     dframe['Name'] = dframe['Name'].fillna(value=\"noName\")\n",
    "#     dframe['OutcomeSubtype'] = dframe['OutcomeSubtype'].fillna(value=\"noSubOutcome\")\n",
    "#     dframe = dframe.dropna(subset=['AgeuponOutcome'])\n",
    "#     dframe = dframe[dframe['AgeuponOutcome'] != '0 years']\n",
    "#     dframe['SexuponOutcome'] = dframe['SexuponOutcome'].fillna(value='Unknown')\n",
    "#     dframe = dframe[dframe['SexuponOutcome']!='Unknown']\n",
    "\n",
    "#     if np.any(dframe.isnull() > 0):\n",
    "#         for col in dframe.columns:\n",
    "#             if sum(dframe[col].isnull()) > 0:\n",
    "#                 print \"%s contains %d nulls\" %(col, sum(dframe[col].isnull()))\n",
    "#     else:\n",
    "#         return dframe\n",
    "\n",
    "# def age_to_days(age_str):\n",
    "#     age_val = int(str(age_str).split()[0])\n",
    "\n",
    "#     if \"day\" in age_str or \"days\" in \"age_str\":\n",
    "#         return age_val\n",
    "#     elif \"week\" in age_str or \"weeks\" in \"age_str\":\n",
    "#         return age_val * 7\n",
    "#     elif \"month\" in age_str or \"months\" in \"age_str\":\n",
    "#         return age_val * 30\n",
    "#     elif \"year\" in age_str or \"years\" in \"age_str\":\n",
    "#         return age_val * 365\n",
    "#     else:\n",
    "#         return \"unknownAge\"\n",
    "        \n",
    "# def transform_pipeline(df):\n",
    "#     dframe = df.copy()\n",
    "\n",
    "#     # extract Dog or not dog from AnimalType\n",
    "#     dframe['Dog'] = dframe['AnimalType'].apply(lambda specie: 1 if specie==\"Dog\" else 0)\n",
    "\n",
    "#     # extract mixed vs. pure for Breed\n",
    "#     dframe['pureBreed'] = dframe['Breed'].apply(lambda breed: 0 if \"Mix\" in breed or \"/\" in breed else 1)\n",
    "\n",
    "#     # extract hasName from Name\n",
    "#     dframe['hasName'] = dframe['Name'].apply(lambda name: 0 if name==\"noName\" else 1)\n",
    "\n",
    "#     # extract Multi-colored from Color for dogs and cats\n",
    "#     dframe['Multi-Colored'] = [multi_dog(row['Color']) if row['Dog']==1 else multi_cat(row['Color']) for i, row in dframe.iterrows()]\n",
    "\n",
    "#     # extract Patterned from Color for dogs and cats\n",
    "#     dframe['Patterned'] = [patterned_dog(row['Color']) if row['Dog']==1 else patterned_cat(row['Color']) for i, row in dframe.iterrows()]\n",
    "\n",
    "#     # convert all values in AgeuponOutcome to days\n",
    "#     dframe['AgeuponOutcome'] = dframe['AgeuponOutcome'].apply(age_to_days)\n",
    "\n",
    "#     # get dummies for non-binary categorical variables\n",
    "#     categoricals = ['SexuponOutcome']\n",
    "#     dframe = pd.get_dummies(dframe, columns=categoricals)\n",
    "\n",
    "#     # return only select columns\n",
    "#     # dropping OutcomeSubtype due to target leakage\n",
    "#     return dframe.drop(['AnimalID', 'AnimalType', 'Breed', 'Name', 'DateTime', 'Color'], axis=1)\n"
   ]
  },
  {
   "cell_type": "code",
   "execution_count": 6,
   "metadata": {
    "collapsed": true
   },
   "outputs": [],
   "source": [
    "train = pd.read_csv('../data/train.csv')"
   ]
  },
  {
   "cell_type": "code",
   "execution_count": 7,
   "metadata": {
    "collapsed": true
   },
   "outputs": [],
   "source": [
    "age = train.copy()"
   ]
  },
  {
   "cell_type": "markdown",
   "metadata": {},
   "source": [
    "## Fill AgeuponOutcome Nulls w/ \"0\""
   ]
  },
  {
   "cell_type": "code",
   "execution_count": 8,
   "metadata": {
    "collapsed": false
   },
   "outputs": [],
   "source": [
    "age['AgeuponOutcome'] = age['AgeuponOutcome'].fillna(value=\"0\")"
   ]
  },
  {
   "cell_type": "code",
   "execution_count": 10,
   "metadata": {
    "collapsed": false
   },
   "outputs": [
    {
     "data": {
      "text/plain": [
       "0"
      ]
     },
     "execution_count": 10,
     "metadata": {},
     "output_type": "execute_result"
    }
   ],
   "source": [
    "# check no nulls left in AgeuponOutcome\n",
    "sum(age['AgeuponOutcome'].isnull())"
   ]
  },
  {
   "cell_type": "markdown",
   "metadata": {},
   "source": [
    "## Extract ageInDaysAtOutcome from AgeInDaysAtOutcome"
   ]
  },
  {
   "cell_type": "code",
   "execution_count": 11,
   "metadata": {
    "collapsed": true
   },
   "outputs": [],
   "source": [
    "# add new conditionals to age_to_days()\n",
    "def age_to_days(age_str):\n",
    "    age_val = int(str(age_str).split()[0])\n",
    "\n",
    "    if \"day\" in age_str or \"days\" in \"age_str\":\n",
    "        return age_val\n",
    "    elif \"week\" in age_str or \"weeks\" in \"age_str\":\n",
    "        return age_val * 7\n",
    "    elif \"month\" in age_str or \"months\" in \"age_str\":\n",
    "        return age_val * 30\n",
    "    elif \"year\" in age_str or \"years\" in \"age_str\":\n",
    "        return age_val * 365\n",
    "    elif age_str == \"0\" or \"0 years\": # new conditional\n",
    "        return 0\n",
    "    else:\n",
    "        return \"unknownAge\""
   ]
  },
  {
   "cell_type": "code",
   "execution_count": 15,
   "metadata": {
    "collapsed": true
   },
   "outputs": [],
   "source": [
    "# create ageInDaysAtOutcome from AgeuponOutcome\n",
    "age['ageInDaysAtOutcome'] = age['AgeuponOutcome'].apply(age_to_days)"
   ]
  },
  {
   "cell_type": "code",
   "execution_count": 13,
   "metadata": {
    "collapsed": false
   },
   "outputs": [
    {
     "data": {
      "text/plain": [
       "dtype('int64')"
      ]
     },
     "execution_count": 13,
     "metadata": {},
     "output_type": "execute_result"
    }
   ],
   "source": [
    "# check all values in ageInDaysAtOutcome are integers\n",
    "age['ageInDaysAtOutcome'].dtype"
   ]
  },
  {
   "cell_type": "code",
   "execution_count": 14,
   "metadata": {
    "collapsed": false
   },
   "outputs": [
    {
     "data": {
      "text/plain": [
       "0"
      ]
     },
     "execution_count": 14,
     "metadata": {},
     "output_type": "execute_result"
    }
   ],
   "source": [
    "# any nulls in ageInDaysAtOutcome\n",
    "sum(age['ageInDaysAtOutcome'].isnull())"
   ]
  },
  {
   "cell_type": "markdown",
   "metadata": {},
   "source": [
    "## Extract hasAge from AgeuponOutcome"
   ]
  },
  {
   "cell_type": "code",
   "execution_count": 16,
   "metadata": {
    "collapsed": false
   },
   "outputs": [],
   "source": [
    "# create new hasAge feature from AgeuponOutcome\n",
    "age['hasAge'] = age['ageInDaysAtOutcome'].apply(lambda age: 0 if age==0 else 1)"
   ]
  },
  {
   "cell_type": "markdown",
   "metadata": {},
   "source": [
    "## Apply the Mean of ageInDaysAtOutcome to all 0 values"
   ]
  },
  {
   "cell_type": "code",
   "execution_count": 17,
   "metadata": {
    "collapsed": true
   },
   "outputs": [],
   "source": [
    "# calculate mean age in days without 0s\n",
    "mean_age_in_days_no_0s = (age[age['ageInDaysAtOutcome'] > 0]).mean().values[0]"
   ]
  },
  {
   "cell_type": "code",
   "execution_count": 18,
   "metadata": {
    "collapsed": false
   },
   "outputs": [
    {
     "name": "stdout",
     "output_type": "stream",
     "text": [
      "793.595981892\n",
      "794.785379744\n"
     ]
    }
   ],
   "source": [
    "# age avg around 2.17 years seems reasonable; will be using mean age in days without 0s\n",
    "print age['ageInDaysAtOutcome'].mean() # mean with 0s\n",
    "print mean_age_in_days_no_0s # mean without 0s"
   ]
  },
  {
   "cell_type": "code",
   "execution_count": 19,
   "metadata": {
    "collapsed": false
   },
   "outputs": [
    {
     "name": "stdout",
     "output_type": "stream",
     "text": [
      "0\n"
     ]
    }
   ],
   "source": [
    "# check observations with AgeuponOutcome == \"0\" and \"0 years\" has hasAge == 0\n",
    "print sum(age[(age['AgeuponOutcome']==\"0\") & (age['AgeuponOutcome']==\"0 years\")]['hasAge'] == 1)"
   ]
  },
  {
   "cell_type": "code",
   "execution_count": 20,
   "metadata": {
    "collapsed": false
   },
   "outputs": [
    {
     "name": "stdout",
     "output_type": "stream",
     "text": [
      "0\n"
     ]
    }
   ],
   "source": [
    "# check observations with AgeuponOutcome != \"0\" and \"0 years\" has hasAge == 1\n",
    "print sum(age[(age['AgeuponOutcome']!=\"0\") & (age['AgeuponOutcome']!=\"0 years\")]['hasAge'] == 0)"
   ]
  },
  {
   "cell_type": "code",
   "execution_count": 21,
   "metadata": {
    "collapsed": false
   },
   "outputs": [],
   "source": [
    "# fill 0s in ageInDaysAtOutcome with mean_age_in_days_no_0s\n",
    "age['ageInDaysAtOutcome'] = age['ageInDaysAtOutcome'].apply(lambda age: mean_age_in_days_no_0s if age==0 else age)"
   ]
  },
  {
   "cell_type": "code",
   "execution_count": 22,
   "metadata": {
    "collapsed": false
   },
   "outputs": [
    {
     "name": "stdout",
     "output_type": "stream",
     "text": [
      "0\n"
     ]
    }
   ],
   "source": [
    "# check mean_age_in_days_no_0s replaced only observations with hasAge==0\n",
    "print sum(age[age['ageInDaysAtOutcome']==mean_age_in_days_no_0s]['hasAge']==1)"
   ]
  },
  {
   "cell_type": "code",
   "execution_count": null,
   "metadata": {
    "collapsed": true
   },
   "outputs": [],
   "source": []
  },
  {
   "cell_type": "code",
   "execution_count": null,
   "metadata": {
    "collapsed": true
   },
   "outputs": [],
   "source": []
  },
  {
   "cell_type": "code",
   "execution_count": null,
   "metadata": {
    "collapsed": true
   },
   "outputs": [],
   "source": []
  },
  {
   "cell_type": "markdown",
   "metadata": {},
   "source": [
    "# New Cleaning & Transformation Pipelines"
   ]
  },
  {
   "cell_type": "code",
   "execution_count": 23,
   "metadata": {
    "collapsed": true
   },
   "outputs": [],
   "source": [
    "def cleaning_pipeline(df):\n",
    "    dframe = df.copy()\n",
    "    \n",
    "    if 'OutcomeSubtype' in dframe.columns:\n",
    "        dframe = dframe.drop(['OutcomeSubtype'], axis=1)\n",
    "    \n",
    "    print dframe.columns\n",
    "\n",
    "    dframe['Name'] = dframe['Name'].fillna(value=\"noName\")\n",
    "\n",
    "    # simply fillna with \"0\" for AgeuponOutcome\n",
    "    dframe['AgeuponOutcome'] = dframe['AgeuponOutcome'].fillna(value=\"0\")\n",
    "\n",
    "    # no longer dropping \"Unknown\" in SexuponOutcome\n",
    "    dframe['SexuponOutcome'] = dframe['SexuponOutcome'].fillna(value='Unknown')\n",
    "\n",
    "    if np.any(dframe.isnull() > 0):\n",
    "        for col in dframe.columns:\n",
    "            if sum(dframe[col].isnull()) > 0:\n",
    "                print \"%s contains %d nulls\" %(col, sum(dframe[col].isnull()))\n",
    "    else:\n",
    "        return dframe\n",
    "\n",
    "def age_to_days(age_str):\n",
    "    age_val = int(str(age_str).split()[0])\n",
    "\n",
    "    if \"day\" in age_str or \"days\" in \"age_str\":\n",
    "        return age_val\n",
    "    elif \"week\" in age_str or \"weeks\" in \"age_str\":\n",
    "        return age_val * 7\n",
    "    elif \"month\" in age_str or \"months\" in \"age_str\":\n",
    "        return age_val * 30\n",
    "    elif \"year\" in age_str or \"years\" in \"age_str\":\n",
    "        return age_val * 365\n",
    "    elif age_str == \"0\" or \"0 years\": # new conditional\n",
    "        return 0\n",
    "    else:\n",
    "        return \"unknownAge\"\n",
    "\n",
    "def transform_pipeline(df, test_set=True):\n",
    "    dframe = df.copy()\n",
    "    \n",
    "    #new treatment of AgeuponOutcome\n",
    "    # create new ageInDaysAtOutcome from AgeuponOutcome\n",
    "    dframe['ageInDaysAtOutcome'] = dframe['AgeuponOutcome'].apply(age_to_days) \n",
    "    # calculate mean age in days without 0s\n",
    "    mean_age_in_days_no_0s = (dframe[dframe['ageInDaysAtOutcome'] > 0]).mean().values[0] \n",
    "    # create new hasAge feature from AgeuponOutcome\n",
    "    dframe['hasAge'] = dframe['ageInDaysAtOutcome'].apply(lambda age: 0 if age==0 else 1)\n",
    "    # fill 0s in ageInDaysAtOutcome with mean_age_in_days_no_0s\n",
    "    dframe['ageInDaysAtOutcome'] = dframe['ageInDaysAtOutcome'].apply(lambda age: mean_age_in_days_no_0s if age==0 else age)\n",
    "    \n",
    "    # extract Dog or not dog from AnimalType\n",
    "    dframe['Dog'] = dframe['AnimalType'].apply(lambda specie: 1 if specie==\"Dog\" else 0)\n",
    "\n",
    "    # extract mixed vs. pure for Breed\n",
    "    dframe['pureBreed'] = dframe['Breed'].apply(lambda breed: 0 if \"Mix\" in breed or \"/\" in breed else 1)\n",
    "\n",
    "    # extract hasName from Name\n",
    "    dframe['hasName'] = dframe['Name'].apply(lambda name: 0 if name==\"noName\" else 1)\n",
    "\n",
    "    # extract Multi-colored from Color for dogs and cats\n",
    "    dframe['Multi-Colored'] = [multi_dog(row['Color']) if row['Dog']==1 else multi_cat(row['Color']) for i, row in dframe.iterrows()]\n",
    "\n",
    "    # extract Patterned from Color for dogs and cats\n",
    "    dframe['Patterned'] = [patterned_dog(row['Color']) if row['Dog']==1 else patterned_cat(row['Color']) for i, row in dframe.iterrows()]\n",
    "\n",
    "    # convert all values in AgeuponOutcome to days\n",
    "    dframe['AgeuponOutcome'] = dframe['AgeuponOutcome'].apply(age_to_days)\n",
    "\n",
    "    # get dummies for non-binary categorical variables\n",
    "    categoricals = ['SexuponOutcome']\n",
    "    dframe = pd.get_dummies(dframe, columns=categoricals)\n",
    "\n",
    "    # return only select columns\n",
    "    if test_set:\n",
    "        return dframe.drop(['AnimalType', 'Breed', 'Name', 'DateTime', 'Color'], axis=1)\n",
    "    else:\n",
    "        # dropping OutcomeSubtype due to target leakage\n",
    "        return dframe.drop(['AnimalID', 'AnimalType', 'Breed', 'Name', 'DateTime', 'Color'], axis=1)"
   ]
  },
  {
   "cell_type": "markdown",
   "metadata": {},
   "source": [
    "# Test New Pipeline"
   ]
  },
  {
   "cell_type": "code",
   "execution_count": 24,
   "metadata": {
    "collapsed": false
   },
   "outputs": [
    {
     "name": "stdout",
     "output_type": "stream",
     "text": [
      "Index([u'AnimalID', u'Name', u'DateTime', u'OutcomeType', u'AnimalType',\n",
      "       u'SexuponOutcome', u'AgeuponOutcome', u'Breed', u'Color'],\n",
      "      dtype='object')\n"
     ]
    }
   ],
   "source": [
    "clean_test = cleaning_pipeline(train)"
   ]
  },
  {
   "cell_type": "code",
   "execution_count": 25,
   "metadata": {
    "collapsed": false
   },
   "outputs": [],
   "source": [
    "transform_test = transform_pipeline(clean_test, test_set=False)"
   ]
  },
  {
   "cell_type": "code",
   "execution_count": 26,
   "metadata": {
    "collapsed": false
   },
   "outputs": [
    {
     "data": {
      "text/plain": [
       "Index([u'OutcomeType', u'AgeuponOutcome', u'ageInDaysAtOutcome', u'hasAge',\n",
       "       u'Dog', u'pureBreed', u'hasName', u'Multi-Colored', u'Patterned',\n",
       "       u'SexuponOutcome_Intact Female', u'SexuponOutcome_Intact Male',\n",
       "       u'SexuponOutcome_Neutered Male', u'SexuponOutcome_Spayed Female',\n",
       "       u'SexuponOutcome_Unknown'],\n",
       "      dtype='object')"
      ]
     },
     "execution_count": 26,
     "metadata": {},
     "output_type": "execute_result"
    }
   ],
   "source": [
    "transform_test.columns"
   ]
  },
  {
   "cell_type": "code",
   "execution_count": 27,
   "metadata": {
    "collapsed": false
   },
   "outputs": [],
   "source": [
    "## save to data folder\n",
    "# transform_test.to_csv('../data/shelter-transform-2016-07-28.csv', index=False)"
   ]
  },
  {
   "cell_type": "code",
   "execution_count": null,
   "metadata": {
    "collapsed": true
   },
   "outputs": [],
   "source": []
  }
 ],
 "metadata": {
  "kernelspec": {
   "display_name": "Python 2",
   "language": "python",
   "name": "python2"
  },
  "language_info": {
   "codemirror_mode": {
    "name": "ipython",
    "version": 2
   },
   "file_extension": ".py",
   "mimetype": "text/x-python",
   "name": "python",
   "nbconvert_exporter": "python",
   "pygments_lexer": "ipython2",
   "version": "2.7.11"
  }
 },
 "nbformat": 4,
 "nbformat_minor": 0
}
