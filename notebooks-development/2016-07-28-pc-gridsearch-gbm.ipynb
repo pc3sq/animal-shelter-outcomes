{
 "cells": [
  {
   "cell_type": "code",
   "execution_count": 36,
   "metadata": {
    "collapsed": true
   },
   "outputs": [],
   "source": [
    "import pandas as pd, sys, time\n",
    "from sklearn import cross_validation\n",
    "from sklearn.ensemble import GradientBoostingClassifier\n",
    "from sklearn.metrics import log_loss\n",
    "from sklearn.grid_search import GridSearchCV\n",
    "from sklearn.externals import joblib"
   ]
  },
  {
   "cell_type": "code",
   "execution_count": 37,
   "metadata": {
    "collapsed": false
   },
   "outputs": [],
   "source": [
    "# add main directory to path in order to import other parts of the shelter animal outcomes project\n",
    "sys.path.extend(['/Users/pc3sq/Google Drive/Data Science Library/!notebooks/animal-shelter-outcomes/'])"
   ]
  },
  {
   "cell_type": "code",
   "execution_count": 38,
   "metadata": {
    "collapsed": true
   },
   "outputs": [],
   "source": [
    "from src.pipeline import cleaning_pipeline, transform_pipeline\n",
    "from src.prepare_submission import process_probas"
   ]
  },
  {
   "cell_type": "markdown",
   "metadata": {},
   "source": [
    "## Prepping Test Set For Predictions"
   ]
  },
  {
   "cell_type": "code",
   "execution_count": 39,
   "metadata": {
    "collapsed": true
   },
   "outputs": [],
   "source": [
    "submission = pd.read_csv('../data/test.csv')"
   ]
  },
  {
   "cell_type": "code",
   "execution_count": 40,
   "metadata": {
    "collapsed": false
   },
   "outputs": [
    {
     "name": "stdout",
     "output_type": "stream",
     "text": [
      "Index([u'ID', u'Name', u'DateTime', u'AnimalType', u'SexuponOutcome',\n",
      "       u'AgeuponOutcome', u'Breed', u'Color'],\n",
      "      dtype='object')\n"
     ]
    }
   ],
   "source": [
    "clean_submission = cleaning_pipeline(submission)"
   ]
  },
  {
   "cell_type": "code",
   "execution_count": 41,
   "metadata": {
    "collapsed": true
   },
   "outputs": [],
   "source": [
    "trans_submission = transform_pipeline(clean_submission)"
   ]
  },
  {
   "cell_type": "code",
   "execution_count": 42,
   "metadata": {
    "collapsed": false
   },
   "outputs": [],
   "source": [
    "X_submission = trans_submission.drop('ID', axis=1)"
   ]
  },
  {
   "cell_type": "markdown",
   "metadata": {},
   "source": [
    "## Prepping & Splitting Training Set For Grid Search"
   ]
  },
  {
   "cell_type": "code",
   "execution_count": 43,
   "metadata": {
    "collapsed": true
   },
   "outputs": [],
   "source": [
    "transformed = pd.read_csv('../data/shelter-transform-2016-07-28.csv')"
   ]
  },
  {
   "cell_type": "code",
   "execution_count": 44,
   "metadata": {
    "collapsed": false
   },
   "outputs": [
    {
     "data": {
      "text/html": [
       "<div>\n",
       "<table border=\"1\" class=\"dataframe\">\n",
       "  <thead>\n",
       "    <tr style=\"text-align: right;\">\n",
       "      <th></th>\n",
       "      <th>OutcomeType</th>\n",
       "      <th>AgeuponOutcome</th>\n",
       "      <th>ageInDaysAtOutcome</th>\n",
       "      <th>hasAge</th>\n",
       "      <th>Dog</th>\n",
       "      <th>pureBreed</th>\n",
       "      <th>hasName</th>\n",
       "      <th>Multi-Colored</th>\n",
       "      <th>Patterned</th>\n",
       "      <th>SexuponOutcome_Intact Female</th>\n",
       "      <th>SexuponOutcome_Intact Male</th>\n",
       "      <th>SexuponOutcome_Neutered Male</th>\n",
       "      <th>SexuponOutcome_Spayed Female</th>\n",
       "      <th>SexuponOutcome_Unknown</th>\n",
       "    </tr>\n",
       "  </thead>\n",
       "  <tbody>\n",
       "    <tr>\n",
       "      <th>0</th>\n",
       "      <td>Return_to_owner</td>\n",
       "      <td>365</td>\n",
       "      <td>365.0</td>\n",
       "      <td>1</td>\n",
       "      <td>1</td>\n",
       "      <td>0</td>\n",
       "      <td>1</td>\n",
       "      <td>1</td>\n",
       "      <td>0</td>\n",
       "      <td>0.0</td>\n",
       "      <td>0.0</td>\n",
       "      <td>1.0</td>\n",
       "      <td>0.0</td>\n",
       "      <td>0.0</td>\n",
       "    </tr>\n",
       "    <tr>\n",
       "      <th>1</th>\n",
       "      <td>Euthanasia</td>\n",
       "      <td>365</td>\n",
       "      <td>365.0</td>\n",
       "      <td>1</td>\n",
       "      <td>0</td>\n",
       "      <td>0</td>\n",
       "      <td>1</td>\n",
       "      <td>1</td>\n",
       "      <td>1</td>\n",
       "      <td>0.0</td>\n",
       "      <td>0.0</td>\n",
       "      <td>0.0</td>\n",
       "      <td>1.0</td>\n",
       "      <td>0.0</td>\n",
       "    </tr>\n",
       "    <tr>\n",
       "      <th>2</th>\n",
       "      <td>Adoption</td>\n",
       "      <td>730</td>\n",
       "      <td>730.0</td>\n",
       "      <td>1</td>\n",
       "      <td>1</td>\n",
       "      <td>0</td>\n",
       "      <td>1</td>\n",
       "      <td>1</td>\n",
       "      <td>0</td>\n",
       "      <td>0.0</td>\n",
       "      <td>0.0</td>\n",
       "      <td>1.0</td>\n",
       "      <td>0.0</td>\n",
       "      <td>0.0</td>\n",
       "    </tr>\n",
       "    <tr>\n",
       "      <th>3</th>\n",
       "      <td>Transfer</td>\n",
       "      <td>21</td>\n",
       "      <td>21.0</td>\n",
       "      <td>1</td>\n",
       "      <td>0</td>\n",
       "      <td>0</td>\n",
       "      <td>0</td>\n",
       "      <td>1</td>\n",
       "      <td>0</td>\n",
       "      <td>0.0</td>\n",
       "      <td>1.0</td>\n",
       "      <td>0.0</td>\n",
       "      <td>0.0</td>\n",
       "      <td>0.0</td>\n",
       "    </tr>\n",
       "    <tr>\n",
       "      <th>4</th>\n",
       "      <td>Transfer</td>\n",
       "      <td>730</td>\n",
       "      <td>730.0</td>\n",
       "      <td>1</td>\n",
       "      <td>1</td>\n",
       "      <td>0</td>\n",
       "      <td>0</td>\n",
       "      <td>0</td>\n",
       "      <td>0</td>\n",
       "      <td>0.0</td>\n",
       "      <td>0.0</td>\n",
       "      <td>1.0</td>\n",
       "      <td>0.0</td>\n",
       "      <td>0.0</td>\n",
       "    </tr>\n",
       "  </tbody>\n",
       "</table>\n",
       "</div>"
      ],
      "text/plain": [
       "       OutcomeType  AgeuponOutcome  ageInDaysAtOutcome  hasAge  Dog  \\\n",
       "0  Return_to_owner             365               365.0       1    1   \n",
       "1       Euthanasia             365               365.0       1    0   \n",
       "2         Adoption             730               730.0       1    1   \n",
       "3         Transfer              21                21.0       1    0   \n",
       "4         Transfer             730               730.0       1    1   \n",
       "\n",
       "   pureBreed  hasName  Multi-Colored  Patterned  SexuponOutcome_Intact Female  \\\n",
       "0          0        1              1          0                           0.0   \n",
       "1          0        1              1          1                           0.0   \n",
       "2          0        1              1          0                           0.0   \n",
       "3          0        0              1          0                           0.0   \n",
       "4          0        0              0          0                           0.0   \n",
       "\n",
       "   SexuponOutcome_Intact Male  SexuponOutcome_Neutered Male  \\\n",
       "0                         0.0                           1.0   \n",
       "1                         0.0                           0.0   \n",
       "2                         0.0                           1.0   \n",
       "3                         1.0                           0.0   \n",
       "4                         0.0                           1.0   \n",
       "\n",
       "   SexuponOutcome_Spayed Female  SexuponOutcome_Unknown  \n",
       "0                           0.0                     0.0  \n",
       "1                           1.0                     0.0  \n",
       "2                           0.0                     0.0  \n",
       "3                           0.0                     0.0  \n",
       "4                           0.0                     0.0  "
      ]
     },
     "execution_count": 44,
     "metadata": {},
     "output_type": "execute_result"
    }
   ],
   "source": [
    "transformed.head()"
   ]
  },
  {
   "cell_type": "code",
   "execution_count": 45,
   "metadata": {
    "collapsed": true
   },
   "outputs": [],
   "source": [
    "trans_X = transformed.drop('OutcomeType', axis=1)"
   ]
  },
  {
   "cell_type": "code",
   "execution_count": 46,
   "metadata": {
    "collapsed": true
   },
   "outputs": [],
   "source": [
    "trans_y = transformed['OutcomeType']"
   ]
  },
  {
   "cell_type": "code",
   "execution_count": 47,
   "metadata": {
    "collapsed": true
   },
   "outputs": [],
   "source": [
    "X_train, X_test, y_train, y_test = cross_validation.train_test_split(trans_X, trans_y, test_size=0.25, random_state=10)"
   ]
  },
  {
   "cell_type": "markdown",
   "metadata": {},
   "source": [
    "# <center>Gridsearch w/ GBM</center>"
   ]
  },
  {
   "cell_type": "code",
   "execution_count": 48,
   "metadata": {
    "collapsed": true
   },
   "outputs": [],
   "source": [
    "def gridsearch_gbm(params_grid, X_train, y_train):\n",
    "    model_start = time.time()  \n",
    "    gbc = GradientBoostingClassifier()\n",
    "    best_model = GridSearchCV(gbc, param_grid=params_grid, n_jobs=-1)\n",
    "    model_end = time.time()\n",
    "\n",
    "    print \"Grid search took: \", model_end - model_start\n",
    "    \n",
    "    fit_start = time.time()\n",
    "    best_model.fit(X_train, y_train)\n",
    "    fit_end = time.time()\n",
    "    print \"Fitting took: \", fit_end - fit_start\n",
    "    \n",
    "    return best_model\n",
    "\n",
    "def gridsearch_stats(model, X_test, y_test):\n",
    "    print model.best_params_\n",
    "    \n",
    "    probas = model.predict_proba(X_test)\n",
    "    print log_loss(y_test, probas)\n",
    "    \n",
    "    return probas\n"
   ]
  },
  {
   "cell_type": "markdown",
   "metadata": {},
   "source": [
    "## Attempt 1"
   ]
  },
  {
   "cell_type": "code",
   "execution_count": 49,
   "metadata": {
    "collapsed": false
   },
   "outputs": [
    {
     "name": "stdout",
     "output_type": "stream",
     "text": [
      "Grid search took:  8.29696655273e-05\n",
      "Fitting took:  50.4349400997\n"
     ]
    }
   ],
   "source": [
    "params01 = {\n",
    "            'max_depth': [8],\n",
    "            'min_samples_leaf': [1000], \n",
    "            \"learning_rate\": [0.1, 0.05, 0.01], \n",
    "            \"max_features\": [\"sqrt\", 3, 10]\n",
    "            }\n",
    "\n",
    "gbm_gc01 = gridsearch_gbm(params01, X_train, y_train)"
   ]
  },
  {
   "cell_type": "code",
   "execution_count": 50,
   "metadata": {
    "collapsed": false
   },
   "outputs": [
    {
     "name": "stdout",
     "output_type": "stream",
     "text": [
      "{'max_features': 10, 'learning_rate': 0.1, 'max_depth': 8, 'min_samples_leaf': 1000}\n",
      "0.84865256231\n"
     ]
    },
    {
     "data": {
      "text/plain": [
       "array([[  2.38335346e-01,   5.66571852e-03,   7.58748536e-02,\n",
       "          5.68882554e-01,   1.11241528e-01],\n",
       "       [  9.14839354e-01,   1.01507027e-03,   7.73187196e-04,\n",
       "          6.32941115e-03,   7.70429769e-02],\n",
       "       [  7.57412765e-01,   1.74718971e-03,   4.13647548e-03,\n",
       "          4.32789118e-02,   1.93424658e-01],\n",
       "       ..., \n",
       "       [  4.98958607e-01,   9.42222823e-04,   1.48138296e-02,\n",
       "          1.12325923e-01,   3.72959417e-01],\n",
       "       [  3.39265806e-01,   1.23875733e-03,   6.64493162e-02,\n",
       "          4.28196640e-01,   1.64849481e-01],\n",
       "       [  2.35002894e-04,   1.89652328e-02,   2.55407916e-02,\n",
       "          3.06307458e-03,   9.52195898e-01]])"
      ]
     },
     "execution_count": 50,
     "metadata": {},
     "output_type": "execute_result"
    }
   ],
   "source": [
    "gridsearch_stats(gbm_gc01, X_test, y_test)"
   ]
  },
  {
   "cell_type": "markdown",
   "metadata": {},
   "source": [
    "+ Keeping learning_rate = 0.1"
   ]
  },
  {
   "cell_type": "markdown",
   "metadata": {},
   "source": [
    "## Attempt 2"
   ]
  },
  {
   "cell_type": "code",
   "execution_count": 51,
   "metadata": {
    "collapsed": false
   },
   "outputs": [
    {
     "name": "stdout",
     "output_type": "stream",
     "text": [
      "Grid search took:  7.08103179932e-05\n",
      "Fitting took:  20.3236610889\n"
     ]
    }
   ],
   "source": [
    "params02 = {\n",
    "            'max_depth': [10, 15],\n",
    "            'min_samples_leaf': [1000], \n",
    "            \"learning_rate\": [0.1], \n",
    "            \"max_features\": [10]\n",
    "            }\n",
    "\n",
    "gbm_gc02 = gridsearch_gbm(params02, X_train, y_train)"
   ]
  },
  {
   "cell_type": "code",
   "execution_count": 52,
   "metadata": {
    "collapsed": false
   },
   "outputs": [
    {
     "name": "stdout",
     "output_type": "stream",
     "text": [
      "{'max_features': 10, 'learning_rate': 0.1, 'max_depth': 15, 'min_samples_leaf': 1000}\n",
      "0.848959544101\n"
     ]
    },
    {
     "data": {
      "text/plain": [
       "array([[  2.43399172e-01,   5.50761068e-03,   7.72582478e-02,\n",
       "          5.64956553e-01,   1.08878416e-01],\n",
       "       [  9.17902282e-01,   1.04981273e-03,   7.60572327e-04,\n",
       "          5.70096293e-03,   7.45863700e-02],\n",
       "       [  7.54929213e-01,   1.33020514e-03,   4.89032157e-03,\n",
       "          4.91884618e-02,   1.89661799e-01],\n",
       "       ..., \n",
       "       [  5.02029118e-01,   1.18769613e-03,   1.30210869e-02,\n",
       "          1.10421266e-01,   3.73340833e-01],\n",
       "       [  3.36289662e-01,   1.31365852e-03,   6.52508233e-02,\n",
       "          4.33311551e-01,   1.63834305e-01],\n",
       "       [  1.58531567e-04,   1.73497052e-02,   2.60276394e-02,\n",
       "          2.82874131e-03,   9.53635383e-01]])"
      ]
     },
     "execution_count": 52,
     "metadata": {},
     "output_type": "execute_result"
    }
   ],
   "source": [
    "gridsearch_stats(gbm_gc02, X_test, y_test)"
   ]
  },
  {
   "cell_type": "markdown",
   "metadata": {},
   "source": [
    "+ Deeper max-depth"
   ]
  },
  {
   "cell_type": "markdown",
   "metadata": {},
   "source": [
    "## Attempt 3"
   ]
  },
  {
   "cell_type": "code",
   "execution_count": 53,
   "metadata": {
    "collapsed": false
   },
   "outputs": [
    {
     "name": "stdout",
     "output_type": "stream",
     "text": [
      "Grid search took:  4.79221343994e-05\n",
      "Fitting took:  72.2075340748\n"
     ]
    }
   ],
   "source": [
    "params03 = {\n",
    "            'max_depth': [18, 25],\n",
    "            'min_samples_leaf': [500, 1000], \n",
    "            \"learning_rate\": [0.1], \n",
    "            \"max_features\": [10, 13] # 13 is the max features\n",
    "            }\n",
    "\n",
    "gbm_gc03 = gridsearch_gbm(params03, X_train, y_train)"
   ]
  },
  {
   "cell_type": "code",
   "execution_count": 54,
   "metadata": {
    "collapsed": false
   },
   "outputs": [
    {
     "name": "stdout",
     "output_type": "stream",
     "text": [
      "{'max_features': 10, 'learning_rate': 0.1, 'max_depth': 25, 'min_samples_leaf': 500}\n",
      "0.847954668457\n"
     ]
    },
    {
     "data": {
      "text/plain": [
       "array([[  1.57783596e-01,   5.26578826e-03,   8.21334305e-02,\n",
       "          6.53762348e-01,   1.01054837e-01],\n",
       "       [  8.86214084e-01,   3.48524489e-04,   1.41733110e-03,\n",
       "          3.43033457e-03,   1.08589726e-01],\n",
       "       [  7.72342185e-01,   1.25967557e-03,   5.03009956e-03,\n",
       "          4.41633367e-02,   1.77204703e-01],\n",
       "       ..., \n",
       "       [  5.26679086e-01,   2.46552408e-04,   1.45323231e-02,\n",
       "          1.12375715e-01,   3.46166323e-01],\n",
       "       [  3.32078063e-01,   2.21975829e-03,   6.07997206e-02,\n",
       "          4.34103490e-01,   1.70798968e-01],\n",
       "       [  3.05854392e-04,   3.66201094e-02,   1.83905811e-02,\n",
       "          1.42170881e-03,   9.43261746e-01]])"
      ]
     },
     "execution_count": 54,
     "metadata": {},
     "output_type": "execute_result"
    }
   ],
   "source": [
    "gridsearch_stats(gbm_gc03, X_test, y_test)"
   ]
  },
  {
   "cell_type": "markdown",
   "metadata": {},
   "source": [
    "+ Lower min_samples_leaf\n",
    "+ Deeper max_depth\n",
    "+ Keep max_features = 10"
   ]
  },
  {
   "cell_type": "markdown",
   "metadata": {},
   "source": [
    "## Attempt 4"
   ]
  },
  {
   "cell_type": "code",
   "execution_count": 55,
   "metadata": {
    "collapsed": false
   },
   "outputs": [
    {
     "name": "stdout",
     "output_type": "stream",
     "text": [
      "Grid search took:  4.91142272949e-05\n",
      "Fitting took:  72.5444891453\n"
     ]
    }
   ],
   "source": [
    "params04 = {\n",
    "            'max_depth': [30, 40],\n",
    "            'min_samples_leaf': [100, 300], \n",
    "            \"learning_rate\": [0.1], \n",
    "            \"max_features\": [10]\n",
    "            }\n",
    "\n",
    "gbm_gc04 = gridsearch_gbm(params04, X_train, y_train)"
   ]
  },
  {
   "cell_type": "code",
   "execution_count": 56,
   "metadata": {
    "collapsed": false
   },
   "outputs": [
    {
     "name": "stdout",
     "output_type": "stream",
     "text": [
      "{'max_features': 10, 'learning_rate': 0.1, 'max_depth': 40, 'min_samples_leaf': 300}\n",
      "0.851588279696\n"
     ]
    },
    {
     "data": {
      "text/plain": [
       "array([[  2.17431103e-01,   4.17372051e-03,   4.71661940e-02,\n",
       "          6.12477490e-01,   1.18751493e-01],\n",
       "       [  8.88464215e-01,   3.14783543e-04,   1.01351920e-03,\n",
       "          2.78044396e-03,   1.07427038e-01],\n",
       "       [  7.55159243e-01,   9.89230893e-04,   6.56518958e-03,\n",
       "          5.89834428e-02,   1.78302894e-01],\n",
       "       ..., \n",
       "       [  5.37696609e-01,   8.38246530e-05,   1.56643615e-02,\n",
       "          9.94437843e-02,   3.47111420e-01],\n",
       "       [  3.23635268e-01,   3.21016769e-03,   5.71683009e-02,\n",
       "          4.36180910e-01,   1.79805353e-01],\n",
       "       [  1.02544305e-04,   1.69688537e-02,   2.01714741e-02,\n",
       "          4.24224704e-04,   9.62332903e-01]])"
      ]
     },
     "execution_count": 56,
     "metadata": {},
     "output_type": "execute_result"
    }
   ],
   "source": [
    "gridsearch_stats(gbm_gc04, X_test, y_test)"
   ]
  },
  {
   "cell_type": "markdown",
   "metadata": {},
   "source": [
    "## Using Best Params From Attempt 3"
   ]
  },
  {
   "cell_type": "code",
   "execution_count": 57,
   "metadata": {
    "collapsed": true
   },
   "outputs": [],
   "source": [
    "best_params = {'max_features': 10, 'learning_rate': 0.1, 'max_depth': 25, 'min_samples_leaf': 500}"
   ]
  },
  {
   "cell_type": "code",
   "execution_count": 58,
   "metadata": {
    "collapsed": true
   },
   "outputs": [],
   "source": [
    "# Using random state 7 like previous train test splits\n",
    "X_train1, X_test1, y_train1, y_test1 = cross_validation.train_test_split(trans_X, trans_y, test_size=0.25, random_state=7)"
   ]
  },
  {
   "cell_type": "code",
   "execution_count": 59,
   "metadata": {
    "collapsed": true
   },
   "outputs": [],
   "source": [
    "probas03 = gbm_gc03.predict_proba(X_test1)"
   ]
  },
  {
   "cell_type": "code",
   "execution_count": 60,
   "metadata": {
    "collapsed": false
   },
   "outputs": [
    {
     "data": {
      "text/plain": [
       "0.83080436521487722"
      ]
     },
     "execution_count": 60,
     "metadata": {},
     "output_type": "execute_result"
    }
   ],
   "source": [
    "log_loss(y_test1, probas03)"
   ]
  },
  {
   "cell_type": "code",
   "execution_count": 61,
   "metadata": {
    "collapsed": false
   },
   "outputs": [],
   "source": [
    "submission_probas = gbm_gc03.predict_proba(X_submission)"
   ]
  },
  {
   "cell_type": "code",
   "execution_count": 62,
   "metadata": {
    "collapsed": true
   },
   "outputs": [],
   "source": [
    "def process_probas(model, pred_probas, raw_test_set):\n",
    "    submission = pd.DataFrame(pred_probas, columns=model.classes_)\n",
    "    submission['ID'] = raw_test_set['ID']\n",
    "    return submission[['ID', 'Adoption', 'Died', 'Euthanasia', 'Return_to_owner', 'Transfer']]"
   ]
  },
  {
   "cell_type": "code",
   "execution_count": 63,
   "metadata": {
    "collapsed": false
   },
   "outputs": [
    {
     "ename": "NameError",
     "evalue": "name 'test' is not defined",
     "output_type": "error",
     "traceback": [
      "\u001b[0;31m---------------------------------------------------------------------------\u001b[0m",
      "\u001b[0;31mNameError\u001b[0m                                 Traceback (most recent call last)",
      "\u001b[0;32m<ipython-input-63-0404d4ee1db7>\u001b[0m in \u001b[0;36m<module>\u001b[0;34m()\u001b[0m\n\u001b[0;32m----> 1\u001b[0;31m \u001b[0mfinal_submission\u001b[0m \u001b[0;34m=\u001b[0m \u001b[0mprocess_probas\u001b[0m\u001b[0;34m(\u001b[0m\u001b[0mgbm_gc03\u001b[0m\u001b[0;34m.\u001b[0m\u001b[0mbest_estimator_\u001b[0m\u001b[0;34m,\u001b[0m \u001b[0msubmission_probas\u001b[0m\u001b[0;34m,\u001b[0m \u001b[0mtest\u001b[0m\u001b[0;34m)\u001b[0m\u001b[0;34m\u001b[0m\u001b[0m\n\u001b[0m",
      "\u001b[0;31mNameError\u001b[0m: name 'test' is not defined"
     ]
    }
   ],
   "source": [
    "final_submission = process_probas(gbm_gc03.best_estimator_, submission_probas, test)"
   ]
  },
  {
   "cell_type": "code",
   "execution_count": null,
   "metadata": {
    "collapsed": false
   },
   "outputs": [],
   "source": [
    "# final_submission.to_csv('../data/submission-2016-07-28-gridsearch-gbm.csv', index=False)"
   ]
  },
  {
   "cell_type": "code",
   "execution_count": null,
   "metadata": {
    "collapsed": true
   },
   "outputs": [],
   "source": [
    "test_final_submission = pd.read_csv('../data/submission-2016-07-28-gridsearch-gbm.csv')"
   ]
  },
  {
   "cell_type": "code",
   "execution_count": null,
   "metadata": {
    "collapsed": false
   },
   "outputs": [],
   "source": [
    "test_final_submission.shape"
   ]
  },
  {
   "cell_type": "code",
   "execution_count": null,
   "metadata": {
    "collapsed": false
   },
   "outputs": [],
   "source": [
    "test_final_submission.columns"
   ]
  },
  {
   "cell_type": "code",
   "execution_count": null,
   "metadata": {
    "collapsed": false
   },
   "outputs": [],
   "source": [
    "## saving best model\n",
    "# joblib.dump(gbm_gc03.best_estimator_, '../models/2016-07-28-gbm-gridsearch/gbm_gc03.pkl')"
   ]
  },
  {
   "cell_type": "code",
   "execution_count": null,
   "metadata": {
    "collapsed": true
   },
   "outputs": [],
   "source": []
  }
 ],
 "metadata": {
  "kernelspec": {
   "display_name": "Python 2",
   "language": "python",
   "name": "python2"
  },
  "language_info": {
   "codemirror_mode": {
    "name": "ipython",
    "version": 2
   },
   "file_extension": ".py",
   "mimetype": "text/x-python",
   "name": "python",
   "nbconvert_exporter": "python",
   "pygments_lexer": "ipython2",
   "version": "2.7.11"
  }
 },
 "nbformat": 4,
 "nbformat_minor": 0
}
