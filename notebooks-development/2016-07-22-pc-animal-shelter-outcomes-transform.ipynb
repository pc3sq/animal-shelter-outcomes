{
 "cells": [
  {
   "cell_type": "markdown",
   "metadata": {},
   "source": [
    "# <center>Transforming Shelter Data</center>"
   ]
  },
  {
   "cell_type": "code",
   "execution_count": 1,
   "metadata": {
    "collapsed": false
   },
   "outputs": [],
   "source": [
    "import pandas as pd, numpy as np"
   ]
  },
  {
   "cell_type": "code",
   "execution_count": null,
   "metadata": {
    "collapsed": false
   },
   "outputs": [],
   "source": [
    "cleaned = pd.read_csv('../data/shelter-clean.csv')\n",
    "transformed = cleaned.copy()"
   ]
  },
  {
   "cell_type": "code",
   "execution_count": null,
   "metadata": {
    "collapsed": false
   },
   "outputs": [],
   "source": [
    "cleaned.describe(include=\"all\")"
   ]
  },
  {
   "cell_type": "code",
   "execution_count": null,
   "metadata": {
    "collapsed": false
   },
   "outputs": [],
   "source": [
    "cleaned.head(3)"
   ]
  },
  {
   "cell_type": "code",
   "execution_count": null,
   "metadata": {
    "collapsed": false
   },
   "outputs": [],
   "source": [
    "# check cleaned as no nulls\n",
    "np.sum(cleaned.isnull())"
   ]
  },
  {
   "cell_type": "markdown",
   "metadata": {},
   "source": [
    "## Extract Binary Name vs NoName From Name Column"
   ]
  },
  {
   "cell_type": "code",
   "execution_count": null,
   "metadata": {
    "collapsed": false
   },
   "outputs": [],
   "source": [
    "transformed['Name'] = transformed['Name'].apply(lambda name: \"hasName\" if name!=\"noName\" else name)"
   ]
  },
  {
   "cell_type": "code",
   "execution_count": null,
   "metadata": {
    "collapsed": false
   },
   "outputs": [],
   "source": [
    "# check transformed has \"hasName\" and \"noName\" as values\n",
    "[name for name in transformed['Name'].unique()]"
   ]
  },
  {
   "cell_type": "markdown",
   "metadata": {},
   "source": [
    "## Drop OutcomeSubtype for Target Leakage\n",
    "\n",
    "Since we are unaware of the OutcomeSubtype until the OutcomeType, our label, is determined, we should drop it to prevent target leakage. Besides, OutcomeSubtype is not a feature in the test.csv set."
   ]
  },
  {
   "cell_type": "code",
   "execution_count": null,
   "metadata": {
    "collapsed": false
   },
   "outputs": [],
   "source": [
    "transformed = transformed.drop('OutcomeSubtype', axis=1)"
   ]
  },
  {
   "cell_type": "markdown",
   "metadata": {},
   "source": [
    "## Extract Days from AgeuponOutcome"
   ]
  },
  {
   "cell_type": "code",
   "execution_count": null,
   "metadata": {
    "collapsed": false
   },
   "outputs": [],
   "source": [
    "# check string structure of AgeuponOutcome\n",
    "transformed['AgeuponOutcome'].unique()"
   ]
  },
  {
   "cell_type": "code",
   "execution_count": null,
   "metadata": {
    "collapsed": false
   },
   "outputs": [],
   "source": [
    "# extract days, the lowest common denominator, from AgeuponOutcome\n",
    "# age_to_days will be saved to src folder\n",
    "\n",
    "def age_to_days(age_str):\n",
    "    age_val = int(str(age_str).split()[0])\n",
    "    \n",
    "    if \"day\" in age_str or \"days\" in \"age_str\":\n",
    "        return age_val\n",
    "    elif \"week\" in age_str or \"weeks\" in \"age_str\":\n",
    "        return age_val * 7\n",
    "    elif \"month\" in age_str or \"months\" in \"age_str\":\n",
    "        return age_val * 30\n",
    "    elif \"year\" in age_str or \"years\" in \"age_str\":\n",
    "        return age_val * 365\n",
    "    else:\n",
    "        return \"unknownAge\""
   ]
  },
  {
   "cell_type": "code",
   "execution_count": null,
   "metadata": {
    "collapsed": false
   },
   "outputs": [],
   "source": [
    "transformed['AgeuponOutcome'] = transformed['AgeuponOutcome'].apply(age_to_days)"
   ]
  },
  {
   "cell_type": "code",
   "execution_count": null,
   "metadata": {
    "collapsed": false
   },
   "outputs": [],
   "source": [
    "# check unique values and datatype for AgeuponOutcome\n",
    "print transformed['AgeuponOutcome'].unique()\n",
    "print transformed['AgeuponOutcome'].dtype"
   ]
  },
  {
   "cell_type": "code",
   "execution_count": null,
   "metadata": {
    "collapsed": false
   },
   "outputs": [],
   "source": [
    "transformed.describe(include=\"all\")"
   ]
  },
  {
   "cell_type": "markdown",
   "metadata": {},
   "source": [
    "## Extract Day of the Week and Month from DateTime\n",
    "\n",
    "Studying the day of the week and month of the outcome may help understand when animals are most prone to unfavorable outcomes. It would help us if we also knew when the animals where admitted so we can determined if there is correlation between how long an animals stays (date of outcome - date of admission) and its outcome."
   ]
  },
  {
   "cell_type": "code",
   "execution_count": null,
   "metadata": {
    "collapsed": false
   },
   "outputs": [],
   "source": [
    "# convert \"DateTime\" to pandas.DateTime objects\n",
    "transformed['DateTime'] = pd.to_datetime(transformed['DateTime'])"
   ]
  },
  {
   "cell_type": "code",
   "execution_count": null,
   "metadata": {
    "collapsed": false
   },
   "outputs": [],
   "source": [
    "# create date features\n",
    "transformed['dow'] = transformed['DateTime'].apply(lambda dt: dt.dayofweek)\n",
    "# transformed['dom'] = transformed['DateTime'].apply(lambda dt: dt.day) # day of month might be useful\n",
    "transformed['month'] = transformed['DateTime'].apply(lambda dt: dt.month)\n",
    "transformed['doy'] = transformed['DateTime'].apply(lambda dt: dt.dayofyear)"
   ]
  },
  {
   "cell_type": "code",
   "execution_count": null,
   "metadata": {
    "collapsed": false
   },
   "outputs": [],
   "source": [
    "# convert day of week to weekday names\n",
    "weekdays = ['Mon', 'Tues', 'Wed', 'Thurs', 'Fri', 'Sat', 'Sun']\n",
    "transformed['dow'] = transformed['dow'].apply(lambda dow: weekdays[dow])"
   ]
  },
  {
   "cell_type": "code",
   "execution_count": null,
   "metadata": {
    "collapsed": false
   },
   "outputs": [],
   "source": [
    "# convert nominal month to month names\n",
    "months = {1: 'Jan', 2: 'Feb', 3: 'March', 4: 'April', 5: 'May', 6: \"June\", 7: \"July\",\\\n",
    "           8: 'Aug', 9: 'Sept', 10: \"Oct\", 11: 'Nov', 12: 'Dec'}\n",
    "\n",
    "transformed['month'] = transformed['month'].apply(lambda month: months[month])"
   ]
  },
  {
   "cell_type": "markdown",
   "metadata": {},
   "source": [
    "## Extract Mixed or Pure from Breed"
   ]
  },
  {
   "cell_type": "code",
   "execution_count": null,
   "metadata": {
    "collapsed": false
   },
   "outputs": [],
   "source": [
    "# too many unique breeds and mixes to dummify\n",
    "len(transformed['Breed'].unique())"
   ]
  },
  {
   "cell_type": "code",
   "execution_count": null,
   "metadata": {
    "collapsed": false
   },
   "outputs": [],
   "source": [
    "transformed.groupby('AnimalType').count()"
   ]
  },
  {
   "cell_type": "code",
   "execution_count": null,
   "metadata": {
    "collapsed": true
   },
   "outputs": [],
   "source": [
    "cat = transformed[transformed['AnimalType']=='Cat']\n",
    "dog = transformed[transformed['AnimalType']=='Dog']"
   ]
  },
  {
   "cell_type": "code",
   "execution_count": null,
   "metadata": {
    "collapsed": false
   },
   "outputs": [],
   "source": [
    "# breed names with \"/\" look like mixed breeds\n",
    "cat[cat['Breed'].apply(lambda breed: \"/\" in breed)].head()"
   ]
  },
  {
   "cell_type": "code",
   "execution_count": null,
   "metadata": {
    "collapsed": false
   },
   "outputs": [],
   "source": [
    "# breed names with \"Mix\" are presumed to mean mixed breed\n",
    "cat[cat['Breed'].apply(lambda breed: \"Mix\" in breed)].head()"
   ]
  },
  {
   "cell_type": "code",
   "execution_count": null,
   "metadata": {
    "collapsed": false
   },
   "outputs": [],
   "source": [
    "# breed names with \"/\" look like mixed\n",
    "cat[cat['Breed'].apply(lambda breed: \"Mix\" not in breed and \"/\" not in breed and \"Domestic\" not in breed)].head(20)"
   ]
  },
  {
   "cell_type": "code",
   "execution_count": null,
   "metadata": {
    "collapsed": false
   },
   "outputs": [],
   "source": [
    "# most cats that end up in the shelter are mixed\n",
    "print \"unique cat breeds:\", len(cat['Breed'].unique())\n",
    "print \"% mixed breed cats\", sum(cat['Breed'].apply(lambda breed: \"Mix\" in breed or \"/\" in breed)) / float(cat.shape[0])"
   ]
  },
  {
   "cell_type": "code",
   "execution_count": null,
   "metadata": {
    "collapsed": false
   },
   "outputs": [],
   "source": [
    "# same w/ dogs; most dogs in the shelter are mixed\n",
    "print \"Unique dog breeds:\", len(dog['Breed'].unique())\n",
    "print \"% mixed breed dogs\", sum(dog['Breed'].apply(lambda breed: \"Mix\" in breed or \"/\" in breed)) / float(dog.shape[0])"
   ]
  },
  {
   "cell_type": "code",
   "execution_count": null,
   "metadata": {
    "collapsed": false
   },
   "outputs": [],
   "source": [
    "mixed = transformed['Breed'].apply(lambda breed: \"Mix\" in breed or \"/\" in breed)\n",
    "print \"% mixed breed animals\", float(sum(mixed))/transformed.shape[0]"
   ]
  },
  {
   "cell_type": "code",
   "execution_count": null,
   "metadata": {
    "collapsed": false
   },
   "outputs": [],
   "source": [
    "# extract mixed vs. pure for Breed\n",
    "transformed['Breed'] = transformed['Breed'].apply(lambda breed: \"Mix\" if \"Mix\" in breed or \"/\" in breed else \"Pure\")"
   ]
  },
  {
   "cell_type": "code",
   "execution_count": null,
   "metadata": {
    "collapsed": false
   },
   "outputs": [],
   "source": [
    "# check Breed only has \"mixed\" and \"pure\" as values\n",
    "[breed_type for breed_type in transformed['Breed'].unique()]"
   ]
  },
  {
   "cell_type": "markdown",
   "metadata": {},
   "source": [
    "If a breeds database exists where the characteristics of each breed are explored (i.e. long vs. short hair, demeanor, personality, etc.), we can imply further features about each breed that may have predictive value on the outcome."
   ]
  },
  {
   "cell_type": "markdown",
   "metadata": {},
   "source": [
    "## Drop Color"
   ]
  },
  {
   "cell_type": "code",
   "execution_count": null,
   "metadata": {
    "collapsed": true
   },
   "outputs": [],
   "source": []
  },
  {
   "cell_type": "code",
   "execution_count": null,
   "metadata": {
    "collapsed": false
   },
   "outputs": [],
   "source": [
    "# there are too many unique colors\n",
    "# drop Color for now and see how our model performs\n",
    "len(transformed['Color'].unique())"
   ]
  },
  {
   "cell_type": "code",
   "execution_count": null,
   "metadata": {
    "collapsed": false
   },
   "outputs": [],
   "source": [
    "transformed['Color'].unique()"
   ]
  },
  {
   "cell_type": "markdown",
   "metadata": {},
   "source": [
    "## Dummify Categorical Variables"
   ]
  },
  {
   "cell_type": "code",
   "execution_count": null,
   "metadata": {
    "collapsed": false
   },
   "outputs": [],
   "source": [
    "transformed.dtypes"
   ]
  },
  {
   "cell_type": "code",
   "execution_count": null,
   "metadata": {
    "collapsed": true
   },
   "outputs": [],
   "source": [
    "categoricals = ['Name', 'AnimalType', 'SexuponOutcome', 'Breed', 'dow', 'month']"
   ]
  },
  {
   "cell_type": "code",
   "execution_count": null,
   "metadata": {
    "collapsed": false
   },
   "outputs": [],
   "source": [
    "# extract dummy variables\n",
    "final_dframe = pd.get_dummies(transformed, columns=categoricals)"
   ]
  },
  {
   "cell_type": "code",
   "execution_count": null,
   "metadata": {
    "collapsed": false
   },
   "outputs": [],
   "source": [
    "final_dframe.head(4)"
   ]
  },
  {
   "cell_type": "markdown",
   "metadata": {},
   "source": [
    "# Return Final Select Columns"
   ]
  },
  {
   "cell_type": "code",
   "execution_count": null,
   "metadata": {
    "collapsed": false
   },
   "outputs": [],
   "source": [
    "# take only the columns we want\n",
    "final_dframe = final_dframe.drop(['AnimalID', 'DateTime', 'Color'], axis=1)"
   ]
  },
  {
   "cell_type": "markdown",
   "metadata": {},
   "source": [
    "## Transformation Pipeline"
   ]
  },
  {
   "cell_type": "code",
   "execution_count": null,
   "metadata": {
    "collapsed": true
   },
   "outputs": [],
   "source": [
    "# transform_df() saved to src folder\n",
    "\n",
    "def transform_df(df):\n",
    "    dframe = df.copy()\n",
    "    \n",
    "    dframe['Name'] = dframe['Name'].apply(lambda name: \"hasName\" if name!=\"noName\" else name)\n",
    "\n",
    "    dframe = dframe.drop('OutcomeSubtype', axis=1)\n",
    "\n",
    "    dframe['AgeuponOutcome'] = dframe['AgeuponOutcome'].apply(age_to_days)\n",
    "    \n",
    "    # create date features\n",
    "    dframe['DateTime'] = pd.to_datetime(dframe['DateTime'])\n",
    "    dframe['dow'] = dframe['DateTime'].apply(lambda dt: dt.dayofweek)\n",
    "    # dframe['dom']= dframe['DateTime'].apply(lambda dt: dt.day) # day of month might be useful\n",
    "    dframe['month'] = dframe['DateTime'].apply(lambda dt: dt.month)\n",
    "    dframe['doy'] = dframe['DateTime'].apply(lambda dt: dt.dayofyear)\n",
    "    \n",
    "    # convert day of week to weekday names\n",
    "    weekdays = ['Mon', 'Tues', 'Wed', 'Thurs', 'Fri', 'Sat', 'Sun']\n",
    "    dframe['dow'] = dframe['dow'].apply(lambda dow: weekdays[dow])\n",
    "    \n",
    "    # convert nominal month to month names\n",
    "    months = {1: 'Jan', 2: 'Feb', 3: 'March', 4: 'April', 5: 'May', 6: \"June\", 7: \"July\",\\\n",
    "           8: 'Aug', 9: 'Sept', 10: \"Oct\", 11: 'Nov', 12: 'Dec'}\n",
    "    dframe['month'] = dframe['month'].apply(lambda month: months[month])\n",
    "    \n",
    "    # extract mixed vs. pure for Breed\n",
    "    dframe['Breed'] = dframe['Breed'].apply(lambda breed: \"Mix\" if \"Mix\" in breed or \"/\" in breed else \"Pure\")\n",
    "    \n",
    "    # get dummies\n",
    "    categoricals = ['Name', 'AnimalType', 'SexuponOutcome', 'Breed', 'dow', 'month']\n",
    "    dframe = pd.get_dummies(dframe, columns=categoricals)\n",
    "\n",
    "    # return only select columns\n",
    "    return dframe.drop(['AnimalID', 'DateTime', 'Color'], axis=1)\n",
    "    "
   ]
  },
  {
   "cell_type": "code",
   "execution_count": null,
   "metadata": {
    "collapsed": false
   },
   "outputs": [],
   "source": [
    "test_dframe = transform_df(cleaned)"
   ]
  },
  {
   "cell_type": "code",
   "execution_count": null,
   "metadata": {
    "collapsed": false
   },
   "outputs": [],
   "source": [
    "# any nulls in test_dframe\n",
    "np.any(np.sum(test_dframe.isnull()) > 0)"
   ]
  },
  {
   "cell_type": "code",
   "execution_count": null,
   "metadata": {
    "collapsed": false
   },
   "outputs": [],
   "source": [
    "print test_dframe.shape == final_dframe.shape\n",
    "print test_dframe.shape\n",
    "print final_dframe.shape"
   ]
  },
  {
   "cell_type": "code",
   "execution_count": null,
   "metadata": {
    "collapsed": true
   },
   "outputs": [],
   "source": [
    "## save transformed dataframe\n",
    "#final_dframe.to_csv('data/transformed.csv', index=False)"
   ]
  },
  {
   "cell_type": "markdown",
   "metadata": {},
   "source": [
    "# <center>Further Transformations That May Be Necessary</center>"
   ]
  },
  {
   "cell_type": "markdown",
   "metadata": {},
   "source": [
    "## Encode Labels (Revisit)\n",
    "\n",
    "I'm not sure if we need to encode the labels for the sklearn random forest classifer so I will perform a basic label encoding here just in case we need it."
   ]
  },
  {
   "cell_type": "code",
   "execution_count": null,
   "metadata": {
    "collapsed": true
   },
   "outputs": [],
   "source": [
    "from sklearn import preprocessing"
   ]
  },
  {
   "cell_type": "code",
   "execution_count": null,
   "metadata": {
    "collapsed": false
   },
   "outputs": [],
   "source": [
    "le = preprocessing.LabelEncoder()\n",
    "le.fit(transformed['OutcomeType'])"
   ]
  },
  {
   "cell_type": "code",
   "execution_count": null,
   "metadata": {
    "collapsed": false
   },
   "outputs": [],
   "source": [
    "le.classes_"
   ]
  },
  {
   "cell_type": "code",
   "execution_count": null,
   "metadata": {
    "collapsed": false
   },
   "outputs": [],
   "source": [
    "labels = le.transform(transformed['OutcomeType'])\n",
    "# transformed['OutcomeType'] = le.transform(transformed['OutcomeType']) # if encoded labels are needed, use this"
   ]
  },
  {
   "cell_type": "markdown",
   "metadata": {},
   "source": [
    "**Update 2016-07-24:**\n",
    "\n",
    "Scikit Learn classification models like RandomForestClassifier and GradientBoostClassifier both can handle multi-classes as strings so there is no need for encoding the labels."
   ]
  },
  {
   "cell_type": "markdown",
   "metadata": {
    "collapsed": true
   },
   "source": [
    "## Oversampling for Euthanasia and Died (Revisit)\n",
    "\n",
    "I'm not sure if we need to oversample for the outcomes of 'euthanasia' and 'died' until I run a baseline model first and check its precision and recall for performance. I have a function here for outsampling if needed."
   ]
  },
  {
   "cell_type": "code",
   "execution_count": null,
   "metadata": {
    "collapsed": true
   },
   "outputs": [],
   "source": [
    "def oversample(X, y, target):\n",
    "    \"\"\"\n",
    "    INPUT:\n",
    "    X, y - your data\n",
    "    target - the percentage of positive class \n",
    "             observations in the output\n",
    "    OUTPUT:\n",
    "    X_oversampled, y_oversampled - oversampled data\n",
    "    `oversample` randomly replicates positive observations\n",
    "    in X, y to achieve the target proportion\n",
    "    \"\"\"\n",
    "    if target < sum(y)/float(len(y)):\n",
    "        return X, y\n",
    "    # determine how many new positive observations to generate\n",
    "    positive_count = sum(y)\n",
    "    negative_count = len(y) - positive_count\n",
    "    target_positive_count = target*negative_count / (1. - target)\n",
    "    target_positive_count = int(round(target_positive_count))\n",
    "    number_of_new_observations = target_positive_count - positive_count\n",
    "    # randomly generate new positive observations\n",
    "    positive_obs_indices = np.where(y==1)[0] # np.where returns a tuple containing an array of indices\n",
    "    new_obs_indices = np.random.choice(positive_obs_indices, \n",
    "                                       size=number_of_new_observations, \n",
    "                                       replace=True)\n",
    "    X_new, y_new = X[new_obs_indices], y[new_obs_indices]\n",
    "    X_positive = np.vstack((X[positive_obs_indices], X_new))\n",
    "    y_positive = np.concatenate((y[positive_obs_indices], y_new))\n",
    "    X_negative = X[y==0]\n",
    "    y_negative = y[y==0]\n",
    "    X_oversampled = np.vstack((X_negative, X_positive))\n",
    "    y_oversampled = np.concatenate((y_negative, y_positive))\n",
    "\n",
    "    return X_oversampled, y_oversampled"
   ]
  },
  {
   "cell_type": "markdown",
   "metadata": {
    "collapsed": true
   },
   "source": [
    "**Update 2016-07-24:**\n",
    "\n",
    "Because I decided on Scikit Learn's GradientBoostClassifier, there is no need to oversample or undersample our imbalanced classes. Gradient boost models assign heavier weight to misclassified samples so that each subsequent estimator (iteration) works harder to classify the misclassified samples. In the end, the \"ensemble\" of different classifiers with different weighted samples all vote together when making a prediction. This handles our class imbalance problem with \"Died\" and \"Euthanasia\" outcomes being undersampled."
   ]
  },
  {
   "cell_type": "code",
   "execution_count": null,
   "metadata": {
    "collapsed": true
   },
   "outputs": [],
   "source": []
  },
  {
   "cell_type": "code",
   "execution_count": null,
   "metadata": {
    "collapsed": true
   },
   "outputs": [],
   "source": []
  },
  {
   "cell_type": "code",
   "execution_count": null,
   "metadata": {
    "collapsed": true
   },
   "outputs": [],
   "source": []
  }
 ],
 "metadata": {
  "kernelspec": {
   "display_name": "Python 2",
   "language": "python",
   "name": "python2"
  },
  "language_info": {
   "codemirror_mode": {
    "name": "ipython",
    "version": 2
   },
   "file_extension": ".py",
   "mimetype": "text/x-python",
   "name": "python",
   "nbconvert_exporter": "python",
   "pygments_lexer": "ipython2",
   "version": "2.7.11"
  }
 },
 "nbformat": 4,
 "nbformat_minor": 0
}
