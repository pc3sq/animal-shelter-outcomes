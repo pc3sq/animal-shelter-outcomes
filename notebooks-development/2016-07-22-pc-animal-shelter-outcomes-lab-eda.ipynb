{
 "cells": [
  {
   "cell_type": "markdown",
   "metadata": {},
   "source": [
    "# Overview"
   ]
  },
  {
   "cell_type": "markdown",
   "metadata": {},
   "source": [
    "The shelter wants a model that detects animals that are prone to unfavorable outcomes in order to give them even more help in finding a home."
   ]
  },
  {
   "cell_type": "code",
   "execution_count": 4,
   "metadata": {
    "collapsed": true
   },
   "outputs": [],
   "source": [
    "import pandas as pd, matplotlib.pyplot as plt, seaborn as sns, numpy as np\n",
    "\n",
    "%matplotlib inline"
   ]
  },
  {
   "cell_type": "code",
   "execution_count": 5,
   "metadata": {
    "collapsed": false
   },
   "outputs": [],
   "source": [
    "train = pd.read_csv('../data/train.csv')\n",
    "test = pd.read_csv('../data/test.csv')\n",
    "sample = pd.read_csv('../data/sample_submission.csv')"
   ]
  },
  {
   "cell_type": "markdown",
   "metadata": {},
   "source": [
    "# Exploratory Data Analysis"
   ]
  },
  {
   "cell_type": "code",
   "execution_count": 6,
   "metadata": {
    "collapsed": false
   },
   "outputs": [
    {
     "name": "stdout",
     "output_type": "stream",
     "text": [
      "10 ['AgeuponOutcome', 'AnimalID', 'AnimalType', 'Breed', 'Color', 'DateTime', 'Name', 'OutcomeSubtype', 'OutcomeType', 'SexuponOutcome']\n",
      "8 ['AgeuponOutcome', 'AnimalType', 'Breed', 'Color', 'DateTime', 'ID', 'Name', 'SexuponOutcome']\n"
     ]
    }
   ],
   "source": [
    "# check if columns match between training and test data\n",
    "print len(train.columns), sorted(train.columns)\n",
    "print len(test.columns), sorted(test.columns)"
   ]
  },
  {
   "cell_type": "code",
   "execution_count": 7,
   "metadata": {
    "collapsed": false
   },
   "outputs": [
    {
     "data": {
      "text/html": [
       "<div>\n",
       "<table border=\"1\" class=\"dataframe\">\n",
       "  <thead>\n",
       "    <tr style=\"text-align: right;\">\n",
       "      <th></th>\n",
       "      <th>AnimalID</th>\n",
       "      <th>Name</th>\n",
       "      <th>DateTime</th>\n",
       "      <th>OutcomeType</th>\n",
       "      <th>OutcomeSubtype</th>\n",
       "      <th>AnimalType</th>\n",
       "      <th>SexuponOutcome</th>\n",
       "      <th>AgeuponOutcome</th>\n",
       "      <th>Breed</th>\n",
       "      <th>Color</th>\n",
       "    </tr>\n",
       "  </thead>\n",
       "  <tbody>\n",
       "    <tr>\n",
       "      <th>count</th>\n",
       "      <td>26729</td>\n",
       "      <td>19038</td>\n",
       "      <td>26729</td>\n",
       "      <td>26729</td>\n",
       "      <td>13117</td>\n",
       "      <td>26729</td>\n",
       "      <td>26728</td>\n",
       "      <td>26711</td>\n",
       "      <td>26729</td>\n",
       "      <td>26729</td>\n",
       "    </tr>\n",
       "    <tr>\n",
       "      <th>unique</th>\n",
       "      <td>26729</td>\n",
       "      <td>6374</td>\n",
       "      <td>22918</td>\n",
       "      <td>5</td>\n",
       "      <td>16</td>\n",
       "      <td>2</td>\n",
       "      <td>5</td>\n",
       "      <td>44</td>\n",
       "      <td>1380</td>\n",
       "      <td>366</td>\n",
       "    </tr>\n",
       "    <tr>\n",
       "      <th>top</th>\n",
       "      <td>A705677</td>\n",
       "      <td>Max</td>\n",
       "      <td>2015-08-11 00:00:00</td>\n",
       "      <td>Adoption</td>\n",
       "      <td>Partner</td>\n",
       "      <td>Dog</td>\n",
       "      <td>Neutered Male</td>\n",
       "      <td>1 year</td>\n",
       "      <td>Domestic Shorthair Mix</td>\n",
       "      <td>Black/White</td>\n",
       "    </tr>\n",
       "    <tr>\n",
       "      <th>freq</th>\n",
       "      <td>1</td>\n",
       "      <td>136</td>\n",
       "      <td>19</td>\n",
       "      <td>10769</td>\n",
       "      <td>7816</td>\n",
       "      <td>15595</td>\n",
       "      <td>9779</td>\n",
       "      <td>3969</td>\n",
       "      <td>8810</td>\n",
       "      <td>2824</td>\n",
       "    </tr>\n",
       "  </tbody>\n",
       "</table>\n",
       "</div>"
      ],
      "text/plain": [
       "       AnimalID   Name             DateTime OutcomeType OutcomeSubtype  \\\n",
       "count     26729  19038                26729       26729          13117   \n",
       "unique    26729   6374                22918           5             16   \n",
       "top     A705677    Max  2015-08-11 00:00:00    Adoption        Partner   \n",
       "freq          1    136                   19       10769           7816   \n",
       "\n",
       "       AnimalType SexuponOutcome AgeuponOutcome                   Breed  \\\n",
       "count       26729          26728          26711                   26729   \n",
       "unique          2              5             44                    1380   \n",
       "top           Dog  Neutered Male         1 year  Domestic Shorthair Mix   \n",
       "freq        15595           9779           3969                    8810   \n",
       "\n",
       "              Color  \n",
       "count         26729  \n",
       "unique          366  \n",
       "top     Black/White  \n",
       "freq           2824  "
      ]
     },
     "execution_count": 7,
     "metadata": {},
     "output_type": "execute_result"
    }
   ],
   "source": [
    "train.describe()"
   ]
  },
  {
   "cell_type": "code",
   "execution_count": 8,
   "metadata": {
    "collapsed": false
   },
   "outputs": [
    {
     "data": {
      "text/html": [
       "<div>\n",
       "<table border=\"1\" class=\"dataframe\">\n",
       "  <thead>\n",
       "    <tr style=\"text-align: right;\">\n",
       "      <th></th>\n",
       "      <th>AnimalID</th>\n",
       "      <th>Name</th>\n",
       "      <th>DateTime</th>\n",
       "      <th>OutcomeType</th>\n",
       "      <th>OutcomeSubtype</th>\n",
       "      <th>AnimalType</th>\n",
       "      <th>SexuponOutcome</th>\n",
       "      <th>AgeuponOutcome</th>\n",
       "      <th>Breed</th>\n",
       "      <th>Color</th>\n",
       "    </tr>\n",
       "  </thead>\n",
       "  <tbody>\n",
       "    <tr>\n",
       "      <th>0</th>\n",
       "      <td>A671945</td>\n",
       "      <td>Hambone</td>\n",
       "      <td>2014-02-12 18:22:00</td>\n",
       "      <td>Return_to_owner</td>\n",
       "      <td>NaN</td>\n",
       "      <td>Dog</td>\n",
       "      <td>Neutered Male</td>\n",
       "      <td>1 year</td>\n",
       "      <td>Shetland Sheepdog Mix</td>\n",
       "      <td>Brown/White</td>\n",
       "    </tr>\n",
       "    <tr>\n",
       "      <th>1</th>\n",
       "      <td>A656520</td>\n",
       "      <td>Emily</td>\n",
       "      <td>2013-10-13 12:44:00</td>\n",
       "      <td>Euthanasia</td>\n",
       "      <td>Suffering</td>\n",
       "      <td>Cat</td>\n",
       "      <td>Spayed Female</td>\n",
       "      <td>1 year</td>\n",
       "      <td>Domestic Shorthair Mix</td>\n",
       "      <td>Cream Tabby</td>\n",
       "    </tr>\n",
       "    <tr>\n",
       "      <th>2</th>\n",
       "      <td>A686464</td>\n",
       "      <td>Pearce</td>\n",
       "      <td>2015-01-31 12:28:00</td>\n",
       "      <td>Adoption</td>\n",
       "      <td>Foster</td>\n",
       "      <td>Dog</td>\n",
       "      <td>Neutered Male</td>\n",
       "      <td>2 years</td>\n",
       "      <td>Pit Bull Mix</td>\n",
       "      <td>Blue/White</td>\n",
       "    </tr>\n",
       "    <tr>\n",
       "      <th>3</th>\n",
       "      <td>A683430</td>\n",
       "      <td>NaN</td>\n",
       "      <td>2014-07-11 19:09:00</td>\n",
       "      <td>Transfer</td>\n",
       "      <td>Partner</td>\n",
       "      <td>Cat</td>\n",
       "      <td>Intact Male</td>\n",
       "      <td>3 weeks</td>\n",
       "      <td>Domestic Shorthair Mix</td>\n",
       "      <td>Blue Cream</td>\n",
       "    </tr>\n",
       "    <tr>\n",
       "      <th>4</th>\n",
       "      <td>A667013</td>\n",
       "      <td>NaN</td>\n",
       "      <td>2013-11-15 12:52:00</td>\n",
       "      <td>Transfer</td>\n",
       "      <td>Partner</td>\n",
       "      <td>Dog</td>\n",
       "      <td>Neutered Male</td>\n",
       "      <td>2 years</td>\n",
       "      <td>Lhasa Apso/Miniature Poodle</td>\n",
       "      <td>Tan</td>\n",
       "    </tr>\n",
       "  </tbody>\n",
       "</table>\n",
       "</div>"
      ],
      "text/plain": [
       "  AnimalID     Name             DateTime      OutcomeType OutcomeSubtype  \\\n",
       "0  A671945  Hambone  2014-02-12 18:22:00  Return_to_owner            NaN   \n",
       "1  A656520    Emily  2013-10-13 12:44:00       Euthanasia      Suffering   \n",
       "2  A686464   Pearce  2015-01-31 12:28:00         Adoption         Foster   \n",
       "3  A683430      NaN  2014-07-11 19:09:00         Transfer        Partner   \n",
       "4  A667013      NaN  2013-11-15 12:52:00         Transfer        Partner   \n",
       "\n",
       "  AnimalType SexuponOutcome AgeuponOutcome                        Breed  \\\n",
       "0        Dog  Neutered Male         1 year        Shetland Sheepdog Mix   \n",
       "1        Cat  Spayed Female         1 year       Domestic Shorthair Mix   \n",
       "2        Dog  Neutered Male        2 years                 Pit Bull Mix   \n",
       "3        Cat    Intact Male        3 weeks       Domestic Shorthair Mix   \n",
       "4        Dog  Neutered Male        2 years  Lhasa Apso/Miniature Poodle   \n",
       "\n",
       "         Color  \n",
       "0  Brown/White  \n",
       "1  Cream Tabby  \n",
       "2   Blue/White  \n",
       "3   Blue Cream  \n",
       "4          Tan  "
      ]
     },
     "execution_count": 8,
     "metadata": {},
     "output_type": "execute_result"
    }
   ],
   "source": [
    "train.head()"
   ]
  },
  {
   "cell_type": "code",
   "execution_count": 9,
   "metadata": {
    "collapsed": false
   },
   "outputs": [
    {
     "data": {
      "text/html": [
       "<div>\n",
       "<table border=\"1\" class=\"dataframe\">\n",
       "  <thead>\n",
       "    <tr style=\"text-align: right;\">\n",
       "      <th></th>\n",
       "      <th>ID</th>\n",
       "      <th>Name</th>\n",
       "      <th>DateTime</th>\n",
       "      <th>AnimalType</th>\n",
       "      <th>SexuponOutcome</th>\n",
       "      <th>AgeuponOutcome</th>\n",
       "      <th>Breed</th>\n",
       "      <th>Color</th>\n",
       "    </tr>\n",
       "  </thead>\n",
       "  <tbody>\n",
       "    <tr>\n",
       "      <th>0</th>\n",
       "      <td>1</td>\n",
       "      <td>Summer</td>\n",
       "      <td>2015-10-12 12:15:00</td>\n",
       "      <td>Dog</td>\n",
       "      <td>Intact Female</td>\n",
       "      <td>10 months</td>\n",
       "      <td>Labrador Retriever Mix</td>\n",
       "      <td>Red/White</td>\n",
       "    </tr>\n",
       "    <tr>\n",
       "      <th>1</th>\n",
       "      <td>2</td>\n",
       "      <td>Cheyenne</td>\n",
       "      <td>2014-07-26 17:59:00</td>\n",
       "      <td>Dog</td>\n",
       "      <td>Spayed Female</td>\n",
       "      <td>2 years</td>\n",
       "      <td>German Shepherd/Siberian Husky</td>\n",
       "      <td>Black/Tan</td>\n",
       "    </tr>\n",
       "    <tr>\n",
       "      <th>2</th>\n",
       "      <td>3</td>\n",
       "      <td>Gus</td>\n",
       "      <td>2016-01-13 12:20:00</td>\n",
       "      <td>Cat</td>\n",
       "      <td>Neutered Male</td>\n",
       "      <td>1 year</td>\n",
       "      <td>Domestic Shorthair Mix</td>\n",
       "      <td>Brown Tabby</td>\n",
       "    </tr>\n",
       "    <tr>\n",
       "      <th>3</th>\n",
       "      <td>4</td>\n",
       "      <td>Pongo</td>\n",
       "      <td>2013-12-28 18:12:00</td>\n",
       "      <td>Dog</td>\n",
       "      <td>Intact Male</td>\n",
       "      <td>4 months</td>\n",
       "      <td>Collie Smooth Mix</td>\n",
       "      <td>Tricolor</td>\n",
       "    </tr>\n",
       "    <tr>\n",
       "      <th>4</th>\n",
       "      <td>5</td>\n",
       "      <td>Skooter</td>\n",
       "      <td>2015-09-24 17:59:00</td>\n",
       "      <td>Dog</td>\n",
       "      <td>Neutered Male</td>\n",
       "      <td>2 years</td>\n",
       "      <td>Miniature Poodle Mix</td>\n",
       "      <td>White</td>\n",
       "    </tr>\n",
       "  </tbody>\n",
       "</table>\n",
       "</div>"
      ],
      "text/plain": [
       "   ID      Name             DateTime AnimalType SexuponOutcome AgeuponOutcome  \\\n",
       "0   1    Summer  2015-10-12 12:15:00        Dog  Intact Female      10 months   \n",
       "1   2  Cheyenne  2014-07-26 17:59:00        Dog  Spayed Female        2 years   \n",
       "2   3       Gus  2016-01-13 12:20:00        Cat  Neutered Male         1 year   \n",
       "3   4     Pongo  2013-12-28 18:12:00        Dog    Intact Male       4 months   \n",
       "4   5   Skooter  2015-09-24 17:59:00        Dog  Neutered Male        2 years   \n",
       "\n",
       "                            Breed        Color  \n",
       "0          Labrador Retriever Mix    Red/White  \n",
       "1  German Shepherd/Siberian Husky    Black/Tan  \n",
       "2          Domestic Shorthair Mix  Brown Tabby  \n",
       "3               Collie Smooth Mix     Tricolor  \n",
       "4            Miniature Poodle Mix        White  "
      ]
     },
     "execution_count": 9,
     "metadata": {},
     "output_type": "execute_result"
    }
   ],
   "source": [
    "test.head()"
   ]
  },
  {
   "cell_type": "code",
   "execution_count": 10,
   "metadata": {
    "collapsed": false
   },
   "outputs": [
    {
     "name": "stdout",
     "output_type": "stream",
     "text": [
      "AnimalID <type 'str'>\n",
      "Name <type 'str'>\n",
      "DateTime <type 'str'>\n",
      "OutcomeType <type 'str'>\n",
      "OutcomeSubtype <type 'float'>\n",
      "AnimalType <type 'str'>\n",
      "SexuponOutcome <type 'str'>\n",
      "AgeuponOutcome <type 'str'>\n",
      "Breed <type 'str'>\n",
      "Color <type 'str'>\n"
     ]
    }
   ],
   "source": [
    "# checking specfic data type of each column\n",
    "for col in train.columns:\n",
    "    print col, type(train[col].head(1).values[0])"
   ]
  },
  {
   "cell_type": "markdown",
   "metadata": {},
   "source": [
    "Check number of uniques per column anticipating if dummifying is feasible; curse of dimensionality concern\n"
   ]
  },
  {
   "cell_type": "code",
   "execution_count": 11,
   "metadata": {
    "collapsed": false
   },
   "outputs": [
    {
     "name": "stdout",
     "output_type": "stream",
     "text": [
      "AnimalID 26729 ['A671945' 'A656520' 'A686464' ..., 'A698128' 'A677478' 'A706629']\n",
      "\n",
      "Name 6375 ['Hambone' 'Emily' 'Pearce' ..., 'Mowmow' 'Sonja' 'Green Bean']\n",
      "\n",
      "DateTime 22918 ['2014-02-12 18:22:00' '2013-10-13 12:44:00' '2015-01-31 12:28:00' ...,\n",
      " '2015-05-14 11:56:00' '2015-03-09 13:33:00' '2014-04-27 12:22:00']\n",
      "\n",
      "OutcomeType 5 ['Return_to_owner' 'Euthanasia' 'Adoption' 'Transfer' 'Died']\n",
      "\n",
      "OutcomeSubtype 17 [nan 'Suffering' 'Foster' 'Partner' 'Offsite' 'SCRP' 'Aggressive'\n",
      " 'Behavior' 'Rabies Risk' 'Medical' 'In Kennel' 'In Foster' 'Barn'\n",
      " 'Court/Investigation' 'Enroute' 'At Vet' 'In Surgery']\n",
      "\n",
      "AnimalType 2 ['Dog' 'Cat']\n",
      "\n",
      "SexuponOutcome 6 ['Neutered Male' 'Spayed Female' 'Intact Male' 'Intact Female' 'Unknown'\n",
      " nan]\n",
      "\n",
      "AgeuponOutcome 45 ['1 year' '2 years' '3 weeks' '1 month' '5 months' '4 years' '3 months'\n",
      " '2 weeks' '2 months' '10 months' '6 months' '5 years' '7 years' '3 years'\n",
      " '4 months' '12 years' '9 years' '6 years' '1 weeks' '11 years' '4 weeks'\n",
      " '7 months' '8 years' '11 months' '4 days' '9 months' '8 months' '15 years'\n",
      " '10 years' '1 week' '0 years' '14 years' '3 days' '6 days' '5 days'\n",
      " '5 weeks' '2 days' '16 years' '1 day' '13 years' nan '17 years' '18 years'\n",
      " '19 years' '20 years']\n",
      "\n",
      "Breed 1380 ['Shetland Sheepdog Mix' 'Domestic Shorthair Mix' 'Pit Bull Mix' ...,\n",
      " 'Vizsla/Boxer' 'German Shepherd/Australian Kelpie' 'Boxer/German Shepherd']\n",
      "\n",
      "Color 366 ['Brown/White' 'Cream Tabby' 'Blue/White' 'Blue Cream' 'Tan' 'Black/Tan'\n",
      " 'Blue Tabby' 'Brown Tabby' 'Red/White' 'White' 'Black' 'Silver' 'Brown'\n",
      " 'Black/Red' 'White/Cream' 'Orange Tabby/White' 'Black/White'\n",
      " 'Brown Brindle/White' 'Black/Brown' 'Orange Tabby' 'Chocolate/White'\n",
      " 'White/Tan' 'Cream Tabby/White' 'Blue' 'Calico' 'Torbie' 'Brown/Black'\n",
      " 'Yellow' 'Tricolor' 'White/Black' 'Tortie' 'Blue Tabby/White' 'Gray/White'\n",
      " 'Tan/Black' 'Tan/White' 'Buff' 'Brown Tabby/White' 'Red' 'Blue/Tan'\n",
      " 'Seal Point' 'Brown Brindle' 'White/Brown' 'Gray' 'Yellow Brindle/White'\n",
      " 'Fawn/White' 'Flame Point' 'Black Tabby/White' 'Tortie/Calico'\n",
      " 'Black/Brown Brindle' 'White/Gray' 'Tan/Silver' 'Red Tick/Black'\n",
      " 'White/Cream Tabby' 'Blue Merle' 'Chocolate/Tan' 'Sable'\n",
      " 'Brown Merle/White' 'Brown Tiger/White' 'Liver/White' 'White/Blue Tabby'\n",
      " 'Black/Gray' 'Cream' 'Chocolate' 'Blue Point' 'Apricot/White'\n",
      " 'Red Merle/Black' 'White/Brown Tabby' 'Blue Merle/White' 'Fawn'\n",
      " 'Lynx Point/White' 'Fawn/Black' 'Red Tick/White' 'Buff/Tan'\n",
      " 'Brown Brindle/Red Tick' 'White/Blue' 'Lilac Point' 'Buff/White'\n",
      " 'White/Orange Tabby' 'Tortie Point' 'Lynx Point' 'Tortie/White'\n",
      " 'Black/Tricolor' 'Apricot' 'Red/Tan' 'Tan/Brown' 'White/Tricolor'\n",
      " 'Brown/Tricolor' 'White/White' 'Gray Tabby' 'Sable/White'\n",
      " 'Blue Tiger/White' 'Yellow Brindle' 'White/Brown Brindle' 'Gold'\n",
      " 'Brown/Tan' 'Blue Tick' 'Torbie/White' 'Black Smoke/White'\n",
      " 'Blue Tabby/Orange' 'Red Merle' 'Tricolor/Blue' 'Yellow/White'\n",
      " 'Black Smoke' 'Calico Point' 'Blue Cream/Blue Tiger' 'Blue Merle/Gray'\n",
      " 'Brown/Silver' 'Tricolor/White' 'Sable/Black' 'Black Brindle'\n",
      " 'Tortie Point/Lynx Point' 'Brown Brindle/Black' 'Black/Buff'\n",
      " 'Calico/White' 'White/Orange' 'Black Tabby' 'Brown Merle'\n",
      " 'Black Brindle/White' 'Tan/Gray' 'Blue Merle/Brown' 'Red Merle/White'\n",
      " 'White/Chocolate Point' 'Silver/Black' 'White/Red' 'Cream/Red Tick'\n",
      " 'Cream/White' 'White/Liver' 'Chocolate/Gold' 'Calico Point/White'\n",
      " 'Brown/Brown' 'Seal Point/White' 'White/Black Brindle' 'Red/Black'\n",
      " 'Sable/Brown' 'Silver/Tan' 'White/Blue Merle' 'Calico/Brown Tabby'\n",
      " 'Silver Tabby' 'Tan/Blue' 'Blue Merle/Tan' 'Blue Tick/Black' 'Cream/Black'\n",
      " 'Chocolate/Tricolor' 'Gold/White' 'Silver/Brown' 'Cream/Gray'\n",
      " 'Black/Blue Tick' 'White/Chocolate' 'Black/Blue Merle' 'Red/Red Tick'\n",
      " 'Tricolor/Black' 'Orange' 'Black/Orange' 'Tan/Buff'\n",
      " 'Chocolate Point/White' 'Orange/White' 'Tortie/Blue Cream'\n",
      " 'White/Black Tabby' 'Brown/Red Tick' 'Blue/Brown Brindle'\n",
      " 'Black/Silver Tabby' 'Tan/Red' 'White/Lynx Point' 'Gray/Silver' 'Red/Gold'\n",
      " 'White/Buff' 'Tan/Gold' 'Blue Tabby/Blue Cream' 'Cream/Tan' 'Calico/Black'\n",
      " 'Sable/Tan' 'Blue/Black' 'Brown Tabby/Black' 'Red/Cream' 'Brown Tiger'\n",
      " 'Agouti' 'Gray/Tan' 'Calico/Tricolor' 'Black/Black' 'White/Blue Cream'\n",
      " 'Brown/Gray' 'Blue Point/White' 'Gray Tabby/White' 'White/Brown Tiger'\n",
      " 'Black/Cream' 'Red Tick/Tan' 'Orange Tabby/Apricot' 'Red Tick/Brown'\n",
      " 'White/Brown Merle' 'Fawn/Tricolor' 'Blue Smoke' 'Chocolate/Brown Brindle'\n",
      " 'Black Brindle/Black' 'Tan/Cream' 'Black Tabby/Orange' 'Apricot/Brown'\n",
      " 'Gray/Black' 'Buff/Red' 'Tan/Brown Brindle' 'Brown/Red' 'Black/Silver'\n",
      " 'Red Tick' 'Blue Tick/White' 'Silver Tabby/White' 'White/Apricot'\n",
      " 'White/Red Merle' 'Fawn/Brown Brindle' 'Orange/Tan' 'Black/Black Smoke'\n",
      " 'Brown/Chocolate' 'Liver Tick' 'Cream/Red' 'Black Smoke/Brown Tabby'\n",
      " 'Gray/Cream' 'Chocolate Point' 'Blue Merle/Tricolor' 'Red/Blue'\n",
      " 'Tricolor/Brown Merle' 'Blue/Tortie' 'Blue Smoke/Brown' 'Red/Brown'\n",
      " 'White/Silver' 'Tricolor/Brown' 'Chocolate/Brown' 'Blue Cream/White'\n",
      " 'Chocolate/Red' 'Cream/Brown' 'Blue Merle/Cream' 'Buff/Black'\n",
      " 'Tortie/Orange' 'Brown Merle/Black' 'Seal Point/Brown' 'Blue Tabby/Tan'\n",
      " 'Red/Red Merle' 'Tortie/Brown' 'Sable/Cream' 'Black/Black Tabby'\n",
      " 'Brown Tabby/Gray' 'Tan/Tan' 'Blue Tick/Brown' 'Chocolate/Black Smoke'\n",
      " 'Brown/Black Tabby' 'Brown/Buff' 'Yellow Brindle/Tan' 'Blue Tick/Tan'\n",
      " 'Red Tick/Brown Merle' 'White/Yellow' 'Lynx Point/Brown Tabby'\n",
      " 'Torbie/Brown' 'Liver/Buff' 'Tricolor/Tan' 'Chocolate/Black' 'Pink'\n",
      " 'Black/Blue' 'White/Gold' 'Red Tick/Red' 'Black/Yellow Brindle'\n",
      " 'Black/Chocolate' 'Silver Lynx Point' 'Brown/Brown Merle'\n",
      " 'Orange Tabby/Black' 'Tortie/Black' 'Brown Tabby/Brown'\n",
      " 'Brown Brindle/Tan' 'Torbie/Blue Cream' 'Black Brindle/Brown'\n",
      " 'Red/Tricolor' 'Blue/Yellow Brindle' 'White/Black Smoke' 'Ruddy/Cream'\n",
      " 'Blue Merle/Black' 'White/Yellow Brindle' 'Blue/Cream' 'Gold/Yellow'\n",
      " 'Blue Tiger' 'Tan/Brown Merle' 'White/Red Tick' 'Buff/Yellow'\n",
      " 'Tricolor/Chocolate' 'Silver/White' 'Gold/Tan' 'Gold/Gold'\n",
      " 'Tortie Point/White' 'Blue Tick/Red Tick' 'Brown Merle/Tan'\n",
      " 'Red Tick/Blue Tick' 'Brown/Blue Smoke' 'Liver/Tan' 'Red Merle/Tan'\n",
      " 'Black/Black Brindle' 'Blue Cream/Buff' 'Gray/Brown' 'Blue/Orange'\n",
      " 'Brown Merle/Blue Merle' 'White/Pink' 'Calico/Brown' 'Torbie/Calico'\n",
      " 'White/Gray Tabby' 'Brown Brindle/Blue' 'Brown/Blue' 'Blue Merle/Red'\n",
      " 'Brown Brindle/Brown Merle' 'Blue/Brown' 'Calico/Orange Tabby'\n",
      " 'White/Flame Point' 'Brown/Cream' 'Brown Brindle/Brown Brindle'\n",
      " 'Blue Merle/Blue Merle' 'White/Calico' 'Fawn/Brown' 'Gold/Black'\n",
      " 'Chocolate/Brown Merle' 'White/Blue Tick' 'Agouti/Brown Tabby'\n",
      " 'Brown Tabby/Tortie' 'Black/Yellow' 'Chocolate/Red Tick' 'Gray/Red'\n",
      " 'Brown Brindle/Blue Tick' 'Tan/Apricot' 'Blue Tick/Brown Brindle'\n",
      " 'Liver Tick/White' 'Cream/Seal Point' 'Lynx Point/Gray Tabby' 'Red/Buff'\n",
      " 'Tan/Tricolor' 'Blue Tabby/Cream' 'Black Tiger/White' 'Silver/Chocolate'\n",
      " 'Tricolor/Silver' 'Blue Merle/Red Merle' 'Silver Tabby/Black'\n",
      " 'Tortie/Black Smoke' 'Orange/Orange Tabby' 'Fawn/Blue' 'Black/Brown Merle'\n",
      " 'Tricolor/Blue Merle' 'Blue Cream/Tortie' 'Orange Tabby/Orange'\n",
      " 'Blue Tick/Red' 'Fawn/Tan' 'Brown Tabby/Orange' 'Yellow Brindle/Blue'\n",
      " 'Brown Brindle/Blue Cream' 'Yellow/Black' 'Calico/Blue Cream'\n",
      " 'Tan/Yellow Brindle' 'Black Brindle/Brown Brindle' 'Chocolate/Cream'\n",
      " 'Blue Cream/Blue Tabby' 'Calico/Blue Tabby' 'Orange Tiger' 'Cream/Orange'\n",
      " 'Sable/Red' 'Buff/Gray' 'Gold/Buff' 'Silver/Red' 'Tricolor/Calico'\n",
      " 'Brown/Black Brindle' 'Chocolate/Gray' 'Brown Tabby/Gray Tabby'\n",
      " 'Yellow/Yellow' 'Gray Tabby/Black' 'Red/Silver' 'Buff/Brown' 'Sable/Buff']\n",
      "\n"
     ]
    }
   ],
   "source": [
    "for col in train.columns:\n",
    "    uniques = train[col].unique()\n",
    "    print col, len(uniques), uniques\n",
    "    print"
   ]
  },
  {
   "cell_type": "markdown",
   "metadata": {},
   "source": [
    "Value counts for the different outcomes shows a class imbalance. Need to decide if we are going to oversample or undersample each of the different outcomes."
   ]
  },
  {
   "cell_type": "code",
   "execution_count": 12,
   "metadata": {
    "collapsed": false
   },
   "outputs": [],
   "source": [
    "outcomes_counts = train['OutcomeType'].value_counts()"
   ]
  },
  {
   "cell_type": "markdown",
   "metadata": {},
   "source": [
    "The classes we are interested in detecting are `Euthanasia` and `Died` because these are the ones that did not find a home in the end. These classes are also undersampled."
   ]
  },
  {
   "cell_type": "code",
   "execution_count": 13,
   "metadata": {
    "collapsed": false
   },
   "outputs": [
    {
     "data": {
      "text/plain": [
       "Adoption           10769\n",
       "Transfer            9422\n",
       "Return_to_owner     4786\n",
       "Euthanasia          1555\n",
       "Died                 197\n",
       "Name: OutcomeType, dtype: int64"
      ]
     },
     "execution_count": 13,
     "metadata": {},
     "output_type": "execute_result"
    }
   ],
   "source": [
    "outcomes_counts"
   ]
  },
  {
   "cell_type": "code",
   "execution_count": 26,
   "metadata": {
    "collapsed": false
   },
   "outputs": [],
   "source": [
    "sns.set # matplotlib defaults\n",
    "\n",
    "rc={'figure.figsize': (20,8), 'axes.labelsize': 24, 'font.size': 40., 'legend.fontsize': 20.0,\\\n",
    "    'axes.titlesize': 20}\n",
    "\n",
    "plt.rcParams.update(**rc)\n",
    "    \n",
    "%config InlineBackend.figure_format = 'retina'"
   ]
  },
  {
   "cell_type": "code",
   "execution_count": 27,
   "metadata": {
    "collapsed": false
   },
   "outputs": [
    {
     "data": {
      "image/png": "[encoded data removed]",
      "text/plain": [
       "<matplotlib.figure.Figure at 0x117fe0810>"
      ]
     },
     "metadata": {
      "image/png": {
       "height": 519,
       "width": 1212
      }
     },
     "output_type": "display_data"
    }
   ],
   "source": [
    "# visualization of unbalanced outcome classes\n",
    "ax = sns.countplot(train['OutcomeType'])\n",
    "ax.tick_params(axis='both', labelsize=17)"
   ]
  },
  {
   "cell_type": "code",
   "execution_count": 28,
   "metadata": {
    "collapsed": false
   },
   "outputs": [
    {
     "name": "stdout",
     "output_type": "stream",
     "text": [
      "Max        136\n",
      "Bella      135\n",
      "Charlie    107\n",
      "Daisy      106\n",
      "Lucy        94\n",
      "Name: Name, dtype: int64\n",
      "\n",
      "6375 unique pet names\n",
      "\n",
      "Percentage Name Nulls 0.287739907965\n"
     ]
    }
   ],
   "source": [
    "# glimpse top names\n",
    "print train['Name'].value_counts().head()\n",
    "print\n",
    "\n",
    "# how many unique names? 6,375\n",
    "print len(train['Name'].unique()), \"unique pet names\" # too many unique names to dummify; curse of dimensionality \n",
    "print\n",
    "\n",
    "# 29% have no names; extract a hasName feature?\n",
    "print \"Percentage Name Nulls\", train[train['Name'].isnull()].shape[0] / float(train.shape[0]) # too many nulls to simply drop"
   ]
  },
  {
   "cell_type": "markdown",
   "metadata": {},
   "source": [
    "Reasons for dropping OutcomeSubtype when creating our model:\n",
    "\n",
    "+ Test set has no OutcomeSubtype column\n",
    "+ Our model will not know OutcomeSubtype because knowledge of OutcomeSubtype occurs at the time of OutcomeType. This is an example of target leakage."
   ]
  },
  {
   "cell_type": "markdown",
   "metadata": {},
   "source": [
    "However, there are some interesting observations made from studying OutcomeSubtype:\n",
    "+ Adoptions tend to be to foster homes\n",
    "+ When animals die for reasons other than euthanasia, they tend to be in the kennel or in foster care\n",
    "+ Animals are euthanized mainly for suffering and aggressive behavior\n",
    "+ When transferred, animals to to either another partner shelter or the SCRP"
   ]
  },
  {
   "cell_type": "code",
   "execution_count": 17,
   "metadata": {
    "collapsed": false
   },
   "outputs": [
    {
     "data": {
      "text/html": [
       "<div>\n",
       "<table border=\"1\" class=\"dataframe\">\n",
       "  <thead>\n",
       "    <tr style=\"text-align: right;\">\n",
       "      <th></th>\n",
       "      <th></th>\n",
       "      <th>AnimalID</th>\n",
       "      <th>Name</th>\n",
       "      <th>DateTime</th>\n",
       "      <th>AnimalType</th>\n",
       "      <th>SexuponOutcome</th>\n",
       "      <th>AgeuponOutcome</th>\n",
       "      <th>Breed</th>\n",
       "      <th>Color</th>\n",
       "    </tr>\n",
       "    <tr>\n",
       "      <th>OutcomeType</th>\n",
       "      <th>OutcomeSubtype</th>\n",
       "      <th></th>\n",
       "      <th></th>\n",
       "      <th></th>\n",
       "      <th></th>\n",
       "      <th></th>\n",
       "      <th></th>\n",
       "      <th></th>\n",
       "      <th></th>\n",
       "    </tr>\n",
       "  </thead>\n",
       "  <tbody>\n",
       "    <tr>\n",
       "      <th rowspan=\"3\" valign=\"top\">Adoption</th>\n",
       "      <th>Barn</th>\n",
       "      <td>1</td>\n",
       "      <td>0</td>\n",
       "      <td>1</td>\n",
       "      <td>1</td>\n",
       "      <td>1</td>\n",
       "      <td>1</td>\n",
       "      <td>1</td>\n",
       "      <td>1</td>\n",
       "    </tr>\n",
       "    <tr>\n",
       "      <th>Foster</th>\n",
       "      <td>1800</td>\n",
       "      <td>1542</td>\n",
       "      <td>1800</td>\n",
       "      <td>1800</td>\n",
       "      <td>1800</td>\n",
       "      <td>1800</td>\n",
       "      <td>1800</td>\n",
       "      <td>1800</td>\n",
       "    </tr>\n",
       "    <tr>\n",
       "      <th>Offsite</th>\n",
       "      <td>165</td>\n",
       "      <td>132</td>\n",
       "      <td>165</td>\n",
       "      <td>165</td>\n",
       "      <td>165</td>\n",
       "      <td>165</td>\n",
       "      <td>165</td>\n",
       "      <td>165</td>\n",
       "    </tr>\n",
       "    <tr>\n",
       "      <th rowspan=\"5\" valign=\"top\">Died</th>\n",
       "      <th>At Vet</th>\n",
       "      <td>4</td>\n",
       "      <td>3</td>\n",
       "      <td>4</td>\n",
       "      <td>4</td>\n",
       "      <td>4</td>\n",
       "      <td>4</td>\n",
       "      <td>4</td>\n",
       "      <td>4</td>\n",
       "    </tr>\n",
       "    <tr>\n",
       "      <th>Enroute</th>\n",
       "      <td>8</td>\n",
       "      <td>1</td>\n",
       "      <td>8</td>\n",
       "      <td>8</td>\n",
       "      <td>8</td>\n",
       "      <td>8</td>\n",
       "      <td>8</td>\n",
       "      <td>8</td>\n",
       "    </tr>\n",
       "    <tr>\n",
       "      <th>In Foster</th>\n",
       "      <td>52</td>\n",
       "      <td>29</td>\n",
       "      <td>52</td>\n",
       "      <td>52</td>\n",
       "      <td>52</td>\n",
       "      <td>52</td>\n",
       "      <td>52</td>\n",
       "      <td>52</td>\n",
       "    </tr>\n",
       "    <tr>\n",
       "      <th>In Kennel</th>\n",
       "      <td>114</td>\n",
       "      <td>35</td>\n",
       "      <td>114</td>\n",
       "      <td>114</td>\n",
       "      <td>114</td>\n",
       "      <td>114</td>\n",
       "      <td>114</td>\n",
       "      <td>114</td>\n",
       "    </tr>\n",
       "    <tr>\n",
       "      <th>In Surgery</th>\n",
       "      <td>3</td>\n",
       "      <td>2</td>\n",
       "      <td>3</td>\n",
       "      <td>3</td>\n",
       "      <td>3</td>\n",
       "      <td>3</td>\n",
       "      <td>3</td>\n",
       "      <td>3</td>\n",
       "    </tr>\n",
       "    <tr>\n",
       "      <th rowspan=\"6\" valign=\"top\">Euthanasia</th>\n",
       "      <th>Aggressive</th>\n",
       "      <td>320</td>\n",
       "      <td>278</td>\n",
       "      <td>320</td>\n",
       "      <td>320</td>\n",
       "      <td>320</td>\n",
       "      <td>320</td>\n",
       "      <td>320</td>\n",
       "      <td>320</td>\n",
       "    </tr>\n",
       "    <tr>\n",
       "      <th>Behavior</th>\n",
       "      <td>86</td>\n",
       "      <td>74</td>\n",
       "      <td>86</td>\n",
       "      <td>86</td>\n",
       "      <td>86</td>\n",
       "      <td>86</td>\n",
       "      <td>86</td>\n",
       "      <td>86</td>\n",
       "    </tr>\n",
       "    <tr>\n",
       "      <th>Court/Investigation</th>\n",
       "      <td>6</td>\n",
       "      <td>6</td>\n",
       "      <td>6</td>\n",
       "      <td>6</td>\n",
       "      <td>6</td>\n",
       "      <td>6</td>\n",
       "      <td>6</td>\n",
       "      <td>6</td>\n",
       "    </tr>\n",
       "    <tr>\n",
       "      <th>Medical</th>\n",
       "      <td>66</td>\n",
       "      <td>38</td>\n",
       "      <td>66</td>\n",
       "      <td>66</td>\n",
       "      <td>66</td>\n",
       "      <td>66</td>\n",
       "      <td>66</td>\n",
       "      <td>66</td>\n",
       "    </tr>\n",
       "    <tr>\n",
       "      <th>Rabies Risk</th>\n",
       "      <td>74</td>\n",
       "      <td>43</td>\n",
       "      <td>74</td>\n",
       "      <td>74</td>\n",
       "      <td>74</td>\n",
       "      <td>74</td>\n",
       "      <td>74</td>\n",
       "      <td>74</td>\n",
       "    </tr>\n",
       "    <tr>\n",
       "      <th>Suffering</th>\n",
       "      <td>1002</td>\n",
       "      <td>301</td>\n",
       "      <td>1002</td>\n",
       "      <td>1002</td>\n",
       "      <td>1002</td>\n",
       "      <td>1000</td>\n",
       "      <td>1002</td>\n",
       "      <td>1002</td>\n",
       "    </tr>\n",
       "    <tr>\n",
       "      <th rowspan=\"3\" valign=\"top\">Transfer</th>\n",
       "      <th>Barn</th>\n",
       "      <td>1</td>\n",
       "      <td>1</td>\n",
       "      <td>1</td>\n",
       "      <td>1</td>\n",
       "      <td>1</td>\n",
       "      <td>1</td>\n",
       "      <td>1</td>\n",
       "      <td>1</td>\n",
       "    </tr>\n",
       "    <tr>\n",
       "      <th>Partner</th>\n",
       "      <td>7816</td>\n",
       "      <td>4436</td>\n",
       "      <td>7816</td>\n",
       "      <td>7816</td>\n",
       "      <td>7816</td>\n",
       "      <td>7816</td>\n",
       "      <td>7816</td>\n",
       "      <td>7816</td>\n",
       "    </tr>\n",
       "    <tr>\n",
       "      <th>SCRP</th>\n",
       "      <td>1599</td>\n",
       "      <td>58</td>\n",
       "      <td>1599</td>\n",
       "      <td>1599</td>\n",
       "      <td>1599</td>\n",
       "      <td>1583</td>\n",
       "      <td>1599</td>\n",
       "      <td>1599</td>\n",
       "    </tr>\n",
       "  </tbody>\n",
       "</table>\n",
       "</div>"
      ],
      "text/plain": [
       "                                 AnimalID  Name  DateTime  AnimalType  \\\n",
       "OutcomeType OutcomeSubtype                                              \n",
       "Adoption    Barn                        1     0         1           1   \n",
       "            Foster                   1800  1542      1800        1800   \n",
       "            Offsite                   165   132       165         165   \n",
       "Died        At Vet                      4     3         4           4   \n",
       "            Enroute                     8     1         8           8   \n",
       "            In Foster                  52    29        52          52   \n",
       "            In Kennel                 114    35       114         114   \n",
       "            In Surgery                  3     2         3           3   \n",
       "Euthanasia  Aggressive                320   278       320         320   \n",
       "            Behavior                   86    74        86          86   \n",
       "            Court/Investigation         6     6         6           6   \n",
       "            Medical                    66    38        66          66   \n",
       "            Rabies Risk                74    43        74          74   \n",
       "            Suffering                1002   301      1002        1002   \n",
       "Transfer    Barn                        1     1         1           1   \n",
       "            Partner                  7816  4436      7816        7816   \n",
       "            SCRP                     1599    58      1599        1599   \n",
       "\n",
       "                                 SexuponOutcome  AgeuponOutcome  Breed  Color  \n",
       "OutcomeType OutcomeSubtype                                                     \n",
       "Adoption    Barn                              1               1      1      1  \n",
       "            Foster                         1800            1800   1800   1800  \n",
       "            Offsite                         165             165    165    165  \n",
       "Died        At Vet                            4               4      4      4  \n",
       "            Enroute                           8               8      8      8  \n",
       "            In Foster                        52              52     52     52  \n",
       "            In Kennel                       114             114    114    114  \n",
       "            In Surgery                        3               3      3      3  \n",
       "Euthanasia  Aggressive                      320             320    320    320  \n",
       "            Behavior                         86              86     86     86  \n",
       "            Court/Investigation               6               6      6      6  \n",
       "            Medical                          66              66     66     66  \n",
       "            Rabies Risk                      74              74     74     74  \n",
       "            Suffering                      1002            1000   1002   1002  \n",
       "Transfer    Barn                              1               1      1      1  \n",
       "            Partner                        7816            7816   7816   7816  \n",
       "            SCRP                           1599            1583   1599   1599  "
      ]
     },
     "execution_count": 17,
     "metadata": {},
     "output_type": "execute_result"
    }
   ],
   "source": [
    "# count of OutcomeSubtype\n",
    "train.groupby(['OutcomeType', 'OutcomeSubtype']).count()"
   ]
  },
  {
   "cell_type": "markdown",
   "metadata": {},
   "source": [
    "### Exploring sample_submission.csv to understand how to make a submission"
   ]
  },
  {
   "cell_type": "code",
   "execution_count": 18,
   "metadata": {
    "collapsed": false
   },
   "outputs": [
    {
     "data": {
      "text/html": [
       "<div>\n",
       "<table border=\"1\" class=\"dataframe\">\n",
       "  <thead>\n",
       "    <tr style=\"text-align: right;\">\n",
       "      <th></th>\n",
       "      <th>ID</th>\n",
       "      <th>Adoption</th>\n",
       "      <th>Died</th>\n",
       "      <th>Euthanasia</th>\n",
       "      <th>Return_to_owner</th>\n",
       "      <th>Transfer</th>\n",
       "    </tr>\n",
       "  </thead>\n",
       "  <tbody>\n",
       "    <tr>\n",
       "      <th>0</th>\n",
       "      <td>1</td>\n",
       "      <td>1</td>\n",
       "      <td>0</td>\n",
       "      <td>0</td>\n",
       "      <td>0</td>\n",
       "      <td>0</td>\n",
       "    </tr>\n",
       "    <tr>\n",
       "      <th>1</th>\n",
       "      <td>2</td>\n",
       "      <td>1</td>\n",
       "      <td>0</td>\n",
       "      <td>0</td>\n",
       "      <td>0</td>\n",
       "      <td>0</td>\n",
       "    </tr>\n",
       "    <tr>\n",
       "      <th>2</th>\n",
       "      <td>3</td>\n",
       "      <td>1</td>\n",
       "      <td>0</td>\n",
       "      <td>0</td>\n",
       "      <td>0</td>\n",
       "      <td>0</td>\n",
       "    </tr>\n",
       "    <tr>\n",
       "      <th>3</th>\n",
       "      <td>4</td>\n",
       "      <td>1</td>\n",
       "      <td>0</td>\n",
       "      <td>0</td>\n",
       "      <td>0</td>\n",
       "      <td>0</td>\n",
       "    </tr>\n",
       "    <tr>\n",
       "      <th>4</th>\n",
       "      <td>5</td>\n",
       "      <td>1</td>\n",
       "      <td>0</td>\n",
       "      <td>0</td>\n",
       "      <td>0</td>\n",
       "      <td>0</td>\n",
       "    </tr>\n",
       "  </tbody>\n",
       "</table>\n",
       "</div>"
      ],
      "text/plain": [
       "   ID  Adoption  Died  Euthanasia  Return_to_owner  Transfer\n",
       "0   1         1     0           0                0         0\n",
       "1   2         1     0           0                0         0\n",
       "2   3         1     0           0                0         0\n",
       "3   4         1     0           0                0         0\n",
       "4   5         1     0           0                0         0"
      ]
     },
     "execution_count": 18,
     "metadata": {},
     "output_type": "execute_result"
    }
   ],
   "source": [
    "# check submission format\n",
    "sample.head()"
   ]
  },
  {
   "cell_type": "code",
   "execution_count": null,
   "metadata": {
    "collapsed": true
   },
   "outputs": [],
   "source": []
  }
 ],
 "metadata": {
  "kernelspec": {
   "display_name": "Python 2",
   "language": "python",
   "name": "python2"
  },
  "language_info": {
   "codemirror_mode": {
    "name": "ipython",
    "version": 2
   },
   "file_extension": ".py",
   "mimetype": "text/x-python",
   "name": "python",
   "nbconvert_exporter": "python",
   "pygments_lexer": "ipython2",
   "version": "2.7.11"
  }
 },
 "nbformat": 4,
 "nbformat_minor": 0
}
