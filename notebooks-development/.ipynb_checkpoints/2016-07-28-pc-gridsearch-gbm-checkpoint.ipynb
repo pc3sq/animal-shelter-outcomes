{
 "cells": [
  {
   "cell_type": "code",
   "execution_count": 13,
   "metadata": {
    "collapsed": true
   },
   "outputs": [],
   "source": [
    "import pandas as pd, sys, time\n",
    "from sklearn import cross_validation\n",
    "from sklearn.ensemble import GradientBoostingClassifier\n",
    "from sklearn.metrics import log_loss\n",
    "from sklearn.grid_search import GridSearchCV\n",
    "from sklearn.externals import joblib"
   ]
  },
  {
   "cell_type": "code",
   "execution_count": 7,
   "metadata": {
    "collapsed": false
   },
   "outputs": [],
   "source": [
    "# add main directory to path in order to import other parts of the shelter animal outcomes project\n",
    "sys.path.extend(['/Users/pc3sq/Google Drive/Data Science Library/!notebooks/shelter animal outcomes kaggle/'])"
   ]
  },
  {
   "cell_type": "code",
   "execution_count": 82,
   "metadata": {
    "collapsed": true
   },
   "outputs": [],
   "source": [
    "from src.pipeline import cleaning_pipeline, transform_pipeline\n",
    "from src.prepare_submission import process_probas"
   ]
  },
  {
   "cell_type": "markdown",
   "metadata": {},
   "source": [
    "## Prepping Test Set For Predictions"
   ]
  },
  {
   "cell_type": "code",
   "execution_count": 31,
   "metadata": {
    "collapsed": true
   },
   "outputs": [],
   "source": [
    "submission = pd.read_csv('../data/test.csv')"
   ]
  },
  {
   "cell_type": "code",
   "execution_count": 32,
   "metadata": {
    "collapsed": false
   },
   "outputs": [
    {
     "name": "stdout",
     "output_type": "stream",
     "text": [
      "Index([u'ID', u'Name', u'DateTime', u'AnimalType', u'SexuponOutcome',\n",
      "       u'AgeuponOutcome', u'Breed', u'Color'],\n",
      "      dtype='object')\n"
     ]
    }
   ],
   "source": [
    "clean_submission = cleaning_pipeline(submission)"
   ]
  },
  {
   "cell_type": "code",
   "execution_count": 33,
   "metadata": {
    "collapsed": true
   },
   "outputs": [],
   "source": [
    "trans_submission = transform_pipeline(clean_submission)"
   ]
  },
  {
   "cell_type": "code",
   "execution_count": 34,
   "metadata": {
    "collapsed": false
   },
   "outputs": [],
   "source": [
    "X_submission = trans_submission.drop('ID', axis=1)"
   ]
  },
  {
   "cell_type": "markdown",
   "metadata": {},
   "source": [
    "## Prepping & Splitting Training Set For Grid Search"
   ]
  },
  {
   "cell_type": "code",
   "execution_count": 27,
   "metadata": {
    "collapsed": true
   },
   "outputs": [],
   "source": [
    "transformed = pd.read_csv('../data/shelter-transform-2016-07-28.csv')"
   ]
  },
  {
   "cell_type": "code",
   "execution_count": 28,
   "metadata": {
    "collapsed": false
   },
   "outputs": [
    {
     "data": {
      "text/html": [
       "<div>\n",
       "<table border=\"1\" class=\"dataframe\">\n",
       "  <thead>\n",
       "    <tr style=\"text-align: right;\">\n",
       "      <th></th>\n",
       "      <th>OutcomeType</th>\n",
       "      <th>AgeuponOutcome</th>\n",
       "      <th>ageInDaysAtOutcome</th>\n",
       "      <th>hasAge</th>\n",
       "      <th>Dog</th>\n",
       "      <th>pureBreed</th>\n",
       "      <th>hasName</th>\n",
       "      <th>Multi-Colored</th>\n",
       "      <th>Patterned</th>\n",
       "      <th>SexuponOutcome_Intact Female</th>\n",
       "      <th>SexuponOutcome_Intact Male</th>\n",
       "      <th>SexuponOutcome_Neutered Male</th>\n",
       "      <th>SexuponOutcome_Spayed Female</th>\n",
       "      <th>SexuponOutcome_Unknown</th>\n",
       "    </tr>\n",
       "  </thead>\n",
       "  <tbody>\n",
       "    <tr>\n",
       "      <th>0</th>\n",
       "      <td>Return_to_owner</td>\n",
       "      <td>365</td>\n",
       "      <td>365.0</td>\n",
       "      <td>1</td>\n",
       "      <td>1</td>\n",
       "      <td>0</td>\n",
       "      <td>1</td>\n",
       "      <td>1</td>\n",
       "      <td>0</td>\n",
       "      <td>0.0</td>\n",
       "      <td>0.0</td>\n",
       "      <td>1.0</td>\n",
       "      <td>0.0</td>\n",
       "      <td>0.0</td>\n",
       "    </tr>\n",
       "    <tr>\n",
       "      <th>1</th>\n",
       "      <td>Euthanasia</td>\n",
       "      <td>365</td>\n",
       "      <td>365.0</td>\n",
       "      <td>1</td>\n",
       "      <td>0</td>\n",
       "      <td>0</td>\n",
       "      <td>1</td>\n",
       "      <td>1</td>\n",
       "      <td>1</td>\n",
       "      <td>0.0</td>\n",
       "      <td>0.0</td>\n",
       "      <td>0.0</td>\n",
       "      <td>1.0</td>\n",
       "      <td>0.0</td>\n",
       "    </tr>\n",
       "    <tr>\n",
       "      <th>2</th>\n",
       "      <td>Adoption</td>\n",
       "      <td>730</td>\n",
       "      <td>730.0</td>\n",
       "      <td>1</td>\n",
       "      <td>1</td>\n",
       "      <td>0</td>\n",
       "      <td>1</td>\n",
       "      <td>1</td>\n",
       "      <td>0</td>\n",
       "      <td>0.0</td>\n",
       "      <td>0.0</td>\n",
       "      <td>1.0</td>\n",
       "      <td>0.0</td>\n",
       "      <td>0.0</td>\n",
       "    </tr>\n",
       "    <tr>\n",
       "      <th>3</th>\n",
       "      <td>Transfer</td>\n",
       "      <td>21</td>\n",
       "      <td>21.0</td>\n",
       "      <td>1</td>\n",
       "      <td>0</td>\n",
       "      <td>0</td>\n",
       "      <td>0</td>\n",
       "      <td>1</td>\n",
       "      <td>0</td>\n",
       "      <td>0.0</td>\n",
       "      <td>1.0</td>\n",
       "      <td>0.0</td>\n",
       "      <td>0.0</td>\n",
       "      <td>0.0</td>\n",
       "    </tr>\n",
       "    <tr>\n",
       "      <th>4</th>\n",
       "      <td>Transfer</td>\n",
       "      <td>730</td>\n",
       "      <td>730.0</td>\n",
       "      <td>1</td>\n",
       "      <td>1</td>\n",
       "      <td>0</td>\n",
       "      <td>0</td>\n",
       "      <td>0</td>\n",
       "      <td>0</td>\n",
       "      <td>0.0</td>\n",
       "      <td>0.0</td>\n",
       "      <td>1.0</td>\n",
       "      <td>0.0</td>\n",
       "      <td>0.0</td>\n",
       "    </tr>\n",
       "  </tbody>\n",
       "</table>\n",
       "</div>"
      ],
      "text/plain": [
       "       OutcomeType  AgeuponOutcome  ageInDaysAtOutcome  hasAge  Dog  \\\n",
       "0  Return_to_owner             365               365.0       1    1   \n",
       "1       Euthanasia             365               365.0       1    0   \n",
       "2         Adoption             730               730.0       1    1   \n",
       "3         Transfer              21                21.0       1    0   \n",
       "4         Transfer             730               730.0       1    1   \n",
       "\n",
       "   pureBreed  hasName  Multi-Colored  Patterned  SexuponOutcome_Intact Female  \\\n",
       "0          0        1              1          0                           0.0   \n",
       "1          0        1              1          1                           0.0   \n",
       "2          0        1              1          0                           0.0   \n",
       "3          0        0              1          0                           0.0   \n",
       "4          0        0              0          0                           0.0   \n",
       "\n",
       "   SexuponOutcome_Intact Male  SexuponOutcome_Neutered Male  \\\n",
       "0                         0.0                           1.0   \n",
       "1                         0.0                           0.0   \n",
       "2                         0.0                           1.0   \n",
       "3                         1.0                           0.0   \n",
       "4                         0.0                           1.0   \n",
       "\n",
       "   SexuponOutcome_Spayed Female  SexuponOutcome_Unknown  \n",
       "0                           0.0                     0.0  \n",
       "1                           1.0                     0.0  \n",
       "2                           0.0                     0.0  \n",
       "3                           0.0                     0.0  \n",
       "4                           0.0                     0.0  "
      ]
     },
     "execution_count": 28,
     "metadata": {},
     "output_type": "execute_result"
    }
   ],
   "source": [
    "transformed.head()"
   ]
  },
  {
   "cell_type": "code",
   "execution_count": 36,
   "metadata": {
    "collapsed": true
   },
   "outputs": [],
   "source": [
    "trans_X = transformed.drop('OutcomeType', axis=1)"
   ]
  },
  {
   "cell_type": "code",
   "execution_count": 37,
   "metadata": {
    "collapsed": true
   },
   "outputs": [],
   "source": [
    "trans_y = transformed['OutcomeType']"
   ]
  },
  {
   "cell_type": "code",
   "execution_count": 50,
   "metadata": {
    "collapsed": true
   },
   "outputs": [],
   "source": [
    "X_train, X_test, y_train, y_test = cross_validation.train_test_split(trans_X, trans_y, test_size=0.25, random_state=10)"
   ]
  },
  {
   "cell_type": "markdown",
   "metadata": {},
   "source": [
    "# <center>Gridsearch w/ GBM</center>"
   ]
  },
  {
   "cell_type": "code",
   "execution_count": 65,
   "metadata": {
    "collapsed": true
   },
   "outputs": [],
   "source": [
    "def gridsearch_gbm(params_grid, X_train, y_train):\n",
    "    model_start = time.time()  \n",
    "    gbc = GradientBoostingClassifier()\n",
    "    best_model = GridSearchCV(gbc, param_grid=params_grid, n_jobs=-1)\n",
    "    model_end = time.time()\n",
    "\n",
    "    print \"Grid search took: \", model_end - model_start\n",
    "    \n",
    "    fit_start = time.time()\n",
    "    best_model.fit(X_train, y_train)\n",
    "    fit_end = time.time()\n",
    "    print \"Fitting took: \", fit_end - fit_start\n",
    "    \n",
    "    return best_model\n",
    "\n",
    "def gridsearch_stats(model, X_test, y_test):\n",
    "    print model.best_params_\n",
    "    \n",
    "    probas = model.predict_proba(X_test)\n",
    "    print log_loss(y_test, probas)\n",
    "    \n",
    "    return probas\n"
   ]
  },
  {
   "cell_type": "markdown",
   "metadata": {},
   "source": [
    "## Attempt 1"
   ]
  },
  {
   "cell_type": "code",
   "execution_count": 60,
   "metadata": {
    "collapsed": false
   },
   "outputs": [
    {
     "name": "stdout",
     "output_type": "stream",
     "text": [
      "Grid search took:  0.000370979309082\n",
      "Fitting took:  75.5929970741\n"
     ]
    }
   ],
   "source": [
    "params01 = {\n",
    "            'max_depth': [8],\n",
    "            'min_samples_leaf': [1000], \n",
    "            \"learning_rate\": [0.1, 0.05, 0.01], \n",
    "            \"max_features\": [\"sqrt\", 3, 10]\n",
    "            }\n",
    "\n",
    "gbm_gc01 = gridsearch_gbm(params01, X_train, y_train)"
   ]
  },
  {
   "cell_type": "code",
   "execution_count": 64,
   "metadata": {
    "collapsed": false
   },
   "outputs": [
    {
     "name": "stdout",
     "output_type": "stream",
     "text": [
      "{'max_features': 10, 'learning_rate': 0.1, 'max_depth': 8, 'min_samples_leaf': 1000}\n",
      "0.848833997465\n"
     ]
    },
    {
     "data": {
      "text/plain": [
       "array([[  2.34069737e-01,   5.57051044e-03,   7.66808899e-02,\n",
       "          5.68846713e-01,   1.14832150e-01],\n",
       "       [  9.21415745e-01,   8.14169046e-04,   7.23022169e-04,\n",
       "          5.99293231e-03,   7.10541314e-02],\n",
       "       [  7.39322586e-01,   1.14172231e-03,   3.86128161e-03,\n",
       "          5.39079874e-02,   2.01766423e-01],\n",
       "       ..., \n",
       "       [  5.00729275e-01,   9.97972528e-04,   1.42364381e-02,\n",
       "          1.12597893e-01,   3.71438421e-01],\n",
       "       [  3.34274822e-01,   1.20124139e-03,   6.83995202e-02,\n",
       "          4.30505641e-01,   1.65618775e-01],\n",
       "       [  1.80082164e-04,   1.78827989e-02,   2.54307253e-02,\n",
       "          2.49143738e-03,   9.54014956e-01]])"
      ]
     },
     "execution_count": 64,
     "metadata": {},
     "output_type": "execute_result"
    }
   ],
   "source": [
    "gridsearch_stats(gbm_gc01, X_test, y_test)"
   ]
  },
  {
   "cell_type": "markdown",
   "metadata": {},
   "source": [
    "+ Keeping learning_rate = 0.1"
   ]
  },
  {
   "cell_type": "markdown",
   "metadata": {},
   "source": [
    "## Attempt 2"
   ]
  },
  {
   "cell_type": "code",
   "execution_count": 66,
   "metadata": {
    "collapsed": false
   },
   "outputs": [
    {
     "name": "stdout",
     "output_type": "stream",
     "text": [
      "Grid search took:  0.00048303604126\n",
      "Fitting took:  33.6684710979\n"
     ]
    }
   ],
   "source": [
    "params02 = {\n",
    "            'max_depth': [10, 15],\n",
    "            'min_samples_leaf': [1000], \n",
    "            \"learning_rate\": [0.1], \n",
    "            \"max_features\": [10]\n",
    "            }\n",
    "\n",
    "gbm_gc02 = gridsearch_gbm(params02, X_train, y_train)"
   ]
  },
  {
   "cell_type": "code",
   "execution_count": 67,
   "metadata": {
    "collapsed": false
   },
   "outputs": [
    {
     "name": "stdout",
     "output_type": "stream",
     "text": [
      "{'max_features': 10, 'learning_rate': 0.1, 'max_depth': 15, 'min_samples_leaf': 1000}\n",
      "0.849199137568\n"
     ]
    },
    {
     "data": {
      "text/plain": [
       "array([[  2.38276658e-01,   5.79562711e-03,   8.07676570e-02,\n",
       "          5.65709831e-01,   1.09450226e-01],\n",
       "       [  9.18039140e-01,   1.09364601e-03,   7.00444578e-04,\n",
       "          6.39060751e-03,   7.37761616e-02],\n",
       "       [  7.55185230e-01,   1.37706375e-03,   3.75698202e-03,\n",
       "          4.98700457e-02,   1.89810679e-01],\n",
       "       ..., \n",
       "       [  5.00435546e-01,   1.01932743e-03,   1.50573274e-02,\n",
       "          1.12454332e-01,   3.71033467e-01],\n",
       "       [  3.38900862e-01,   1.11785650e-03,   6.76450330e-02,\n",
       "          4.29359816e-01,   1.62976432e-01],\n",
       "       [  1.56891032e-04,   1.72850605e-02,   2.45506858e-02,\n",
       "          2.90760863e-03,   9.55099754e-01]])"
      ]
     },
     "execution_count": 67,
     "metadata": {},
     "output_type": "execute_result"
    }
   ],
   "source": [
    "gridsearch_stats(gbm_gc02, X_test, y_test)"
   ]
  },
  {
   "cell_type": "markdown",
   "metadata": {},
   "source": [
    "+ Deeper max-depth"
   ]
  },
  {
   "cell_type": "markdown",
   "metadata": {},
   "source": [
    "## Attempt 3"
   ]
  },
  {
   "cell_type": "code",
   "execution_count": 70,
   "metadata": {
    "collapsed": false
   },
   "outputs": [
    {
     "name": "stdout",
     "output_type": "stream",
     "text": [
      "Grid search took:  0.000117063522339\n",
      "Fitting took:  114.977802038\n"
     ]
    }
   ],
   "source": [
    "params03 = {\n",
    "            'max_depth': [18, 25],\n",
    "            'min_samples_leaf': [500, 1000], \n",
    "            \"learning_rate\": [0.1], \n",
    "            \"max_features\": [10, 13] # 13 is the max features\n",
    "            }\n",
    "\n",
    "gbm_gc03 = gridsearch_gbm(params03, X_train, y_train)"
   ]
  },
  {
   "cell_type": "code",
   "execution_count": 71,
   "metadata": {
    "collapsed": false
   },
   "outputs": [
    {
     "name": "stdout",
     "output_type": "stream",
     "text": [
      "{'max_features': 10, 'learning_rate': 0.1, 'max_depth': 25, 'min_samples_leaf': 500}\n",
      "0.84788841092\n"
     ]
    },
    {
     "data": {
      "text/plain": [
       "array([[  1.62988376e-01,   5.79724501e-03,   7.77530812e-02,\n",
       "          6.51505134e-01,   1.01956164e-01],\n",
       "       [  8.84663347e-01,   3.57955672e-04,   1.42333796e-03,\n",
       "          4.25804709e-03,   1.09297312e-01],\n",
       "       [  7.62834126e-01,   9.30908845e-04,   4.38087356e-03,\n",
       "          4.57230177e-02,   1.86131074e-01],\n",
       "       ..., \n",
       "       [  5.22247953e-01,   5.05979246e-04,   1.51926760e-02,\n",
       "          1.09737595e-01,   3.52315796e-01],\n",
       "       [  3.33336509e-01,   2.56319152e-03,   6.27378043e-02,\n",
       "          4.29302670e-01,   1.72059825e-01],\n",
       "       [  2.72742989e-04,   3.31566143e-02,   1.91492305e-02,\n",
       "          1.54199786e-03,   9.45879414e-01]])"
      ]
     },
     "execution_count": 71,
     "metadata": {},
     "output_type": "execute_result"
    }
   ],
   "source": [
    "gridsearch_stats(gbm_gc03, X_test, y_test)"
   ]
  },
  {
   "cell_type": "markdown",
   "metadata": {},
   "source": [
    "+ Lower min_samples_leaf\n",
    "+ Deeper max_depth\n",
    "+ Keep max_features = 10"
   ]
  },
  {
   "cell_type": "markdown",
   "metadata": {},
   "source": [
    "## Attempt 4"
   ]
  },
  {
   "cell_type": "code",
   "execution_count": 74,
   "metadata": {
    "collapsed": false
   },
   "outputs": [
    {
     "name": "stdout",
     "output_type": "stream",
     "text": [
      "Grid search took:  6.103515625e-05\n",
      "Fitting took:  117.023581982\n"
     ]
    }
   ],
   "source": [
    "params04 = {\n",
    "            'max_depth': [30, 40],\n",
    "            'min_samples_leaf': [100, 300], \n",
    "            \"learning_rate\": [0.1], \n",
    "            \"max_features\": [10]\n",
    "            }\n",
    "\n",
    "gbm_gc04 = gridsearch_gbm(params04, X_train, y_train)"
   ]
  },
  {
   "cell_type": "code",
   "execution_count": 75,
   "metadata": {
    "collapsed": false
   },
   "outputs": [
    {
     "name": "stdout",
     "output_type": "stream",
     "text": [
      "{'max_features': 10, 'learning_rate': 0.1, 'max_depth': 30, 'min_samples_leaf': 300}\n",
      "0.851779505476\n"
     ]
    },
    {
     "data": {
      "text/plain": [
       "array([[  2.07445394e-01,   4.04962052e-03,   4.25240132e-02,\n",
       "          6.21313495e-01,   1.24667478e-01],\n",
       "       [  8.86804980e-01,   2.69704549e-04,   1.34174140e-03,\n",
       "          3.06258736e-03,   1.08520987e-01],\n",
       "       [  7.56471181e-01,   1.31484771e-03,   6.10069446e-03,\n",
       "          5.85130913e-02,   1.77600185e-01],\n",
       "       ..., \n",
       "       [  5.42128719e-01,   1.11965406e-04,   1.57739439e-02,\n",
       "          1.02174874e-01,   3.39810497e-01],\n",
       "       [  3.23794944e-01,   3.60831554e-03,   5.80861068e-02,\n",
       "          4.34860477e-01,   1.79650156e-01],\n",
       "       [  8.08341876e-05,   1.74326290e-02,   1.84683276e-02,\n",
       "          9.34133032e-04,   9.63084076e-01]])"
      ]
     },
     "execution_count": 75,
     "metadata": {},
     "output_type": "execute_result"
    }
   ],
   "source": [
    "gridsearch_stats(gbm_gc04, X_test, y_test)"
   ]
  },
  {
   "cell_type": "markdown",
   "metadata": {},
   "source": [
    "## Using Best Params From Attempt 3"
   ]
  },
  {
   "cell_type": "code",
   "execution_count": 76,
   "metadata": {
    "collapsed": true
   },
   "outputs": [],
   "source": [
    "best_params = {'max_features': 10, 'learning_rate': 0.1, 'max_depth': 25, 'min_samples_leaf': 500}"
   ]
  },
  {
   "cell_type": "code",
   "execution_count": 77,
   "metadata": {
    "collapsed": true
   },
   "outputs": [],
   "source": [
    "# Using random state 7 like previous train test splits\n",
    "X_train1, X_test1, y_train1, y_test1 = cross_validation.train_test_split(trans_X, trans_y, test_size=0.25, random_state=7)"
   ]
  },
  {
   "cell_type": "code",
   "execution_count": 78,
   "metadata": {
    "collapsed": true
   },
   "outputs": [],
   "source": [
    "probas03 = gbm_gc03.predict_proba(X_test1)"
   ]
  },
  {
   "cell_type": "code",
   "execution_count": 79,
   "metadata": {
    "collapsed": false
   },
   "outputs": [
    {
     "data": {
      "text/plain": [
       "0.83028614635739051"
      ]
     },
     "execution_count": 79,
     "metadata": {},
     "output_type": "execute_result"
    }
   ],
   "source": [
    "log_loss(y_test1, probas03)"
   ]
  },
  {
   "cell_type": "code",
   "execution_count": 81,
   "metadata": {
    "collapsed": false
   },
   "outputs": [],
   "source": [
    "submission_probas = gbm_gc03.predict_proba(X_submission)"
   ]
  },
  {
   "cell_type": "code",
   "execution_count": 85,
   "metadata": {
    "collapsed": true
   },
   "outputs": [],
   "source": [
    "def process_probas(model, pred_probas, raw_test_set):\n",
    "    submission = pd.DataFrame(pred_probas, columns=model.classes_)\n",
    "    submission['ID'] = raw_test_set['ID']\n",
    "    return submission[['ID', 'Adoption', 'Died', 'Euthanasia', 'Return_to_owner', 'Transfer']]"
   ]
  },
  {
   "cell_type": "code",
   "execution_count": 89,
   "metadata": {
    "collapsed": false
   },
   "outputs": [],
   "source": [
    "final_submission = process_probas(gbm_gc03.best_estimator_, submission_probas, test)"
   ]
  },
  {
   "cell_type": "code",
   "execution_count": 92,
   "metadata": {
    "collapsed": false
   },
   "outputs": [],
   "source": [
    "# final_submission.to_csv('../data/submission-2016-07-28-gridsearch-gbm.csv', index=False)"
   ]
  },
  {
   "cell_type": "code",
   "execution_count": 93,
   "metadata": {
    "collapsed": true
   },
   "outputs": [],
   "source": [
    "test_final_submission = pd.read_csv('../data/submission-2016-07-28-gridsearch-gbm.csv')"
   ]
  },
  {
   "cell_type": "code",
   "execution_count": 95,
   "metadata": {
    "collapsed": false
   },
   "outputs": [
    {
     "data": {
      "text/plain": [
       "(11456, 6)"
      ]
     },
     "execution_count": 95,
     "metadata": {},
     "output_type": "execute_result"
    }
   ],
   "source": [
    "test_final_submission.shape"
   ]
  },
  {
   "cell_type": "code",
   "execution_count": 96,
   "metadata": {
    "collapsed": false
   },
   "outputs": [
    {
     "data": {
      "text/plain": [
       "Index([u'ID', u'Adoption', u'Died', u'Euthanasia', u'Return_to_owner',\n",
       "       u'Transfer'],\n",
       "      dtype='object')"
      ]
     },
     "execution_count": 96,
     "metadata": {},
     "output_type": "execute_result"
    }
   ],
   "source": [
    "test_final_submission.columns"
   ]
  },
  {
   "cell_type": "code",
   "execution_count": 98,
   "metadata": {
    "collapsed": false
   },
   "outputs": [],
   "source": [
    "## saving best model\n",
    "# joblib.dump(gbm_gc03.best_estimator_, '../models/2016-07-28-gbm-gridsearch/gbm_gc03.pkl')"
   ]
  },
  {
   "cell_type": "code",
   "execution_count": null,
   "metadata": {
    "collapsed": true
   },
   "outputs": [],
   "source": []
  }
 ],
 "metadata": {
  "kernelspec": {
   "display_name": "Python 2",
   "language": "python",
   "name": "python2"
  },
  "language_info": {
   "codemirror_mode": {
    "name": "ipython",
    "version": 2
   },
   "file_extension": ".py",
   "mimetype": "text/x-python",
   "name": "python",
   "nbconvert_exporter": "python",
   "pygments_lexer": "ipython2",
   "version": "2.7.11"
  }
 },
 "nbformat": 4,
 "nbformat_minor": 0
}
