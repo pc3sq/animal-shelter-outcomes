{
 "cells": [
  {
   "cell_type": "markdown",
   "metadata": {},
   "source": [
    "# <center>Transforming Shelter Data</center>"
   ]
  },
  {
   "cell_type": "code",
   "execution_count": 3,
   "metadata": {
    "collapsed": true
   },
   "outputs": [],
   "source": [
    "import pandas as pd, numpy as np"
   ]
  },
  {
   "cell_type": "code",
   "execution_count": 6,
   "metadata": {
    "collapsed": false
   },
   "outputs": [],
   "source": [
    "cleaned = pd.read_csv('data/shelter-clean.csv')\n",
    "transformed = cleaned.copy()"
   ]
  },
  {
   "cell_type": "code",
   "execution_count": 9,
   "metadata": {
    "collapsed": false
   },
   "outputs": [
    {
     "data": {
      "text/html": [
       "<div>\n",
       "<table border=\"1\" class=\"dataframe\">\n",
       "  <thead>\n",
       "    <tr style=\"text-align: right;\">\n",
       "      <th></th>\n",
       "      <th>AnimalID</th>\n",
       "      <th>Name</th>\n",
       "      <th>DateTime</th>\n",
       "      <th>OutcomeType</th>\n",
       "      <th>OutcomeSubtype</th>\n",
       "      <th>AnimalType</th>\n",
       "      <th>SexuponOutcome</th>\n",
       "      <th>AgeuponOutcome</th>\n",
       "      <th>Breed</th>\n",
       "      <th>Color</th>\n",
       "    </tr>\n",
       "  </thead>\n",
       "  <tbody>\n",
       "    <tr>\n",
       "      <th>count</th>\n",
       "      <td>25612</td>\n",
       "      <td>25612</td>\n",
       "      <td>25612</td>\n",
       "      <td>25612</td>\n",
       "      <td>25612</td>\n",
       "      <td>25612</td>\n",
       "      <td>25612</td>\n",
       "      <td>25612</td>\n",
       "      <td>25612</td>\n",
       "      <td>25612</td>\n",
       "    </tr>\n",
       "    <tr>\n",
       "      <th>unique</th>\n",
       "      <td>25612</td>\n",
       "      <td>6365</td>\n",
       "      <td>22328</td>\n",
       "      <td>5</td>\n",
       "      <td>17</td>\n",
       "      <td>2</td>\n",
       "      <td>4</td>\n",
       "      <td>43</td>\n",
       "      <td>1378</td>\n",
       "      <td>361</td>\n",
       "    </tr>\n",
       "    <tr>\n",
       "      <th>top</th>\n",
       "      <td>A705677</td>\n",
       "      <td>noName</td>\n",
       "      <td>2015-08-11 00:00:00</td>\n",
       "      <td>Adoption</td>\n",
       "      <td>noSubOutcome</td>\n",
       "      <td>Dog</td>\n",
       "      <td>Neutered Male</td>\n",
       "      <td>1 year</td>\n",
       "      <td>Domestic Shorthair Mix</td>\n",
       "      <td>Black/White</td>\n",
       "    </tr>\n",
       "    <tr>\n",
       "      <th>freq</th>\n",
       "      <td>1</td>\n",
       "      <td>6612</td>\n",
       "      <td>19</td>\n",
       "      <td>10769</td>\n",
       "      <td>13594</td>\n",
       "      <td>15510</td>\n",
       "      <td>9779</td>\n",
       "      <td>3853</td>\n",
       "      <td>7892</td>\n",
       "      <td>2700</td>\n",
       "    </tr>\n",
       "  </tbody>\n",
       "</table>\n",
       "</div>"
      ],
      "text/plain": [
       "       AnimalID    Name             DateTime OutcomeType OutcomeSubtype  \\\n",
       "count     25612   25612                25612       25612          25612   \n",
       "unique    25612    6365                22328           5             17   \n",
       "top     A705677  noName  2015-08-11 00:00:00    Adoption   noSubOutcome   \n",
       "freq          1    6612                   19       10769          13594   \n",
       "\n",
       "       AnimalType SexuponOutcome AgeuponOutcome                   Breed  \\\n",
       "count       25612          25612          25612                   25612   \n",
       "unique          2              4             43                    1378   \n",
       "top           Dog  Neutered Male         1 year  Domestic Shorthair Mix   \n",
       "freq        15510           9779           3853                    7892   \n",
       "\n",
       "              Color  \n",
       "count         25612  \n",
       "unique          361  \n",
       "top     Black/White  \n",
       "freq           2700  "
      ]
     },
     "execution_count": 9,
     "metadata": {},
     "output_type": "execute_result"
    }
   ],
   "source": [
    "cleaned.describe(include=\"all\")"
   ]
  },
  {
   "cell_type": "code",
   "execution_count": 21,
   "metadata": {
    "collapsed": false
   },
   "outputs": [
    {
     "data": {
      "text/html": [
       "<div>\n",
       "<table border=\"1\" class=\"dataframe\">\n",
       "  <thead>\n",
       "    <tr style=\"text-align: right;\">\n",
       "      <th></th>\n",
       "      <th>AnimalID</th>\n",
       "      <th>Name</th>\n",
       "      <th>DateTime</th>\n",
       "      <th>OutcomeType</th>\n",
       "      <th>OutcomeSubtype</th>\n",
       "      <th>AnimalType</th>\n",
       "      <th>SexuponOutcome</th>\n",
       "      <th>AgeuponOutcome</th>\n",
       "      <th>Breed</th>\n",
       "      <th>Color</th>\n",
       "    </tr>\n",
       "  </thead>\n",
       "  <tbody>\n",
       "    <tr>\n",
       "      <th>0</th>\n",
       "      <td>A671945</td>\n",
       "      <td>Hambone</td>\n",
       "      <td>2014-02-12 18:22:00</td>\n",
       "      <td>Return_to_owner</td>\n",
       "      <td>noSubOutcome</td>\n",
       "      <td>Dog</td>\n",
       "      <td>Neutered Male</td>\n",
       "      <td>1 year</td>\n",
       "      <td>Shetland Sheepdog Mix</td>\n",
       "      <td>Brown/White</td>\n",
       "    </tr>\n",
       "    <tr>\n",
       "      <th>1</th>\n",
       "      <td>A656520</td>\n",
       "      <td>Emily</td>\n",
       "      <td>2013-10-13 12:44:00</td>\n",
       "      <td>Euthanasia</td>\n",
       "      <td>Suffering</td>\n",
       "      <td>Cat</td>\n",
       "      <td>Spayed Female</td>\n",
       "      <td>1 year</td>\n",
       "      <td>Domestic Shorthair Mix</td>\n",
       "      <td>Cream Tabby</td>\n",
       "    </tr>\n",
       "    <tr>\n",
       "      <th>2</th>\n",
       "      <td>A686464</td>\n",
       "      <td>Pearce</td>\n",
       "      <td>2015-01-31 12:28:00</td>\n",
       "      <td>Adoption</td>\n",
       "      <td>Foster</td>\n",
       "      <td>Dog</td>\n",
       "      <td>Neutered Male</td>\n",
       "      <td>2 years</td>\n",
       "      <td>Pit Bull Mix</td>\n",
       "      <td>Blue/White</td>\n",
       "    </tr>\n",
       "  </tbody>\n",
       "</table>\n",
       "</div>"
      ],
      "text/plain": [
       "  AnimalID     Name             DateTime      OutcomeType OutcomeSubtype  \\\n",
       "0  A671945  Hambone  2014-02-12 18:22:00  Return_to_owner   noSubOutcome   \n",
       "1  A656520    Emily  2013-10-13 12:44:00       Euthanasia      Suffering   \n",
       "2  A686464   Pearce  2015-01-31 12:28:00         Adoption         Foster   \n",
       "\n",
       "  AnimalType SexuponOutcome AgeuponOutcome                   Breed  \\\n",
       "0        Dog  Neutered Male         1 year   Shetland Sheepdog Mix   \n",
       "1        Cat  Spayed Female         1 year  Domestic Shorthair Mix   \n",
       "2        Dog  Neutered Male        2 years            Pit Bull Mix   \n",
       "\n",
       "         Color  \n",
       "0  Brown/White  \n",
       "1  Cream Tabby  \n",
       "2   Blue/White  "
      ]
     },
     "execution_count": 21,
     "metadata": {},
     "output_type": "execute_result"
    }
   ],
   "source": [
    "cleaned.head(3)"
   ]
  },
  {
   "cell_type": "code",
   "execution_count": 19,
   "metadata": {
    "collapsed": false
   },
   "outputs": [
    {
     "data": {
      "text/plain": [
       "AnimalID          0\n",
       "Name              0\n",
       "DateTime          0\n",
       "OutcomeType       0\n",
       "OutcomeSubtype    0\n",
       "AnimalType        0\n",
       "SexuponOutcome    0\n",
       "AgeuponOutcome    0\n",
       "Breed             0\n",
       "Color             0\n",
       "dtype: int64"
      ]
     },
     "execution_count": 19,
     "metadata": {},
     "output_type": "execute_result"
    }
   ],
   "source": [
    "# check cleaned as no nulls\n",
    "np.sum(cleaned.isnull())"
   ]
  },
  {
   "cell_type": "markdown",
   "metadata": {},
   "source": [
    "## Extract Binary Name vs NoName From Name Column"
   ]
  },
  {
   "cell_type": "code",
   "execution_count": 17,
   "metadata": {
    "collapsed": false
   },
   "outputs": [],
   "source": [
    "transformed['Name'] = transformed['Name'].apply(lambda name: \"hasName\" if name!=\"noName\" else name)"
   ]
  },
  {
   "cell_type": "code",
   "execution_count": 23,
   "metadata": {
    "collapsed": false
   },
   "outputs": [
    {
     "data": {
      "text/plain": [
       "['hasName', 'noName']"
      ]
     },
     "execution_count": 23,
     "metadata": {},
     "output_type": "execute_result"
    }
   ],
   "source": [
    "# check transformed has \"hasName\" and \"noName\" as values\n",
    "[name for name in transformed['Name'].unique()]"
   ]
  },
  {
   "cell_type": "markdown",
   "metadata": {},
   "source": [
    "## Drop OutcomeSubtype for Target Leakage\n",
    "\n",
    "Since we are unaware of the OutcomeSubtype until the OutcomeType, our label, is determined, we should drop it to prevent target leakage. Besides, OutcomeSubtype is not a feature in the test.csv set."
   ]
  },
  {
   "cell_type": "code",
   "execution_count": 63,
   "metadata": {
    "collapsed": false
   },
   "outputs": [
    {
     "ename": "ValueError",
     "evalue": "labels ['OutcomeSubtype'] not contained in axis",
     "output_type": "error",
     "traceback": [
      "\u001b[0;31m---------------------------------------------------------------------------\u001b[0m",
      "\u001b[0;31mValueError\u001b[0m                                Traceback (most recent call last)",
      "\u001b[0;32m<ipython-input-63-c826704c8edc>\u001b[0m in \u001b[0;36m<module>\u001b[0;34m()\u001b[0m\n\u001b[0;32m----> 1\u001b[0;31m \u001b[0mtransformed\u001b[0m \u001b[0;34m=\u001b[0m \u001b[0mtransformed\u001b[0m\u001b[0;34m.\u001b[0m\u001b[0mdrop\u001b[0m\u001b[0;34m(\u001b[0m\u001b[0;34m'OutcomeSubtype'\u001b[0m\u001b[0;34m,\u001b[0m \u001b[0maxis\u001b[0m\u001b[0;34m=\u001b[0m\u001b[0;36m1\u001b[0m\u001b[0;34m)\u001b[0m\u001b[0;34m\u001b[0m\u001b[0m\n\u001b[0m",
      "\u001b[0;32m/Users/pc3sq/anaconda2/lib/python2.7/site-packages/pandas/core/generic.pyc\u001b[0m in \u001b[0;36mdrop\u001b[0;34m(self, labels, axis, level, inplace, errors)\u001b[0m\n\u001b[1;32m   1875\u001b[0m                 \u001b[0mnew_axis\u001b[0m \u001b[0;34m=\u001b[0m \u001b[0maxis\u001b[0m\u001b[0;34m.\u001b[0m\u001b[0mdrop\u001b[0m\u001b[0;34m(\u001b[0m\u001b[0mlabels\u001b[0m\u001b[0;34m,\u001b[0m \u001b[0mlevel\u001b[0m\u001b[0;34m=\u001b[0m\u001b[0mlevel\u001b[0m\u001b[0;34m,\u001b[0m \u001b[0merrors\u001b[0m\u001b[0;34m=\u001b[0m\u001b[0merrors\u001b[0m\u001b[0;34m)\u001b[0m\u001b[0;34m\u001b[0m\u001b[0m\n\u001b[1;32m   1876\u001b[0m             \u001b[0;32melse\u001b[0m\u001b[0;34m:\u001b[0m\u001b[0;34m\u001b[0m\u001b[0m\n\u001b[0;32m-> 1877\u001b[0;31m                 \u001b[0mnew_axis\u001b[0m \u001b[0;34m=\u001b[0m \u001b[0maxis\u001b[0m\u001b[0;34m.\u001b[0m\u001b[0mdrop\u001b[0m\u001b[0;34m(\u001b[0m\u001b[0mlabels\u001b[0m\u001b[0;34m,\u001b[0m \u001b[0merrors\u001b[0m\u001b[0;34m=\u001b[0m\u001b[0merrors\u001b[0m\u001b[0;34m)\u001b[0m\u001b[0;34m\u001b[0m\u001b[0m\n\u001b[0m\u001b[1;32m   1878\u001b[0m             \u001b[0mdropped\u001b[0m \u001b[0;34m=\u001b[0m \u001b[0mself\u001b[0m\u001b[0;34m.\u001b[0m\u001b[0mreindex\u001b[0m\u001b[0;34m(\u001b[0m\u001b[0;34m**\u001b[0m\u001b[0;34m{\u001b[0m\u001b[0maxis_name\u001b[0m\u001b[0;34m:\u001b[0m \u001b[0mnew_axis\u001b[0m\u001b[0;34m}\u001b[0m\u001b[0;34m)\u001b[0m\u001b[0;34m\u001b[0m\u001b[0m\n\u001b[1;32m   1879\u001b[0m             \u001b[0;32mtry\u001b[0m\u001b[0;34m:\u001b[0m\u001b[0;34m\u001b[0m\u001b[0m\n",
      "\u001b[0;32m/Users/pc3sq/anaconda2/lib/python2.7/site-packages/pandas/indexes/base.pyc\u001b[0m in \u001b[0;36mdrop\u001b[0;34m(self, labels, errors)\u001b[0m\n\u001b[1;32m   3049\u001b[0m             \u001b[0;32mif\u001b[0m \u001b[0merrors\u001b[0m \u001b[0;34m!=\u001b[0m \u001b[0;34m'ignore'\u001b[0m\u001b[0;34m:\u001b[0m\u001b[0;34m\u001b[0m\u001b[0m\n\u001b[1;32m   3050\u001b[0m                 raise ValueError('labels %s not contained in axis' %\n\u001b[0;32m-> 3051\u001b[0;31m                                  labels[mask])\n\u001b[0m\u001b[1;32m   3052\u001b[0m             \u001b[0mindexer\u001b[0m \u001b[0;34m=\u001b[0m \u001b[0mindexer\u001b[0m\u001b[0;34m[\u001b[0m\u001b[0;34m~\u001b[0m\u001b[0mmask\u001b[0m\u001b[0;34m]\u001b[0m\u001b[0;34m\u001b[0m\u001b[0m\n\u001b[1;32m   3053\u001b[0m         \u001b[0;32mreturn\u001b[0m \u001b[0mself\u001b[0m\u001b[0;34m.\u001b[0m\u001b[0mdelete\u001b[0m\u001b[0;34m(\u001b[0m\u001b[0mindexer\u001b[0m\u001b[0;34m)\u001b[0m\u001b[0;34m\u001b[0m\u001b[0m\n",
      "\u001b[0;31mValueError\u001b[0m: labels ['OutcomeSubtype'] not contained in axis"
     ]
    }
   ],
   "source": [
    "transformed = transformed.drop('OutcomeSubtype', axis=1)"
   ]
  },
  {
   "cell_type": "markdown",
   "metadata": {},
   "source": [
    "## Extract Days from AgeuponOutcome"
   ]
  },
  {
   "cell_type": "code",
   "execution_count": 33,
   "metadata": {
    "collapsed": false
   },
   "outputs": [
    {
     "data": {
      "text/plain": [
       "array(['1 year', '2 years', '3 weeks', '1 month', '5 months', '4 years',\n",
       "       '3 months', '2 weeks', '2 months', '10 months', '6 months',\n",
       "       '5 years', '7 years', '3 years', '4 months', '12 years', '9 years',\n",
       "       '6 years', '1 weeks', '11 years', '7 months', '8 years',\n",
       "       '11 months', '4 days', '4 weeks', '9 months', '8 months',\n",
       "       '15 years', '10 years', '14 years', '3 days', '5 weeks', '2 days',\n",
       "       '16 years', '6 days', '1 day', '13 years', '1 week', '17 years',\n",
       "       '18 years', '5 days', '19 years', '20 years'], dtype=object)"
      ]
     },
     "execution_count": 33,
     "metadata": {},
     "output_type": "execute_result"
    }
   ],
   "source": [
    "# check string structure of AgeuponOutcome\n",
    "transformed['AgeuponOutcome'].unique()"
   ]
  },
  {
   "cell_type": "code",
   "execution_count": 36,
   "metadata": {
    "collapsed": false
   },
   "outputs": [],
   "source": [
    "# extract days, the lowest common denominator, from AgeuponOutcome\n",
    "# age_to_days will be saved to src folder\n",
    "\n",
    "def age_to_days(age_str):\n",
    "    age_val = int(str(age_str).split()[0])\n",
    "    \n",
    "    if \"day\" in age_str or \"days\" in \"age_str\":\n",
    "        return age_val\n",
    "    elif \"week\" in age_str or \"weeks\" in \"age_str\":\n",
    "        return age_val * 7\n",
    "    elif \"month\" in age_str or \"months\" in \"age_str\":\n",
    "        return age_val * 30\n",
    "    elif \"year\" in age_str or \"years\" in \"age_str\":\n",
    "        return age_val * 365\n",
    "    else:\n",
    "        return \"unknownAge\""
   ]
  },
  {
   "cell_type": "code",
   "execution_count": 41,
   "metadata": {
    "collapsed": false
   },
   "outputs": [],
   "source": [
    "transformed['AgeuponOutcome'] = transformed['AgeuponOutcome'].apply(age_to_days)"
   ]
  },
  {
   "cell_type": "code",
   "execution_count": 43,
   "metadata": {
    "collapsed": false
   },
   "outputs": [
    {
     "name": "stdout",
     "output_type": "stream",
     "text": [
      "[ 365  730   21   30  150 1460   90   14   60  300  180 1825 2555 1095  120\n",
      " 4380 3285 2190    7 4015  210 2920  330    4   28  270  240 5475 3650 5110\n",
      "    3   35    2 5840    6    1 4745 6205 6570    5 6935 7300]\n",
      "int64\n"
     ]
    }
   ],
   "source": [
    "# check unique values and datatype for AgeuponOutcome\n",
    "print transformed['AgeuponOutcome'].unique()\n",
    "print transformed['AgeuponOutcome'].dtype"
   ]
  },
  {
   "cell_type": "code",
   "execution_count": 44,
   "metadata": {
    "collapsed": false
   },
   "outputs": [
    {
     "data": {
      "text/html": [
       "<div>\n",
       "<table border=\"1\" class=\"dataframe\">\n",
       "  <thead>\n",
       "    <tr style=\"text-align: right;\">\n",
       "      <th></th>\n",
       "      <th>AnimalID</th>\n",
       "      <th>Name</th>\n",
       "      <th>DateTime</th>\n",
       "      <th>OutcomeType</th>\n",
       "      <th>AnimalType</th>\n",
       "      <th>SexuponOutcome</th>\n",
       "      <th>AgeuponOutcome</th>\n",
       "      <th>Breed</th>\n",
       "      <th>Color</th>\n",
       "    </tr>\n",
       "  </thead>\n",
       "  <tbody>\n",
       "    <tr>\n",
       "      <th>count</th>\n",
       "      <td>25612</td>\n",
       "      <td>25612</td>\n",
       "      <td>25612</td>\n",
       "      <td>25612</td>\n",
       "      <td>25612</td>\n",
       "      <td>25612</td>\n",
       "      <td>25612.000000</td>\n",
       "      <td>25612</td>\n",
       "      <td>25612</td>\n",
       "    </tr>\n",
       "    <tr>\n",
       "      <th>unique</th>\n",
       "      <td>25612</td>\n",
       "      <td>2</td>\n",
       "      <td>22328</td>\n",
       "      <td>5</td>\n",
       "      <td>2</td>\n",
       "      <td>4</td>\n",
       "      <td>NaN</td>\n",
       "      <td>1378</td>\n",
       "      <td>361</td>\n",
       "    </tr>\n",
       "    <tr>\n",
       "      <th>top</th>\n",
       "      <td>A705677</td>\n",
       "      <td>hasName</td>\n",
       "      <td>2015-08-11 00:00:00</td>\n",
       "      <td>Adoption</td>\n",
       "      <td>Dog</td>\n",
       "      <td>Neutered Male</td>\n",
       "      <td>NaN</td>\n",
       "      <td>Domestic Shorthair Mix</td>\n",
       "      <td>Black/White</td>\n",
       "    </tr>\n",
       "    <tr>\n",
       "      <th>freq</th>\n",
       "      <td>1</td>\n",
       "      <td>19000</td>\n",
       "      <td>19</td>\n",
       "      <td>10769</td>\n",
       "      <td>15510</td>\n",
       "      <td>9779</td>\n",
       "      <td>NaN</td>\n",
       "      <td>7892</td>\n",
       "      <td>2700</td>\n",
       "    </tr>\n",
       "    <tr>\n",
       "      <th>mean</th>\n",
       "      <td>NaN</td>\n",
       "      <td>NaN</td>\n",
       "      <td>NaN</td>\n",
       "      <td>NaN</td>\n",
       "      <td>NaN</td>\n",
       "      <td>NaN</td>\n",
       "      <td>818.863775</td>\n",
       "      <td>NaN</td>\n",
       "      <td>NaN</td>\n",
       "    </tr>\n",
       "    <tr>\n",
       "      <th>std</th>\n",
       "      <td>NaN</td>\n",
       "      <td>NaN</td>\n",
       "      <td>NaN</td>\n",
       "      <td>NaN</td>\n",
       "      <td>NaN</td>\n",
       "      <td>NaN</td>\n",
       "      <td>1093.967793</td>\n",
       "      <td>NaN</td>\n",
       "      <td>NaN</td>\n",
       "    </tr>\n",
       "    <tr>\n",
       "      <th>min</th>\n",
       "      <td>NaN</td>\n",
       "      <td>NaN</td>\n",
       "      <td>NaN</td>\n",
       "      <td>NaN</td>\n",
       "      <td>NaN</td>\n",
       "      <td>NaN</td>\n",
       "      <td>1.000000</td>\n",
       "      <td>NaN</td>\n",
       "      <td>NaN</td>\n",
       "    </tr>\n",
       "    <tr>\n",
       "      <th>25%</th>\n",
       "      <td>NaN</td>\n",
       "      <td>NaN</td>\n",
       "      <td>NaN</td>\n",
       "      <td>NaN</td>\n",
       "      <td>NaN</td>\n",
       "      <td>NaN</td>\n",
       "      <td>90.000000</td>\n",
       "      <td>NaN</td>\n",
       "      <td>NaN</td>\n",
       "    </tr>\n",
       "    <tr>\n",
       "      <th>50%</th>\n",
       "      <td>NaN</td>\n",
       "      <td>NaN</td>\n",
       "      <td>NaN</td>\n",
       "      <td>NaN</td>\n",
       "      <td>NaN</td>\n",
       "      <td>NaN</td>\n",
       "      <td>365.000000</td>\n",
       "      <td>NaN</td>\n",
       "      <td>NaN</td>\n",
       "    </tr>\n",
       "    <tr>\n",
       "      <th>75%</th>\n",
       "      <td>NaN</td>\n",
       "      <td>NaN</td>\n",
       "      <td>NaN</td>\n",
       "      <td>NaN</td>\n",
       "      <td>NaN</td>\n",
       "      <td>NaN</td>\n",
       "      <td>1095.000000</td>\n",
       "      <td>NaN</td>\n",
       "      <td>NaN</td>\n",
       "    </tr>\n",
       "    <tr>\n",
       "      <th>max</th>\n",
       "      <td>NaN</td>\n",
       "      <td>NaN</td>\n",
       "      <td>NaN</td>\n",
       "      <td>NaN</td>\n",
       "      <td>NaN</td>\n",
       "      <td>NaN</td>\n",
       "      <td>7300.000000</td>\n",
       "      <td>NaN</td>\n",
       "      <td>NaN</td>\n",
       "    </tr>\n",
       "  </tbody>\n",
       "</table>\n",
       "</div>"
      ],
      "text/plain": [
       "       AnimalID     Name             DateTime OutcomeType AnimalType  \\\n",
       "count     25612    25612                25612       25612      25612   \n",
       "unique    25612        2                22328           5          2   \n",
       "top     A705677  hasName  2015-08-11 00:00:00    Adoption        Dog   \n",
       "freq          1    19000                   19       10769      15510   \n",
       "mean        NaN      NaN                  NaN         NaN        NaN   \n",
       "std         NaN      NaN                  NaN         NaN        NaN   \n",
       "min         NaN      NaN                  NaN         NaN        NaN   \n",
       "25%         NaN      NaN                  NaN         NaN        NaN   \n",
       "50%         NaN      NaN                  NaN         NaN        NaN   \n",
       "75%         NaN      NaN                  NaN         NaN        NaN   \n",
       "max         NaN      NaN                  NaN         NaN        NaN   \n",
       "\n",
       "       SexuponOutcome  AgeuponOutcome                   Breed        Color  \n",
       "count           25612    25612.000000                   25612        25612  \n",
       "unique              4             NaN                    1378          361  \n",
       "top     Neutered Male             NaN  Domestic Shorthair Mix  Black/White  \n",
       "freq             9779             NaN                    7892         2700  \n",
       "mean              NaN      818.863775                     NaN          NaN  \n",
       "std               NaN     1093.967793                     NaN          NaN  \n",
       "min               NaN        1.000000                     NaN          NaN  \n",
       "25%               NaN       90.000000                     NaN          NaN  \n",
       "50%               NaN      365.000000                     NaN          NaN  \n",
       "75%               NaN     1095.000000                     NaN          NaN  \n",
       "max               NaN     7300.000000                     NaN          NaN  "
      ]
     },
     "execution_count": 44,
     "metadata": {},
     "output_type": "execute_result"
    }
   ],
   "source": [
    "transformed.describe(include=\"all\")"
   ]
  },
  {
   "cell_type": "markdown",
   "metadata": {},
   "source": [
    "## Extract Day of the Week and Month from DateTime\n",
    "\n",
    "Studying the day of the week and month of the outcome may help understand when animals are most prone to unfavorable outcomes. It would help us if we also knew when the animals where admitted so we can determined if there is correlation between how long an animals stays (date of outcome - date of admission) and its outcome."
   ]
  },
  {
   "cell_type": "code",
   "execution_count": 46,
   "metadata": {
    "collapsed": false
   },
   "outputs": [],
   "source": [
    "# convert \"DateTime\" to pandas.DateTime objects\n",
    "transformed['DateTime'] = pd.to_datetime(transformed['DateTime'])"
   ]
  },
  {
   "cell_type": "code",
   "execution_count": 60,
   "metadata": {
    "collapsed": false
   },
   "outputs": [],
   "source": [
    "# create date features\n",
    "transformed['dow'] = transformed['DateTime'].apply(lambda dt: dt.dayofweek)\n",
    "# transformed['dom'] = transformed['DateTime'].apply(lambda dt: dt.day) # day of month might be useful\n",
    "transformed['month'] = transformed['DateTime'].apply(lambda dt: dt.month)\n",
    "transformed['doy'] = transformed['DateTime'].apply(lambda dt: dt.dayofyear)"
   ]
  },
  {
   "cell_type": "code",
   "execution_count": 61,
   "metadata": {
    "collapsed": false
   },
   "outputs": [],
   "source": [
    "# convert day of week to weekday names\n",
    "weekdays = ['Mon', 'Tues', 'Wed', 'Thurs', 'Fri', 'Sat', 'Sun']\n",
    "transformed['dow'] = transformed['dow'].apply(lambda dow: weekdays[dow])"
   ]
  },
  {
   "cell_type": "code",
   "execution_count": 62,
   "metadata": {
    "collapsed": false
   },
   "outputs": [],
   "source": [
    "# convert nominal month to month names\n",
    "months = {1: 'Jan', 2: 'Feb', 3: 'March', 4: 'April', 5: 'May', 6: \"June\", 7: \"July\",\\\n",
    "           8: 'Aug', 9: 'Sept', 10: \"Oct\", 11: 'Nov', 12: 'Dec'}\n",
    "\n",
    "transformed['month'] = transformed['month'].apply(lambda month: months[month])"
   ]
  },
  {
   "cell_type": "markdown",
   "metadata": {},
   "source": [
    "## Extract Mixed or Pure from Breed"
   ]
  },
  {
   "cell_type": "code",
   "execution_count": 85,
   "metadata": {
    "collapsed": false
   },
   "outputs": [
    {
     "data": {
      "text/plain": [
       "1378"
      ]
     },
     "execution_count": 85,
     "metadata": {},
     "output_type": "execute_result"
    }
   ],
   "source": [
    "# too many unique breeds and mixes to dummify\n",
    "len(transformed['Breed'].unique())"
   ]
  },
  {
   "cell_type": "code",
   "execution_count": 92,
   "metadata": {
    "collapsed": false
   },
   "outputs": [
    {
     "data": {
      "text/html": [
       "<div>\n",
       "<table border=\"1\" class=\"dataframe\">\n",
       "  <thead>\n",
       "    <tr style=\"text-align: right;\">\n",
       "      <th></th>\n",
       "      <th>AnimalID</th>\n",
       "      <th>Name</th>\n",
       "      <th>DateTime</th>\n",
       "      <th>OutcomeType</th>\n",
       "      <th>SexuponOutcome</th>\n",
       "      <th>AgeuponOutcome</th>\n",
       "      <th>Breed</th>\n",
       "      <th>Color</th>\n",
       "      <th>dow</th>\n",
       "      <th>month</th>\n",
       "      <th>doy</th>\n",
       "    </tr>\n",
       "    <tr>\n",
       "      <th>AnimalType</th>\n",
       "      <th></th>\n",
       "      <th></th>\n",
       "      <th></th>\n",
       "      <th></th>\n",
       "      <th></th>\n",
       "      <th></th>\n",
       "      <th></th>\n",
       "      <th></th>\n",
       "      <th></th>\n",
       "      <th></th>\n",
       "      <th></th>\n",
       "    </tr>\n",
       "  </thead>\n",
       "  <tbody>\n",
       "    <tr>\n",
       "      <th>Cat</th>\n",
       "      <td>10102</td>\n",
       "      <td>10102</td>\n",
       "      <td>10102</td>\n",
       "      <td>10102</td>\n",
       "      <td>10102</td>\n",
       "      <td>10102</td>\n",
       "      <td>10102</td>\n",
       "      <td>10102</td>\n",
       "      <td>10102</td>\n",
       "      <td>10102</td>\n",
       "      <td>10102</td>\n",
       "    </tr>\n",
       "    <tr>\n",
       "      <th>Dog</th>\n",
       "      <td>15510</td>\n",
       "      <td>15510</td>\n",
       "      <td>15510</td>\n",
       "      <td>15510</td>\n",
       "      <td>15510</td>\n",
       "      <td>15510</td>\n",
       "      <td>15510</td>\n",
       "      <td>15510</td>\n",
       "      <td>15510</td>\n",
       "      <td>15510</td>\n",
       "      <td>15510</td>\n",
       "    </tr>\n",
       "  </tbody>\n",
       "</table>\n",
       "</div>"
      ],
      "text/plain": [
       "            AnimalID   Name  DateTime  OutcomeType  SexuponOutcome  \\\n",
       "AnimalType                                                           \n",
       "Cat            10102  10102     10102        10102           10102   \n",
       "Dog            15510  15510     15510        15510           15510   \n",
       "\n",
       "            AgeuponOutcome  Breed  Color    dow  month    doy  \n",
       "AnimalType                                                     \n",
       "Cat                  10102  10102  10102  10102  10102  10102  \n",
       "Dog                  15510  15510  15510  15510  15510  15510  "
      ]
     },
     "execution_count": 92,
     "metadata": {},
     "output_type": "execute_result"
    }
   ],
   "source": [
    "transformed.groupby('AnimalType').count()"
   ]
  },
  {
   "cell_type": "code",
   "execution_count": 96,
   "metadata": {
    "collapsed": true
   },
   "outputs": [],
   "source": [
    "cat = transformed[transformed['AnimalType']=='Cat']\n",
    "dog = transformed[transformed['AnimalType']=='Dog']"
   ]
  },
  {
   "cell_type": "code",
   "execution_count": 110,
   "metadata": {
    "collapsed": false
   },
   "outputs": [
    {
     "data": {
      "text/html": [
       "<div>\n",
       "<table border=\"1\" class=\"dataframe\">\n",
       "  <thead>\n",
       "    <tr style=\"text-align: right;\">\n",
       "      <th></th>\n",
       "      <th>AnimalID</th>\n",
       "      <th>Name</th>\n",
       "      <th>DateTime</th>\n",
       "      <th>OutcomeType</th>\n",
       "      <th>AnimalType</th>\n",
       "      <th>SexuponOutcome</th>\n",
       "      <th>AgeuponOutcome</th>\n",
       "      <th>Breed</th>\n",
       "      <th>Color</th>\n",
       "      <th>dow</th>\n",
       "      <th>month</th>\n",
       "      <th>doy</th>\n",
       "    </tr>\n",
       "  </thead>\n",
       "  <tbody>\n",
       "    <tr>\n",
       "      <th>1872</th>\n",
       "      <td>A459845</td>\n",
       "      <td>hasName</td>\n",
       "      <td>2014-05-05 13:25:00</td>\n",
       "      <td>Return_to_owner</td>\n",
       "      <td>Cat</td>\n",
       "      <td>Spayed Female</td>\n",
       "      <td>2555</td>\n",
       "      <td>Snowshoe/Ragdoll</td>\n",
       "      <td>Seal Point/White</td>\n",
       "      <td>Mon</td>\n",
       "      <td>May</td>\n",
       "      <td>125</td>\n",
       "    </tr>\n",
       "    <tr>\n",
       "      <th>2356</th>\n",
       "      <td>A682368</td>\n",
       "      <td>noName</td>\n",
       "      <td>2014-06-28 09:00:00</td>\n",
       "      <td>Transfer</td>\n",
       "      <td>Cat</td>\n",
       "      <td>Intact Male</td>\n",
       "      <td>365</td>\n",
       "      <td>Domestic Medium Hair/Siamese</td>\n",
       "      <td>Lynx Point</td>\n",
       "      <td>Sat</td>\n",
       "      <td>June</td>\n",
       "      <td>179</td>\n",
       "    </tr>\n",
       "    <tr>\n",
       "      <th>2843</th>\n",
       "      <td>A701771</td>\n",
       "      <td>hasName</td>\n",
       "      <td>2015-05-20 11:22:00</td>\n",
       "      <td>Transfer</td>\n",
       "      <td>Cat</td>\n",
       "      <td>Spayed Female</td>\n",
       "      <td>730</td>\n",
       "      <td>Siamese/Domestic Shorthair</td>\n",
       "      <td>Lynx Point</td>\n",
       "      <td>Wed</td>\n",
       "      <td>May</td>\n",
       "      <td>140</td>\n",
       "    </tr>\n",
       "    <tr>\n",
       "      <th>3097</th>\n",
       "      <td>A717131</td>\n",
       "      <td>hasName</td>\n",
       "      <td>2015-12-16 13:00:00</td>\n",
       "      <td>Transfer</td>\n",
       "      <td>Cat</td>\n",
       "      <td>Intact Female</td>\n",
       "      <td>60</td>\n",
       "      <td>Domestic Shorthair/Manx</td>\n",
       "      <td>Brown Tabby</td>\n",
       "      <td>Wed</td>\n",
       "      <td>Dec</td>\n",
       "      <td>350</td>\n",
       "    </tr>\n",
       "    <tr>\n",
       "      <th>8352</th>\n",
       "      <td>A668342</td>\n",
       "      <td>hasName</td>\n",
       "      <td>2013-12-08 14:31:00</td>\n",
       "      <td>Transfer</td>\n",
       "      <td>Cat</td>\n",
       "      <td>Neutered Male</td>\n",
       "      <td>60</td>\n",
       "      <td>Siamese/Domestic Shorthair</td>\n",
       "      <td>Lynx Point/Brown Tabby</td>\n",
       "      <td>Sun</td>\n",
       "      <td>Dec</td>\n",
       "      <td>342</td>\n",
       "    </tr>\n",
       "  </tbody>\n",
       "</table>\n",
       "</div>"
      ],
      "text/plain": [
       "     AnimalID     Name            DateTime      OutcomeType AnimalType  \\\n",
       "1872  A459845  hasName 2014-05-05 13:25:00  Return_to_owner        Cat   \n",
       "2356  A682368   noName 2014-06-28 09:00:00         Transfer        Cat   \n",
       "2843  A701771  hasName 2015-05-20 11:22:00         Transfer        Cat   \n",
       "3097  A717131  hasName 2015-12-16 13:00:00         Transfer        Cat   \n",
       "8352  A668342  hasName 2013-12-08 14:31:00         Transfer        Cat   \n",
       "\n",
       "     SexuponOutcome  AgeuponOutcome                         Breed  \\\n",
       "1872  Spayed Female            2555              Snowshoe/Ragdoll   \n",
       "2356    Intact Male             365  Domestic Medium Hair/Siamese   \n",
       "2843  Spayed Female             730    Siamese/Domestic Shorthair   \n",
       "3097  Intact Female              60       Domestic Shorthair/Manx   \n",
       "8352  Neutered Male              60    Siamese/Domestic Shorthair   \n",
       "\n",
       "                       Color  dow month  doy  \n",
       "1872        Seal Point/White  Mon   May  125  \n",
       "2356              Lynx Point  Sat  June  179  \n",
       "2843              Lynx Point  Wed   May  140  \n",
       "3097             Brown Tabby  Wed   Dec  350  \n",
       "8352  Lynx Point/Brown Tabby  Sun   Dec  342  "
      ]
     },
     "execution_count": 110,
     "metadata": {},
     "output_type": "execute_result"
    }
   ],
   "source": [
    "# breed names with \"/\" look like mixed breeds\n",
    "cat[cat['Breed'].apply(lambda breed: \"/\" in breed)].head()"
   ]
  },
  {
   "cell_type": "code",
   "execution_count": 112,
   "metadata": {
    "collapsed": false
   },
   "outputs": [
    {
     "data": {
      "text/html": [
       "<div>\n",
       "<table border=\"1\" class=\"dataframe\">\n",
       "  <thead>\n",
       "    <tr style=\"text-align: right;\">\n",
       "      <th></th>\n",
       "      <th>AnimalID</th>\n",
       "      <th>Name</th>\n",
       "      <th>DateTime</th>\n",
       "      <th>OutcomeType</th>\n",
       "      <th>AnimalType</th>\n",
       "      <th>SexuponOutcome</th>\n",
       "      <th>AgeuponOutcome</th>\n",
       "      <th>Breed</th>\n",
       "      <th>Color</th>\n",
       "      <th>dow</th>\n",
       "      <th>month</th>\n",
       "      <th>doy</th>\n",
       "    </tr>\n",
       "  </thead>\n",
       "  <tbody>\n",
       "    <tr>\n",
       "      <th>1</th>\n",
       "      <td>A656520</td>\n",
       "      <td>hasName</td>\n",
       "      <td>2013-10-13 12:44:00</td>\n",
       "      <td>Euthanasia</td>\n",
       "      <td>Cat</td>\n",
       "      <td>Spayed Female</td>\n",
       "      <td>365</td>\n",
       "      <td>Domestic Shorthair Mix</td>\n",
       "      <td>Cream Tabby</td>\n",
       "      <td>Sun</td>\n",
       "      <td>Oct</td>\n",
       "      <td>286</td>\n",
       "    </tr>\n",
       "    <tr>\n",
       "      <th>3</th>\n",
       "      <td>A683430</td>\n",
       "      <td>noName</td>\n",
       "      <td>2014-07-11 19:09:00</td>\n",
       "      <td>Transfer</td>\n",
       "      <td>Cat</td>\n",
       "      <td>Intact Male</td>\n",
       "      <td>21</td>\n",
       "      <td>Domestic Shorthair Mix</td>\n",
       "      <td>Blue Cream</td>\n",
       "      <td>Fri</td>\n",
       "      <td>July</td>\n",
       "      <td>192</td>\n",
       "    </tr>\n",
       "    <tr>\n",
       "      <th>6</th>\n",
       "      <td>A699218</td>\n",
       "      <td>hasName</td>\n",
       "      <td>2015-03-28 13:11:00</td>\n",
       "      <td>Transfer</td>\n",
       "      <td>Cat</td>\n",
       "      <td>Intact Male</td>\n",
       "      <td>21</td>\n",
       "      <td>Domestic Shorthair Mix</td>\n",
       "      <td>Blue Tabby</td>\n",
       "      <td>Sat</td>\n",
       "      <td>March</td>\n",
       "      <td>87</td>\n",
       "    </tr>\n",
       "    <tr>\n",
       "      <th>13</th>\n",
       "      <td>A678825</td>\n",
       "      <td>hasName</td>\n",
       "      <td>2014-07-12 12:10:00</td>\n",
       "      <td>Adoption</td>\n",
       "      <td>Cat</td>\n",
       "      <td>Neutered Male</td>\n",
       "      <td>90</td>\n",
       "      <td>Domestic Shorthair Mix</td>\n",
       "      <td>Orange Tabby/White</td>\n",
       "      <td>Sat</td>\n",
       "      <td>July</td>\n",
       "      <td>193</td>\n",
       "    </tr>\n",
       "    <tr>\n",
       "      <th>14</th>\n",
       "      <td>A678050</td>\n",
       "      <td>noName</td>\n",
       "      <td>2014-05-03 16:15:00</td>\n",
       "      <td>Transfer</td>\n",
       "      <td>Cat</td>\n",
       "      <td>Intact Male</td>\n",
       "      <td>21</td>\n",
       "      <td>Domestic Shorthair Mix</td>\n",
       "      <td>Brown Tabby</td>\n",
       "      <td>Sat</td>\n",
       "      <td>May</td>\n",
       "      <td>123</td>\n",
       "    </tr>\n",
       "  </tbody>\n",
       "</table>\n",
       "</div>"
      ],
      "text/plain": [
       "   AnimalID     Name            DateTime OutcomeType AnimalType  \\\n",
       "1   A656520  hasName 2013-10-13 12:44:00  Euthanasia        Cat   \n",
       "3   A683430   noName 2014-07-11 19:09:00    Transfer        Cat   \n",
       "6   A699218  hasName 2015-03-28 13:11:00    Transfer        Cat   \n",
       "13  A678825  hasName 2014-07-12 12:10:00    Adoption        Cat   \n",
       "14  A678050   noName 2014-05-03 16:15:00    Transfer        Cat   \n",
       "\n",
       "   SexuponOutcome  AgeuponOutcome                   Breed               Color  \\\n",
       "1   Spayed Female             365  Domestic Shorthair Mix         Cream Tabby   \n",
       "3     Intact Male              21  Domestic Shorthair Mix          Blue Cream   \n",
       "6     Intact Male              21  Domestic Shorthair Mix          Blue Tabby   \n",
       "13  Neutered Male              90  Domestic Shorthair Mix  Orange Tabby/White   \n",
       "14    Intact Male              21  Domestic Shorthair Mix         Brown Tabby   \n",
       "\n",
       "    dow  month  doy  \n",
       "1   Sun    Oct  286  \n",
       "3   Fri   July  192  \n",
       "6   Sat  March   87  \n",
       "13  Sat   July  193  \n",
       "14  Sat    May  123  "
      ]
     },
     "execution_count": 112,
     "metadata": {},
     "output_type": "execute_result"
    }
   ],
   "source": [
    "# breed names with \"Mix\" are presumed to mean mixed breed\n",
    "cat[cat['Breed'].apply(lambda breed: \"Mix\" in breed)].head()"
   ]
  },
  {
   "cell_type": "code",
   "execution_count": 116,
   "metadata": {
    "collapsed": false
   },
   "outputs": [
    {
     "data": {
      "text/html": [
       "<div>\n",
       "<table border=\"1\" class=\"dataframe\">\n",
       "  <thead>\n",
       "    <tr style=\"text-align: right;\">\n",
       "      <th></th>\n",
       "      <th>AnimalID</th>\n",
       "      <th>Name</th>\n",
       "      <th>DateTime</th>\n",
       "      <th>OutcomeType</th>\n",
       "      <th>AnimalType</th>\n",
       "      <th>SexuponOutcome</th>\n",
       "      <th>AgeuponOutcome</th>\n",
       "      <th>Breed</th>\n",
       "      <th>Color</th>\n",
       "      <th>dow</th>\n",
       "      <th>month</th>\n",
       "      <th>doy</th>\n",
       "    </tr>\n",
       "  </thead>\n",
       "  <tbody>\n",
       "    <tr>\n",
       "      <th>718</th>\n",
       "      <td>A669173</td>\n",
       "      <td>noName</td>\n",
       "      <td>2013-12-20 17:52:00</td>\n",
       "      <td>Adoption</td>\n",
       "      <td>Cat</td>\n",
       "      <td>Neutered Male</td>\n",
       "      <td>180</td>\n",
       "      <td>Burmese</td>\n",
       "      <td>Chocolate</td>\n",
       "      <td>Fri</td>\n",
       "      <td>Dec</td>\n",
       "      <td>354</td>\n",
       "    </tr>\n",
       "    <tr>\n",
       "      <th>2325</th>\n",
       "      <td>A701800</td>\n",
       "      <td>noName</td>\n",
       "      <td>2015-05-05 16:38:00</td>\n",
       "      <td>Transfer</td>\n",
       "      <td>Cat</td>\n",
       "      <td>Intact Female</td>\n",
       "      <td>30</td>\n",
       "      <td>Siamese</td>\n",
       "      <td>Lynx Point/White</td>\n",
       "      <td>Tues</td>\n",
       "      <td>May</td>\n",
       "      <td>125</td>\n",
       "    </tr>\n",
       "    <tr>\n",
       "      <th>2820</th>\n",
       "      <td>A708402</td>\n",
       "      <td>noName</td>\n",
       "      <td>2015-07-28 11:29:00</td>\n",
       "      <td>Transfer</td>\n",
       "      <td>Cat</td>\n",
       "      <td>Intact Male</td>\n",
       "      <td>21</td>\n",
       "      <td>Siamese</td>\n",
       "      <td>Seal Point</td>\n",
       "      <td>Tues</td>\n",
       "      <td>July</td>\n",
       "      <td>209</td>\n",
       "    </tr>\n",
       "    <tr>\n",
       "      <th>3031</th>\n",
       "      <td>A677091</td>\n",
       "      <td>hasName</td>\n",
       "      <td>2014-06-29 16:00:00</td>\n",
       "      <td>Adoption</td>\n",
       "      <td>Cat</td>\n",
       "      <td>Spayed Female</td>\n",
       "      <td>120</td>\n",
       "      <td>Siamese</td>\n",
       "      <td>Flame Point</td>\n",
       "      <td>Sun</td>\n",
       "      <td>June</td>\n",
       "      <td>180</td>\n",
       "    </tr>\n",
       "    <tr>\n",
       "      <th>3067</th>\n",
       "      <td>A694791</td>\n",
       "      <td>hasName</td>\n",
       "      <td>2015-01-05 13:01:00</td>\n",
       "      <td>Transfer</td>\n",
       "      <td>Cat</td>\n",
       "      <td>Intact Female</td>\n",
       "      <td>240</td>\n",
       "      <td>Siamese</td>\n",
       "      <td>Lynx Point</td>\n",
       "      <td>Mon</td>\n",
       "      <td>Jan</td>\n",
       "      <td>5</td>\n",
       "    </tr>\n",
       "    <tr>\n",
       "      <th>3433</th>\n",
       "      <td>A665496</td>\n",
       "      <td>hasName</td>\n",
       "      <td>2013-10-22 17:54:00</td>\n",
       "      <td>Adoption</td>\n",
       "      <td>Cat</td>\n",
       "      <td>Neutered Male</td>\n",
       "      <td>1095</td>\n",
       "      <td>Bengal</td>\n",
       "      <td>Brown Tiger</td>\n",
       "      <td>Tues</td>\n",
       "      <td>Oct</td>\n",
       "      <td>295</td>\n",
       "    </tr>\n",
       "    <tr>\n",
       "      <th>3475</th>\n",
       "      <td>A682943</td>\n",
       "      <td>hasName</td>\n",
       "      <td>2014-07-09 16:52:00</td>\n",
       "      <td>Adoption</td>\n",
       "      <td>Cat</td>\n",
       "      <td>Neutered Male</td>\n",
       "      <td>60</td>\n",
       "      <td>Siamese</td>\n",
       "      <td>Lilac Point</td>\n",
       "      <td>Wed</td>\n",
       "      <td>July</td>\n",
       "      <td>190</td>\n",
       "    </tr>\n",
       "    <tr>\n",
       "      <th>4611</th>\n",
       "      <td>A680908</td>\n",
       "      <td>noName</td>\n",
       "      <td>2014-06-15 18:48:00</td>\n",
       "      <td>Adoption</td>\n",
       "      <td>Cat</td>\n",
       "      <td>Spayed Female</td>\n",
       "      <td>60</td>\n",
       "      <td>Siamese</td>\n",
       "      <td>Flame Point</td>\n",
       "      <td>Sun</td>\n",
       "      <td>June</td>\n",
       "      <td>166</td>\n",
       "    </tr>\n",
       "    <tr>\n",
       "      <th>4670</th>\n",
       "      <td>A680909</td>\n",
       "      <td>noName</td>\n",
       "      <td>2014-06-12 17:46:00</td>\n",
       "      <td>Adoption</td>\n",
       "      <td>Cat</td>\n",
       "      <td>Spayed Female</td>\n",
       "      <td>60</td>\n",
       "      <td>Siamese</td>\n",
       "      <td>Flame Point</td>\n",
       "      <td>Thurs</td>\n",
       "      <td>June</td>\n",
       "      <td>163</td>\n",
       "    </tr>\n",
       "    <tr>\n",
       "      <th>4729</th>\n",
       "      <td>A631781</td>\n",
       "      <td>hasName</td>\n",
       "      <td>2014-07-30 17:57:00</td>\n",
       "      <td>Adoption</td>\n",
       "      <td>Cat</td>\n",
       "      <td>Spayed Female</td>\n",
       "      <td>3285</td>\n",
       "      <td>British Shorthair</td>\n",
       "      <td>Orange Tabby/White</td>\n",
       "      <td>Wed</td>\n",
       "      <td>July</td>\n",
       "      <td>211</td>\n",
       "    </tr>\n",
       "    <tr>\n",
       "      <th>5652</th>\n",
       "      <td>A701767</td>\n",
       "      <td>noName</td>\n",
       "      <td>2015-05-05 17:58:00</td>\n",
       "      <td>Adoption</td>\n",
       "      <td>Cat</td>\n",
       "      <td>Neutered Male</td>\n",
       "      <td>30</td>\n",
       "      <td>Siamese</td>\n",
       "      <td>Flame Point</td>\n",
       "      <td>Tues</td>\n",
       "      <td>May</td>\n",
       "      <td>125</td>\n",
       "    </tr>\n",
       "    <tr>\n",
       "      <th>5945</th>\n",
       "      <td>A673321</td>\n",
       "      <td>hasName</td>\n",
       "      <td>2014-03-03 17:03:00</td>\n",
       "      <td>Adoption</td>\n",
       "      <td>Cat</td>\n",
       "      <td>Spayed Female</td>\n",
       "      <td>4380</td>\n",
       "      <td>Siamese</td>\n",
       "      <td>Seal Point</td>\n",
       "      <td>Mon</td>\n",
       "      <td>March</td>\n",
       "      <td>62</td>\n",
       "    </tr>\n",
       "    <tr>\n",
       "      <th>6495</th>\n",
       "      <td>A702635</td>\n",
       "      <td>noName</td>\n",
       "      <td>2015-05-17 15:06:00</td>\n",
       "      <td>Transfer</td>\n",
       "      <td>Cat</td>\n",
       "      <td>Intact Male</td>\n",
       "      <td>21</td>\n",
       "      <td>Siamese</td>\n",
       "      <td>Seal Point</td>\n",
       "      <td>Sun</td>\n",
       "      <td>May</td>\n",
       "      <td>137</td>\n",
       "    </tr>\n",
       "    <tr>\n",
       "      <th>7313</th>\n",
       "      <td>A708893</td>\n",
       "      <td>noName</td>\n",
       "      <td>2015-08-29 18:29:00</td>\n",
       "      <td>Transfer</td>\n",
       "      <td>Cat</td>\n",
       "      <td>Spayed Female</td>\n",
       "      <td>120</td>\n",
       "      <td>Siamese</td>\n",
       "      <td>Lynx Point</td>\n",
       "      <td>Sat</td>\n",
       "      <td>Aug</td>\n",
       "      <td>241</td>\n",
       "    </tr>\n",
       "    <tr>\n",
       "      <th>9260</th>\n",
       "      <td>A699586</td>\n",
       "      <td>hasName</td>\n",
       "      <td>2015-03-30 18:40:00</td>\n",
       "      <td>Return_to_owner</td>\n",
       "      <td>Cat</td>\n",
       "      <td>Intact Male</td>\n",
       "      <td>730</td>\n",
       "      <td>Sphynx</td>\n",
       "      <td>Brown Tabby/White</td>\n",
       "      <td>Mon</td>\n",
       "      <td>March</td>\n",
       "      <td>89</td>\n",
       "    </tr>\n",
       "    <tr>\n",
       "      <th>10795</th>\n",
       "      <td>A680777</td>\n",
       "      <td>hasName</td>\n",
       "      <td>2014-06-17 14:57:00</td>\n",
       "      <td>Adoption</td>\n",
       "      <td>Cat</td>\n",
       "      <td>Neutered Male</td>\n",
       "      <td>730</td>\n",
       "      <td>Sphynx</td>\n",
       "      <td>Tan</td>\n",
       "      <td>Tues</td>\n",
       "      <td>June</td>\n",
       "      <td>168</td>\n",
       "    </tr>\n",
       "    <tr>\n",
       "      <th>10820</th>\n",
       "      <td>A670836</td>\n",
       "      <td>hasName</td>\n",
       "      <td>2014-01-16 10:39:00</td>\n",
       "      <td>Adoption</td>\n",
       "      <td>Cat</td>\n",
       "      <td>Neutered Male</td>\n",
       "      <td>120</td>\n",
       "      <td>Maine Coon</td>\n",
       "      <td>Brown/Black</td>\n",
       "      <td>Thurs</td>\n",
       "      <td>Jan</td>\n",
       "      <td>16</td>\n",
       "    </tr>\n",
       "    <tr>\n",
       "      <th>11107</th>\n",
       "      <td>A679395</td>\n",
       "      <td>hasName</td>\n",
       "      <td>2014-06-15 13:48:00</td>\n",
       "      <td>Adoption</td>\n",
       "      <td>Cat</td>\n",
       "      <td>Spayed Female</td>\n",
       "      <td>60</td>\n",
       "      <td>Himalayan</td>\n",
       "      <td>Flame Point</td>\n",
       "      <td>Sun</td>\n",
       "      <td>June</td>\n",
       "      <td>166</td>\n",
       "    </tr>\n",
       "    <tr>\n",
       "      <th>11282</th>\n",
       "      <td>A702637</td>\n",
       "      <td>hasName</td>\n",
       "      <td>2015-05-17 15:07:00</td>\n",
       "      <td>Transfer</td>\n",
       "      <td>Cat</td>\n",
       "      <td>Intact Male</td>\n",
       "      <td>21</td>\n",
       "      <td>Siamese</td>\n",
       "      <td>Seal Point</td>\n",
       "      <td>Sun</td>\n",
       "      <td>May</td>\n",
       "      <td>137</td>\n",
       "    </tr>\n",
       "    <tr>\n",
       "      <th>11333</th>\n",
       "      <td>A702636</td>\n",
       "      <td>noName</td>\n",
       "      <td>2015-05-17 15:06:00</td>\n",
       "      <td>Transfer</td>\n",
       "      <td>Cat</td>\n",
       "      <td>Intact Male</td>\n",
       "      <td>21</td>\n",
       "      <td>Siamese</td>\n",
       "      <td>Seal Point</td>\n",
       "      <td>Sun</td>\n",
       "      <td>May</td>\n",
       "      <td>137</td>\n",
       "    </tr>\n",
       "  </tbody>\n",
       "</table>\n",
       "</div>"
      ],
      "text/plain": [
       "      AnimalID     Name            DateTime      OutcomeType AnimalType  \\\n",
       "718    A669173   noName 2013-12-20 17:52:00         Adoption        Cat   \n",
       "2325   A701800   noName 2015-05-05 16:38:00         Transfer        Cat   \n",
       "2820   A708402   noName 2015-07-28 11:29:00         Transfer        Cat   \n",
       "3031   A677091  hasName 2014-06-29 16:00:00         Adoption        Cat   \n",
       "3067   A694791  hasName 2015-01-05 13:01:00         Transfer        Cat   \n",
       "3433   A665496  hasName 2013-10-22 17:54:00         Adoption        Cat   \n",
       "3475   A682943  hasName 2014-07-09 16:52:00         Adoption        Cat   \n",
       "4611   A680908   noName 2014-06-15 18:48:00         Adoption        Cat   \n",
       "4670   A680909   noName 2014-06-12 17:46:00         Adoption        Cat   \n",
       "4729   A631781  hasName 2014-07-30 17:57:00         Adoption        Cat   \n",
       "5652   A701767   noName 2015-05-05 17:58:00         Adoption        Cat   \n",
       "5945   A673321  hasName 2014-03-03 17:03:00         Adoption        Cat   \n",
       "6495   A702635   noName 2015-05-17 15:06:00         Transfer        Cat   \n",
       "7313   A708893   noName 2015-08-29 18:29:00         Transfer        Cat   \n",
       "9260   A699586  hasName 2015-03-30 18:40:00  Return_to_owner        Cat   \n",
       "10795  A680777  hasName 2014-06-17 14:57:00         Adoption        Cat   \n",
       "10820  A670836  hasName 2014-01-16 10:39:00         Adoption        Cat   \n",
       "11107  A679395  hasName 2014-06-15 13:48:00         Adoption        Cat   \n",
       "11282  A702637  hasName 2015-05-17 15:07:00         Transfer        Cat   \n",
       "11333  A702636   noName 2015-05-17 15:06:00         Transfer        Cat   \n",
       "\n",
       "      SexuponOutcome  AgeuponOutcome              Breed               Color  \\\n",
       "718    Neutered Male             180            Burmese           Chocolate   \n",
       "2325   Intact Female              30            Siamese    Lynx Point/White   \n",
       "2820     Intact Male              21            Siamese          Seal Point   \n",
       "3031   Spayed Female             120            Siamese         Flame Point   \n",
       "3067   Intact Female             240            Siamese          Lynx Point   \n",
       "3433   Neutered Male            1095             Bengal         Brown Tiger   \n",
       "3475   Neutered Male              60            Siamese         Lilac Point   \n",
       "4611   Spayed Female              60            Siamese         Flame Point   \n",
       "4670   Spayed Female              60            Siamese         Flame Point   \n",
       "4729   Spayed Female            3285  British Shorthair  Orange Tabby/White   \n",
       "5652   Neutered Male              30            Siamese         Flame Point   \n",
       "5945   Spayed Female            4380            Siamese          Seal Point   \n",
       "6495     Intact Male              21            Siamese          Seal Point   \n",
       "7313   Spayed Female             120            Siamese          Lynx Point   \n",
       "9260     Intact Male             730             Sphynx   Brown Tabby/White   \n",
       "10795  Neutered Male             730             Sphynx                 Tan   \n",
       "10820  Neutered Male             120         Maine Coon         Brown/Black   \n",
       "11107  Spayed Female              60          Himalayan         Flame Point   \n",
       "11282    Intact Male              21            Siamese          Seal Point   \n",
       "11333    Intact Male              21            Siamese          Seal Point   \n",
       "\n",
       "         dow  month  doy  \n",
       "718      Fri    Dec  354  \n",
       "2325    Tues    May  125  \n",
       "2820    Tues   July  209  \n",
       "3031     Sun   June  180  \n",
       "3067     Mon    Jan    5  \n",
       "3433    Tues    Oct  295  \n",
       "3475     Wed   July  190  \n",
       "4611     Sun   June  166  \n",
       "4670   Thurs   June  163  \n",
       "4729     Wed   July  211  \n",
       "5652    Tues    May  125  \n",
       "5945     Mon  March   62  \n",
       "6495     Sun    May  137  \n",
       "7313     Sat    Aug  241  \n",
       "9260     Mon  March   89  \n",
       "10795   Tues   June  168  \n",
       "10820  Thurs    Jan   16  \n",
       "11107    Sun   June  166  \n",
       "11282    Sun    May  137  \n",
       "11333    Sun    May  137  "
      ]
     },
     "execution_count": 116,
     "metadata": {},
     "output_type": "execute_result"
    }
   ],
   "source": [
    "# breed names with \"/\" look like mixed\n",
    "cat[cat['Breed'].apply(lambda breed: \"Mix\" not in breed and \"/\" not in breed and \"Domestic\" not in breed)].head(20)"
   ]
  },
  {
   "cell_type": "code",
   "execution_count": 117,
   "metadata": {
    "collapsed": false
   },
   "outputs": [
    {
     "name": "stdout",
     "output_type": "stream",
     "text": [
      "unique cat breeds: 59\n",
      "% mixed breed cats 0.976044347654\n"
     ]
    }
   ],
   "source": [
    "# most cats that end up in the shelter are mixed\n",
    "print \"unique cat breeds:\", len(cat['Breed'].unique())\n",
    "print \"% mixed breed cats\", sum(cat['Breed'].apply(lambda breed: \"Mix\" in breed or \"/\" in breed)) / float(cat.shape[0])"
   ]
  },
  {
   "cell_type": "code",
   "execution_count": 119,
   "metadata": {
    "collapsed": false
   },
   "outputs": [
    {
     "name": "stdout",
     "output_type": "stream",
     "text": [
      " Unique dog breeds: 1319\n",
      "% mixed breed dogs 0.92695035461\n"
     ]
    }
   ],
   "source": [
    "# same w/ dogs; most dogs in the shelter are mixed\n",
    "print \"Unique dog breeds:\", len(dog['Breed'].unique())\n",
    "print \"% mixed breed dogs\", sum(dog['Breed'].apply(lambda breed: \"Mix\" in breed or \"/\" in breed)) / float(dog.shape[0])"
   ]
  },
  {
   "cell_type": "code",
   "execution_count": 120,
   "metadata": {
    "collapsed": false
   },
   "outputs": [
    {
     "name": "stdout",
     "output_type": "stream",
     "text": [
      "% mixed breed animals 0.946314227706\n"
     ]
    }
   ],
   "source": [
    "mixed = transformed['Breed'].apply(lambda breed: \"Mix\" in breed or \"/\" in breed)\n",
    "print \"% mixed breed animals\", float(sum(mixed))/transformed.shape[0]"
   ]
  },
  {
   "cell_type": "code",
   "execution_count": 122,
   "metadata": {
    "collapsed": false
   },
   "outputs": [],
   "source": [
    "# extract mixed vs. pure for Breed\n",
    "transformed['Breed'] = transformed['Breed'].apply(lambda breed: \"Mix\" if \"Mix\" in breed or \"/\" in breed else \"Pure\")"
   ]
  },
  {
   "cell_type": "code",
   "execution_count": 123,
   "metadata": {
    "collapsed": false
   },
   "outputs": [
    {
     "data": {
      "text/plain": [
       "['Mix', 'Pure']"
      ]
     },
     "execution_count": 123,
     "metadata": {},
     "output_type": "execute_result"
    }
   ],
   "source": [
    "# check Breed only has \"mixed\" and \"pure\" as values\n",
    "[breed_type for breed_type in transformed['Breed'].unique()]"
   ]
  },
  {
   "cell_type": "markdown",
   "metadata": {},
   "source": [
    "If a breeds database exists where the characteristics of each breed are explored (i.e. long vs. short hair, demeanor, personality, etc.), we can imply further features about each breed that may have predictive value on the outcome."
   ]
  },
  {
   "cell_type": "markdown",
   "metadata": {},
   "source": [
    "## Drop Color"
   ]
  },
  {
   "cell_type": "code",
   "execution_count": 128,
   "metadata": {
    "collapsed": false
   },
   "outputs": [
    {
     "data": {
      "text/plain": [
       "361"
      ]
     },
     "execution_count": 128,
     "metadata": {},
     "output_type": "execute_result"
    }
   ],
   "source": [
    "# there are too many unique colors\n",
    "# drop Color for now and see how our model performs\n",
    "len(transformed['Color'].unique())"
   ]
  },
  {
   "cell_type": "markdown",
   "metadata": {},
   "source": [
    "## Dummify Categorical Variables"
   ]
  },
  {
   "cell_type": "code",
   "execution_count": 125,
   "metadata": {
    "collapsed": false
   },
   "outputs": [
    {
     "data": {
      "text/plain": [
       "AnimalID                  object\n",
       "Name                      object\n",
       "DateTime          datetime64[ns]\n",
       "OutcomeType               object\n",
       "AnimalType                object\n",
       "SexuponOutcome            object\n",
       "AgeuponOutcome             int64\n",
       "Breed                     object\n",
       "Color                     object\n",
       "dow                       object\n",
       "month                     object\n",
       "doy                        int64\n",
       "dtype: object"
      ]
     },
     "execution_count": 125,
     "metadata": {},
     "output_type": "execute_result"
    }
   ],
   "source": [
    "transformed.dtypes"
   ]
  },
  {
   "cell_type": "code",
   "execution_count": 129,
   "metadata": {
    "collapsed": true
   },
   "outputs": [],
   "source": [
    "categoricals = ['Name', 'AnimalType', 'SexuponOutcome', 'Breed', 'dow', 'month']"
   ]
  },
  {
   "cell_type": "code",
   "execution_count": 144,
   "metadata": {
    "collapsed": false
   },
   "outputs": [],
   "source": [
    "# extract dummy variables\n",
    "final_dframe = pd.get_dummies(transformed, columns=categoricals)"
   ]
  },
  {
   "cell_type": "code",
   "execution_count": 145,
   "metadata": {
    "collapsed": false
   },
   "outputs": [
    {
     "data": {
      "text/html": [
       "<div>\n",
       "<table border=\"1\" class=\"dataframe\">\n",
       "  <thead>\n",
       "    <tr style=\"text-align: right;\">\n",
       "      <th></th>\n",
       "      <th>AnimalID</th>\n",
       "      <th>DateTime</th>\n",
       "      <th>OutcomeType</th>\n",
       "      <th>AgeuponOutcome</th>\n",
       "      <th>Color</th>\n",
       "      <th>doy</th>\n",
       "      <th>Name_hasName</th>\n",
       "      <th>Name_noName</th>\n",
       "      <th>AnimalType_Cat</th>\n",
       "      <th>AnimalType_Dog</th>\n",
       "      <th>...</th>\n",
       "      <th>month_Dec</th>\n",
       "      <th>month_Feb</th>\n",
       "      <th>month_Jan</th>\n",
       "      <th>month_July</th>\n",
       "      <th>month_June</th>\n",
       "      <th>month_March</th>\n",
       "      <th>month_May</th>\n",
       "      <th>month_Nov</th>\n",
       "      <th>month_Oct</th>\n",
       "      <th>month_Sept</th>\n",
       "    </tr>\n",
       "  </thead>\n",
       "  <tbody>\n",
       "    <tr>\n",
       "      <th>0</th>\n",
       "      <td>A671945</td>\n",
       "      <td>2014-02-12 18:22:00</td>\n",
       "      <td>Return_to_owner</td>\n",
       "      <td>365</td>\n",
       "      <td>Brown/White</td>\n",
       "      <td>43</td>\n",
       "      <td>1.0</td>\n",
       "      <td>0.0</td>\n",
       "      <td>0.0</td>\n",
       "      <td>1.0</td>\n",
       "      <td>...</td>\n",
       "      <td>0.0</td>\n",
       "      <td>1.0</td>\n",
       "      <td>0.0</td>\n",
       "      <td>0.0</td>\n",
       "      <td>0.0</td>\n",
       "      <td>0.0</td>\n",
       "      <td>0.0</td>\n",
       "      <td>0.0</td>\n",
       "      <td>0.0</td>\n",
       "      <td>0.0</td>\n",
       "    </tr>\n",
       "    <tr>\n",
       "      <th>1</th>\n",
       "      <td>A656520</td>\n",
       "      <td>2013-10-13 12:44:00</td>\n",
       "      <td>Euthanasia</td>\n",
       "      <td>365</td>\n",
       "      <td>Cream Tabby</td>\n",
       "      <td>286</td>\n",
       "      <td>1.0</td>\n",
       "      <td>0.0</td>\n",
       "      <td>1.0</td>\n",
       "      <td>0.0</td>\n",
       "      <td>...</td>\n",
       "      <td>0.0</td>\n",
       "      <td>0.0</td>\n",
       "      <td>0.0</td>\n",
       "      <td>0.0</td>\n",
       "      <td>0.0</td>\n",
       "      <td>0.0</td>\n",
       "      <td>0.0</td>\n",
       "      <td>0.0</td>\n",
       "      <td>1.0</td>\n",
       "      <td>0.0</td>\n",
       "    </tr>\n",
       "    <tr>\n",
       "      <th>2</th>\n",
       "      <td>A686464</td>\n",
       "      <td>2015-01-31 12:28:00</td>\n",
       "      <td>Adoption</td>\n",
       "      <td>730</td>\n",
       "      <td>Blue/White</td>\n",
       "      <td>31</td>\n",
       "      <td>1.0</td>\n",
       "      <td>0.0</td>\n",
       "      <td>0.0</td>\n",
       "      <td>1.0</td>\n",
       "      <td>...</td>\n",
       "      <td>0.0</td>\n",
       "      <td>0.0</td>\n",
       "      <td>1.0</td>\n",
       "      <td>0.0</td>\n",
       "      <td>0.0</td>\n",
       "      <td>0.0</td>\n",
       "      <td>0.0</td>\n",
       "      <td>0.0</td>\n",
       "      <td>0.0</td>\n",
       "      <td>0.0</td>\n",
       "    </tr>\n",
       "    <tr>\n",
       "      <th>3</th>\n",
       "      <td>A683430</td>\n",
       "      <td>2014-07-11 19:09:00</td>\n",
       "      <td>Transfer</td>\n",
       "      <td>21</td>\n",
       "      <td>Blue Cream</td>\n",
       "      <td>192</td>\n",
       "      <td>0.0</td>\n",
       "      <td>1.0</td>\n",
       "      <td>1.0</td>\n",
       "      <td>0.0</td>\n",
       "      <td>...</td>\n",
       "      <td>0.0</td>\n",
       "      <td>0.0</td>\n",
       "      <td>0.0</td>\n",
       "      <td>1.0</td>\n",
       "      <td>0.0</td>\n",
       "      <td>0.0</td>\n",
       "      <td>0.0</td>\n",
       "      <td>0.0</td>\n",
       "      <td>0.0</td>\n",
       "      <td>0.0</td>\n",
       "    </tr>\n",
       "  </tbody>\n",
       "</table>\n",
       "<p>4 rows × 35 columns</p>\n",
       "</div>"
      ],
      "text/plain": [
       "  AnimalID            DateTime      OutcomeType  AgeuponOutcome        Color  \\\n",
       "0  A671945 2014-02-12 18:22:00  Return_to_owner             365  Brown/White   \n",
       "1  A656520 2013-10-13 12:44:00       Euthanasia             365  Cream Tabby   \n",
       "2  A686464 2015-01-31 12:28:00         Adoption             730   Blue/White   \n",
       "3  A683430 2014-07-11 19:09:00         Transfer              21   Blue Cream   \n",
       "\n",
       "   doy  Name_hasName  Name_noName  AnimalType_Cat  AnimalType_Dog     ...      \\\n",
       "0   43           1.0          0.0             0.0             1.0     ...       \n",
       "1  286           1.0          0.0             1.0             0.0     ...       \n",
       "2   31           1.0          0.0             0.0             1.0     ...       \n",
       "3  192           0.0          1.0             1.0             0.0     ...       \n",
       "\n",
       "   month_Dec  month_Feb  month_Jan  month_July  month_June  month_March  \\\n",
       "0        0.0        1.0        0.0         0.0         0.0          0.0   \n",
       "1        0.0        0.0        0.0         0.0         0.0          0.0   \n",
       "2        0.0        0.0        1.0         0.0         0.0          0.0   \n",
       "3        0.0        0.0        0.0         1.0         0.0          0.0   \n",
       "\n",
       "   month_May  month_Nov  month_Oct  month_Sept  \n",
       "0        0.0        0.0        0.0         0.0  \n",
       "1        0.0        0.0        1.0         0.0  \n",
       "2        0.0        0.0        0.0         0.0  \n",
       "3        0.0        0.0        0.0         0.0  \n",
       "\n",
       "[4 rows x 35 columns]"
      ]
     },
     "execution_count": 145,
     "metadata": {},
     "output_type": "execute_result"
    }
   ],
   "source": [
    "final_dframe.head(4)"
   ]
  },
  {
   "cell_type": "markdown",
   "metadata": {},
   "source": [
    "# Return Final Select Columns"
   ]
  },
  {
   "cell_type": "code",
   "execution_count": 150,
   "metadata": {
    "collapsed": false
   },
   "outputs": [],
   "source": [
    "# take only the columns we want\n",
    "final_dframe = final_dframe.drop(['AnimalID', 'DateTime', 'Color'], axis=1)"
   ]
  },
  {
   "cell_type": "markdown",
   "metadata": {},
   "source": [
    "## Transformation Pipeline"
   ]
  },
  {
   "cell_type": "code",
   "execution_count": 153,
   "metadata": {
    "collapsed": true
   },
   "outputs": [],
   "source": [
    "# transform_df() saved to src folder\n",
    "\n",
    "def transform_df(df):\n",
    "    dframe = df.copy()\n",
    "    \n",
    "    dframe['Name'] = dframe['Name'].apply(lambda name: \"hasName\" if name!=\"noName\" else name)\n",
    "\n",
    "    dframe = dframe.drop('OutcomeSubtype', axis=1)\n",
    "\n",
    "    dframe['AgeuponOutcome'] = dframe['AgeuponOutcome'].apply(age_to_days)\n",
    "    \n",
    "    # create date features\n",
    "    dframe['DateTime'] = pd.to_datetime(dframe['DateTime'])\n",
    "    dframe['dow'] = dframe['DateTime'].apply(lambda dt: dt.dayofweek)\n",
    "    # dframe['dom']= dframe['DateTime'].apply(lambda dt: dt.day) # day of month might be useful\n",
    "    dframe['month'] = dframe['DateTime'].apply(lambda dt: dt.month)\n",
    "    dframe['doy'] = dframe['DateTime'].apply(lambda dt: dt.dayofyear)\n",
    "    \n",
    "    # convert day of week to weekday names\n",
    "    weekdays = ['Mon', 'Tues', 'Wed', 'Thurs', 'Fri', 'Sat', 'Sun']\n",
    "    dframe['dow'] = dframe['dow'].apply(lambda dow: weekdays[dow])\n",
    "    \n",
    "    # convert nominal month to month names\n",
    "    months = {1: 'Jan', 2: 'Feb', 3: 'March', 4: 'April', 5: 'May', 6: \"June\", 7: \"July\",\\\n",
    "           8: 'Aug', 9: 'Sept', 10: \"Oct\", 11: 'Nov', 12: 'Dec'}\n",
    "    dframe['month'] = dframe['month'].apply(lambda month: months[month])\n",
    "    \n",
    "    # extract mixed vs. pure for Breed\n",
    "    dframe['Breed'] = dframe['Breed'].apply(lambda breed: \"Mix\" if \"Mix\" in breed or \"/\" in breed else \"Pure\")\n",
    "    \n",
    "    # get dummies\n",
    "    categoricals = ['Name', 'AnimalType', 'SexuponOutcome', 'Breed', 'dow', 'month']\n",
    "    dframe = pd.get_dummies(dframe, columns=categoricals)\n",
    "\n",
    "    # return only select columns\n",
    "    return dframe.drop(['AnimalID', 'DateTime', 'Color'], axis=1)\n",
    "    "
   ]
  },
  {
   "cell_type": "code",
   "execution_count": 154,
   "metadata": {
    "collapsed": false
   },
   "outputs": [],
   "source": [
    "test_dframe = transform_df(cleaned)"
   ]
  },
  {
   "cell_type": "code",
   "execution_count": 161,
   "metadata": {
    "collapsed": false
   },
   "outputs": [
    {
     "data": {
      "text/plain": [
       "False"
      ]
     },
     "execution_count": 161,
     "metadata": {},
     "output_type": "execute_result"
    }
   ],
   "source": [
    "# any nulls in test_dframe\n",
    "np.any(np.sum(test_dframe.isnull()) > 0)"
   ]
  },
  {
   "cell_type": "code",
   "execution_count": 170,
   "metadata": {
    "collapsed": false
   },
   "outputs": [
    {
     "name": "stdout",
     "output_type": "stream",
     "text": [
      "True\n",
      "(25612, 32)\n",
      "(25612, 32)\n"
     ]
    }
   ],
   "source": [
    "print test_dframe.shape == final_dframe.shape\n",
    "print test_dframe.shape\n",
    "print final_dframe.shape"
   ]
  },
  {
   "cell_type": "code",
   "execution_count": 172,
   "metadata": {
    "collapsed": true
   },
   "outputs": [],
   "source": [
    "## save transformed dataframe\n",
    "#final_dframe.to_csv('data/transformed.csv', index=False)"
   ]
  },
  {
   "cell_type": "markdown",
   "metadata": {},
   "source": [
    "# <center>Further Transformations That May Be Necessary</center>"
   ]
  },
  {
   "cell_type": "markdown",
   "metadata": {},
   "source": [
    "## Encode Labels (Revisit)\n",
    "\n",
    "I'm not sure if we need to encode the labels for the sklearn random forest classifer so I will perform a basic label encoding here just in case we need it."
   ]
  },
  {
   "cell_type": "code",
   "execution_count": 66,
   "metadata": {
    "collapsed": true
   },
   "outputs": [],
   "source": [
    "from sklearn import preprocessing"
   ]
  },
  {
   "cell_type": "code",
   "execution_count": 67,
   "metadata": {
    "collapsed": false
   },
   "outputs": [
    {
     "data": {
      "text/plain": [
       "LabelEncoder()"
      ]
     },
     "execution_count": 67,
     "metadata": {},
     "output_type": "execute_result"
    }
   ],
   "source": [
    "le = preprocessing.LabelEncoder()\n",
    "le.fit(transformed['OutcomeType'])"
   ]
  },
  {
   "cell_type": "code",
   "execution_count": 68,
   "metadata": {
    "collapsed": false
   },
   "outputs": [
    {
     "data": {
      "text/plain": [
       "array(['Adoption', 'Died', 'Euthanasia', 'Return_to_owner', 'Transfer'], dtype=object)"
      ]
     },
     "execution_count": 68,
     "metadata": {},
     "output_type": "execute_result"
    }
   ],
   "source": [
    "le.classes_"
   ]
  },
  {
   "cell_type": "code",
   "execution_count": 69,
   "metadata": {
    "collapsed": false
   },
   "outputs": [],
   "source": [
    "labels = le.transform(transformed['OutcomeType'])\n",
    "# transformed['OutcomeType'] = le.transform(transformed['OutcomeType']) # if encoded labels are needed, use this"
   ]
  },
  {
   "cell_type": "markdown",
   "metadata": {},
   "source": [
    "**Update 2016-07-24:**\n",
    "\n",
    "Scikit Learn classification models like RandomForestClassifier and GradientBoostClassifier both can handle multi-classe"
   ]
  },
  {
   "cell_type": "markdown",
   "metadata": {
    "collapsed": true
   },
   "source": [
    "## Oversampling for Euthanasia and Died (Revisit)\n",
    "\n",
    "I'm not sure if we need to oversample for the outcomes of 'euthanasia' and 'died' until I run a baseline model first and check its precision and recall for performance. I have a function here for outsampling if needed."
   ]
  },
  {
   "cell_type": "code",
   "execution_count": 70,
   "metadata": {
    "collapsed": true
   },
   "outputs": [],
   "source": [
    "def oversample(X, y, target):\n",
    "    \"\"\"\n",
    "    INPUT:\n",
    "    X, y - your data\n",
    "    target - the percentage of positive class \n",
    "             observations in the output\n",
    "    OUTPUT:\n",
    "    X_oversampled, y_oversampled - oversampled data\n",
    "    `oversample` randomly replicates positive observations\n",
    "    in X, y to achieve the target proportion\n",
    "    \"\"\"\n",
    "    if target < sum(y)/float(len(y)):\n",
    "        return X, y\n",
    "    # determine how many new positive observations to generate\n",
    "    positive_count = sum(y)\n",
    "    negative_count = len(y) - positive_count\n",
    "    target_positive_count = target*negative_count / (1. - target)\n",
    "    target_positive_count = int(round(target_positive_count))\n",
    "    number_of_new_observations = target_positive_count - positive_count\n",
    "    # randomly generate new positive observations\n",
    "    positive_obs_indices = np.where(y==1)[0] # np.where returns a tuple containing an array of indices\n",
    "    new_obs_indices = np.random.choice(positive_obs_indices, \n",
    "                                       size=number_of_new_observations, \n",
    "                                       replace=True)\n",
    "    X_new, y_new = X[new_obs_indices], y[new_obs_indices]\n",
    "    X_positive = np.vstack((X[positive_obs_indices], X_new))\n",
    "    y_positive = np.concatenate((y[positive_obs_indices], y_new))\n",
    "    X_negative = X[y==0]\n",
    "    y_negative = y[y==0]\n",
    "    X_oversampled = np.vstack((X_negative, X_positive))\n",
    "    y_oversampled = np.concatenate((y_negative, y_positive))\n",
    "\n",
    "    return X_oversampled, y_oversampled"
   ]
  },
  {
   "cell_type": "code",
   "execution_count": null,
   "metadata": {
    "collapsed": true
   },
   "outputs": [],
   "source": []
  },
  {
   "cell_type": "code",
   "execution_count": null,
   "metadata": {
    "collapsed": true
   },
   "outputs": [],
   "source": []
  },
  {
   "cell_type": "code",
   "execution_count": null,
   "metadata": {
    "collapsed": true
   },
   "outputs": [],
   "source": []
  },
  {
   "cell_type": "code",
   "execution_count": null,
   "metadata": {
    "collapsed": true
   },
   "outputs": [],
   "source": []
  }
 ],
 "metadata": {
  "kernelspec": {
   "display_name": "Python 2",
   "language": "python",
   "name": "python2"
  },
  "language_info": {
   "codemirror_mode": {
    "name": "ipython",
    "version": 2
   },
   "file_extension": ".py",
   "mimetype": "text/x-python",
   "name": "python",
   "nbconvert_exporter": "python",
   "pygments_lexer": "ipython2",
   "version": "2.7.11"
  }
 },
 "nbformat": 4,
 "nbformat_minor": 0
}
